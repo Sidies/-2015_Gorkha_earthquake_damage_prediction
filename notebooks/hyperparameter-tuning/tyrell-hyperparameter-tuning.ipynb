{
 "cells": [
  {
   "cell_type": "markdown",
   "metadata": {},
   "source": [
    "# Hyperparameter Tuning\n",
    "\n",
    "In this notebook, we apply hyperparameter tuning to different estimators."
   ]
  },
  {
   "cell_type": "code",
   "execution_count": 1,
   "metadata": {},
   "outputs": [],
   "source": [
    "import pandas as pd\n",
    "from sklearn.model_selection import GridSearchCV\n",
    "from sklearn.model_selection import RandomizedSearchCV\n",
    "from src.pipelines import build_pipeline\n",
    "from src.pipelines import pipeline_utils\n",
    "from src.pipelines import pipeline_cleaning\n",
    "from sklearn.metrics import precision_score, recall_score, f1_score\n",
    "from sklearn.metrics import make_scorer, matthews_corrcoef\n",
    "from skopt import BayesSearchCV\n",
    "from skopt.space import Categorical, Integer, Real\n",
    "\n",
    "# disable warnings globally\n",
    "import warnings\n",
    "warnings.filterwarnings(\"ignore\")"
   ]
  },
  {
   "cell_type": "markdown",
   "metadata": {},
   "source": [
    "## LGBM"
   ]
  },
  {
   "cell_type": "code",
   "execution_count": 2,
   "metadata": {},
   "outputs": [],
   "source": [
    "# define the test steps for this notebook\n",
    "def add_test_steps(custom_pipeline: build_pipeline.CustomPipeline):    \n",
    "    outlier_remover = pipeline_cleaning.OutlierRemover(cat_threshold=0, zscore_threshold=4)\n",
    "    pipeline_utils.add_outlier_handling(\n",
    "            custom_pipeline=custom_pipeline,\n",
    "            outlier_handling_func=outlier_remover.handle_outliers\n",
    "        )\n",
    "    \n",
    "    # additional feature selection by removing certain columns\n",
    "    pipeline_utils.add_remove_feature_transformer(custom_pipeline, ['age'])\n",
    "    \n",
    "    # discretize numerical features\n",
    "    pipeline_utils.add_kbinsdiscretizer(custom_pipeline, number_of_bins=2)\n",
    "\n",
    "    # add encoder and scaler\n",
    "    pipeline_utils.add_binary_encoder_and_minmaxscaler(custom_pipeline)\n",
    "\n",
    "    # add estimator\n",
    "    #apply_knn_classifier(custom_pipeline, 9)\n",
    "    pipeline_utils.apply_lgbm_classifier(custom_pipeline)"
   ]
  },
  {
   "cell_type": "markdown",
   "metadata": {},
   "source": [
    "Try out GridSearchCV"
   ]
  },
  {
   "cell_type": "code",
   "execution_count": 4,
   "metadata": {},
   "outputs": [
    {
     "name": "stdout",
     "output_type": "stream",
     "text": [
      "loading data\n"
     ]
    }
   ],
   "source": [
    "# Build pipeline\n",
    "pipe = build_pipeline.CustomPipeline(\n",
    "    skip_storing_cleaning=True, \n",
    "    skip_storing_prediction=True, \n",
    "    use_validation_set=True,\n",
    "    use_cross_validation=False)\n",
    "add_test_steps(pipe)"
   ]
  },
  {
   "cell_type": "code",
   "execution_count": 23,
   "metadata": {},
   "outputs": [
    {
     "name": "stdout",
     "output_type": "stream",
     "text": [
      "preparing data\n",
      "running pipeline\n",
      "evaluating pipeline\n",
      "    validation_accuracy: 0.7179 [std=0.]\n",
      "    validation_f1-score: 0.6461 [std=0.]\n",
      "    validation_mcc: 0.4692 [std=0.]\n"
     ]
    }
   ],
   "source": [
    "# run the pipeline once to have the static steps done\n",
    "pipe.run()"
   ]
  },
  {
   "cell_type": "code",
   "execution_count": 28,
   "metadata": {},
   "outputs": [
    {
     "name": "stdout",
     "output_type": "stream",
     "text": [
      "Fitting 2 folds for each of 225 candidates, totalling 450 fits\n"
     ]
    },
    {
     "data": {
      "text/html": [
       "<style>#sk-container-id-6 {color: black;background-color: white;}#sk-container-id-6 pre{padding: 0;}#sk-container-id-6 div.sk-toggleable {background-color: white;}#sk-container-id-6 label.sk-toggleable__label {cursor: pointer;display: block;width: 100%;margin-bottom: 0;padding: 0.3em;box-sizing: border-box;text-align: center;}#sk-container-id-6 label.sk-toggleable__label-arrow:before {content: \"▸\";float: left;margin-right: 0.25em;color: #696969;}#sk-container-id-6 label.sk-toggleable__label-arrow:hover:before {color: black;}#sk-container-id-6 div.sk-estimator:hover label.sk-toggleable__label-arrow:before {color: black;}#sk-container-id-6 div.sk-toggleable__content {max-height: 0;max-width: 0;overflow: hidden;text-align: left;background-color: #f0f8ff;}#sk-container-id-6 div.sk-toggleable__content pre {margin: 0.2em;color: black;border-radius: 0.25em;background-color: #f0f8ff;}#sk-container-id-6 input.sk-toggleable__control:checked~div.sk-toggleable__content {max-height: 200px;max-width: 100%;overflow: auto;}#sk-container-id-6 input.sk-toggleable__control:checked~label.sk-toggleable__label-arrow:before {content: \"▾\";}#sk-container-id-6 div.sk-estimator input.sk-toggleable__control:checked~label.sk-toggleable__label {background-color: #d4ebff;}#sk-container-id-6 div.sk-label input.sk-toggleable__control:checked~label.sk-toggleable__label {background-color: #d4ebff;}#sk-container-id-6 input.sk-hidden--visually {border: 0;clip: rect(1px 1px 1px 1px);clip: rect(1px, 1px, 1px, 1px);height: 1px;margin: -1px;overflow: hidden;padding: 0;position: absolute;width: 1px;}#sk-container-id-6 div.sk-estimator {font-family: monospace;background-color: #f0f8ff;border: 1px dotted black;border-radius: 0.25em;box-sizing: border-box;margin-bottom: 0.5em;}#sk-container-id-6 div.sk-estimator:hover {background-color: #d4ebff;}#sk-container-id-6 div.sk-parallel-item::after {content: \"\";width: 100%;border-bottom: 1px solid gray;flex-grow: 1;}#sk-container-id-6 div.sk-label:hover label.sk-toggleable__label {background-color: #d4ebff;}#sk-container-id-6 div.sk-serial::before {content: \"\";position: absolute;border-left: 1px solid gray;box-sizing: border-box;top: 0;bottom: 0;left: 50%;z-index: 0;}#sk-container-id-6 div.sk-serial {display: flex;flex-direction: column;align-items: center;background-color: white;padding-right: 0.2em;padding-left: 0.2em;position: relative;}#sk-container-id-6 div.sk-item {position: relative;z-index: 1;}#sk-container-id-6 div.sk-parallel {display: flex;align-items: stretch;justify-content: center;background-color: white;position: relative;}#sk-container-id-6 div.sk-item::before, #sk-container-id-6 div.sk-parallel-item::before {content: \"\";position: absolute;border-left: 1px solid gray;box-sizing: border-box;top: 0;bottom: 0;left: 50%;z-index: -1;}#sk-container-id-6 div.sk-parallel-item {display: flex;flex-direction: column;z-index: 1;position: relative;background-color: white;}#sk-container-id-6 div.sk-parallel-item:first-child::after {align-self: flex-end;width: 50%;}#sk-container-id-6 div.sk-parallel-item:last-child::after {align-self: flex-start;width: 50%;}#sk-container-id-6 div.sk-parallel-item:only-child::after {width: 0;}#sk-container-id-6 div.sk-dashed-wrapped {border: 1px dashed gray;margin: 0 0.4em 0.5em 0.4em;box-sizing: border-box;padding-bottom: 0.4em;background-color: white;}#sk-container-id-6 div.sk-label label {font-family: monospace;font-weight: bold;display: inline-block;line-height: 1.2em;}#sk-container-id-6 div.sk-label-container {text-align: center;}#sk-container-id-6 div.sk-container {/* jupyter's `normalize.less` sets `[hidden] { display: none; }` but bootstrap.min.css set `[hidden] { display: none !important; }` so we also need the `!important` here to be able to override the default hidden behavior on the sphinx rendered scikit-learn.org. See: https://github.com/scikit-learn/scikit-learn/issues/21755 */display: inline-block !important;position: relative;}#sk-container-id-6 div.sk-text-repr-fallback {display: none;}</style><div id=\"sk-container-id-6\" class=\"sk-top-container\"><div class=\"sk-text-repr-fallback\"><pre>GridSearchCV(cv=2,\n",
       "             estimator=Pipeline(steps=[(&#x27;outlier_handler&#x27;,\n",
       "                                        FunctionSampler(func=&lt;bound method OutlierRemover.handle_outliers of &lt;src.pipelines.pipeline_cleaning.OutlierRemover object at 0x000001C1AE376CD0&gt;&gt;,\n",
       "                                                        validate=False)),\n",
       "                                       (&#x27;feature_remover&#x27;,\n",
       "                                        RemoveFeatureTransformer(features_to_drop=[&#x27;age&#x27;])),\n",
       "                                       (&#x27;discretizer&#x27;,\n",
       "                                        CustomColumnTransformer(remainder=&#x27;passthro...\n",
       "                                                                               MinMaxScaler(),\n",
       "                                                                               &lt;sklearn.compose._column_transformer.make_column_selector object at 0x000001C1AE46F110&gt;)])),\n",
       "                                       (&#x27;estimator&#x27;, LGBMClassifier())]),\n",
       "             n_jobs=-1,\n",
       "             param_grid={&#x27;estimator__learning_rate&#x27;: [0.1, 0.2, 0.3, 0.4, 0.5],\n",
       "                         &#x27;estimator__max_depth&#x27;: [-1, 2, 3, 4, 5, 6, 7, 8, 9],\n",
       "                         &#x27;estimator__n_estimators&#x27;: [100, 200, 300, 400, 500]},\n",
       "             scoring=make_scorer(matthews_corrcoef), verbose=10)</pre><b>In a Jupyter environment, please rerun this cell to show the HTML representation or trust the notebook. <br />On GitHub, the HTML representation is unable to render, please try loading this page with nbviewer.org.</b></div><div class=\"sk-container\" hidden><div class=\"sk-item sk-dashed-wrapped\"><div class=\"sk-label-container\"><div class=\"sk-label sk-toggleable\"><input class=\"sk-toggleable__control sk-hidden--visually\" id=\"sk-estimator-id-106\" type=\"checkbox\" ><label for=\"sk-estimator-id-106\" class=\"sk-toggleable__label sk-toggleable__label-arrow\">GridSearchCV</label><div class=\"sk-toggleable__content\"><pre>GridSearchCV(cv=2,\n",
       "             estimator=Pipeline(steps=[(&#x27;outlier_handler&#x27;,\n",
       "                                        FunctionSampler(func=&lt;bound method OutlierRemover.handle_outliers of &lt;src.pipelines.pipeline_cleaning.OutlierRemover object at 0x000001C1AE376CD0&gt;&gt;,\n",
       "                                                        validate=False)),\n",
       "                                       (&#x27;feature_remover&#x27;,\n",
       "                                        RemoveFeatureTransformer(features_to_drop=[&#x27;age&#x27;])),\n",
       "                                       (&#x27;discretizer&#x27;,\n",
       "                                        CustomColumnTransformer(remainder=&#x27;passthro...\n",
       "                                                                               MinMaxScaler(),\n",
       "                                                                               &lt;sklearn.compose._column_transformer.make_column_selector object at 0x000001C1AE46F110&gt;)])),\n",
       "                                       (&#x27;estimator&#x27;, LGBMClassifier())]),\n",
       "             n_jobs=-1,\n",
       "             param_grid={&#x27;estimator__learning_rate&#x27;: [0.1, 0.2, 0.3, 0.4, 0.5],\n",
       "                         &#x27;estimator__max_depth&#x27;: [-1, 2, 3, 4, 5, 6, 7, 8, 9],\n",
       "                         &#x27;estimator__n_estimators&#x27;: [100, 200, 300, 400, 500]},\n",
       "             scoring=make_scorer(matthews_corrcoef), verbose=10)</pre></div></div></div><div class=\"sk-parallel\"><div class=\"sk-parallel-item\"><div class=\"sk-item\"><div class=\"sk-label-container\"><div class=\"sk-label sk-toggleable\"><input class=\"sk-toggleable__control sk-hidden--visually\" id=\"sk-estimator-id-107\" type=\"checkbox\" ><label for=\"sk-estimator-id-107\" class=\"sk-toggleable__label sk-toggleable__label-arrow\">estimator: Pipeline</label><div class=\"sk-toggleable__content\"><pre>Pipeline(steps=[(&#x27;outlier_handler&#x27;,\n",
       "                 FunctionSampler(func=&lt;bound method OutlierRemover.handle_outliers of &lt;src.pipelines.pipeline_cleaning.OutlierRemover object at 0x000001C1AE376CD0&gt;&gt;,\n",
       "                                 validate=False)),\n",
       "                (&#x27;feature_remover&#x27;,\n",
       "                 RemoveFeatureTransformer(features_to_drop=[&#x27;age&#x27;])),\n",
       "                (&#x27;discretizer&#x27;,\n",
       "                 CustomColumnTransformer(remainder=&#x27;passthrough&#x27;,\n",
       "                                         transformers=[(&#x27;bins&#x27;,\n",
       "                                                        K...\n",
       "                                                        &lt;sklearn.compose._column_transformer.make_column_selector object at 0x000001C1AF2AC210&gt;)])),\n",
       "                (&#x27;encoder_and_scaler&#x27;,\n",
       "                 CustomColumnTransformer(remainder=&#x27;passthrough&#x27;,\n",
       "                                         transformers=[(&#x27;encoder&#x27;,\n",
       "                                                        BinaryEncoder(),\n",
       "                                                        &lt;sklearn.compose._column_transformer.make_column_selector object at 0x000001C1AE0E90D0&gt;),\n",
       "                                                       (&#x27;scaler&#x27;,\n",
       "                                                        MinMaxScaler(),\n",
       "                                                        &lt;sklearn.compose._column_transformer.make_column_selector object at 0x000001C1AE46F110&gt;)])),\n",
       "                (&#x27;estimator&#x27;, LGBMClassifier())])</pre></div></div></div><div class=\"sk-serial\"><div class=\"sk-item\"><div class=\"sk-serial\"><div class=\"sk-item\"><div class=\"sk-estimator sk-toggleable\"><input class=\"sk-toggleable__control sk-hidden--visually\" id=\"sk-estimator-id-108\" type=\"checkbox\" ><label for=\"sk-estimator-id-108\" class=\"sk-toggleable__label sk-toggleable__label-arrow\">FunctionSampler</label><div class=\"sk-toggleable__content\"><pre>FunctionSampler(func=&lt;bound method OutlierRemover.handle_outliers of &lt;src.pipelines.pipeline_cleaning.OutlierRemover object at 0x000001C1AE376CD0&gt;&gt;,\n",
       "                validate=False)</pre></div></div></div><div class=\"sk-item\"><div class=\"sk-estimator sk-toggleable\"><input class=\"sk-toggleable__control sk-hidden--visually\" id=\"sk-estimator-id-109\" type=\"checkbox\" ><label for=\"sk-estimator-id-109\" class=\"sk-toggleable__label sk-toggleable__label-arrow\">RemoveFeatureTransformer</label><div class=\"sk-toggleable__content\"><pre>RemoveFeatureTransformer(features_to_drop=[&#x27;age&#x27;])</pre></div></div></div><div class=\"sk-item sk-dashed-wrapped\"><div class=\"sk-label-container\"><div class=\"sk-label sk-toggleable\"><input class=\"sk-toggleable__control sk-hidden--visually\" id=\"sk-estimator-id-110\" type=\"checkbox\" ><label for=\"sk-estimator-id-110\" class=\"sk-toggleable__label sk-toggleable__label-arrow\">discretizer: CustomColumnTransformer</label><div class=\"sk-toggleable__content\"><pre>CustomColumnTransformer(remainder=&#x27;passthrough&#x27;,\n",
       "                        transformers=[(&#x27;bins&#x27;,\n",
       "                                       KBinsDiscretizer(encode=&#x27;ordinal&#x27;,\n",
       "                                                        n_bins=2,\n",
       "                                                        strategy=&#x27;uniform&#x27;),\n",
       "                                       &lt;sklearn.compose._column_transformer.make_column_selector object at 0x000001C1AE519D50&gt;),\n",
       "                                      (&#x27;dummy_numerical&#x27;, DummyTransformer(),\n",
       "                                       &lt;sklearn.compose._column_transformer.make_column_selector object at 0x000001C1AF2AC990&gt;),\n",
       "                                      (&#x27;dummy_categorical&#x27;, DummyTransformer(),\n",
       "                                       &lt;sklearn.compose._column_transformer.make_column_selector object at 0x000001C1AF2AC210&gt;)])</pre></div></div></div><div class=\"sk-parallel\"><div class=\"sk-parallel-item\"><div class=\"sk-item\"><div class=\"sk-label-container\"><div class=\"sk-label sk-toggleable\"><input class=\"sk-toggleable__control sk-hidden--visually\" id=\"sk-estimator-id-111\" type=\"checkbox\" ><label for=\"sk-estimator-id-111\" class=\"sk-toggleable__label sk-toggleable__label-arrow\">bins</label><div class=\"sk-toggleable__content\"><pre>&lt;sklearn.compose._column_transformer.make_column_selector object at 0x000001C1AE519D50&gt;</pre></div></div></div><div class=\"sk-serial\"><div class=\"sk-item\"><div class=\"sk-estimator sk-toggleable\"><input class=\"sk-toggleable__control sk-hidden--visually\" id=\"sk-estimator-id-112\" type=\"checkbox\" ><label for=\"sk-estimator-id-112\" class=\"sk-toggleable__label sk-toggleable__label-arrow\">KBinsDiscretizer</label><div class=\"sk-toggleable__content\"><pre>KBinsDiscretizer(encode=&#x27;ordinal&#x27;, n_bins=2, strategy=&#x27;uniform&#x27;)</pre></div></div></div></div></div></div><div class=\"sk-parallel-item\"><div class=\"sk-item\"><div class=\"sk-label-container\"><div class=\"sk-label sk-toggleable\"><input class=\"sk-toggleable__control sk-hidden--visually\" id=\"sk-estimator-id-113\" type=\"checkbox\" ><label for=\"sk-estimator-id-113\" class=\"sk-toggleable__label sk-toggleable__label-arrow\">dummy_numerical</label><div class=\"sk-toggleable__content\"><pre>&lt;sklearn.compose._column_transformer.make_column_selector object at 0x000001C1AF2AC990&gt;</pre></div></div></div><div class=\"sk-serial\"><div class=\"sk-item\"><div class=\"sk-estimator sk-toggleable\"><input class=\"sk-toggleable__control sk-hidden--visually\" id=\"sk-estimator-id-114\" type=\"checkbox\" ><label for=\"sk-estimator-id-114\" class=\"sk-toggleable__label sk-toggleable__label-arrow\">DummyTransformer</label><div class=\"sk-toggleable__content\"><pre>DummyTransformer()</pre></div></div></div></div></div></div><div class=\"sk-parallel-item\"><div class=\"sk-item\"><div class=\"sk-label-container\"><div class=\"sk-label sk-toggleable\"><input class=\"sk-toggleable__control sk-hidden--visually\" id=\"sk-estimator-id-115\" type=\"checkbox\" ><label for=\"sk-estimator-id-115\" class=\"sk-toggleable__label sk-toggleable__label-arrow\">dummy_categorical</label><div class=\"sk-toggleable__content\"><pre>&lt;sklearn.compose._column_transformer.make_column_selector object at 0x000001C1AF2AC210&gt;</pre></div></div></div><div class=\"sk-serial\"><div class=\"sk-item\"><div class=\"sk-estimator sk-toggleable\"><input class=\"sk-toggleable__control sk-hidden--visually\" id=\"sk-estimator-id-116\" type=\"checkbox\" ><label for=\"sk-estimator-id-116\" class=\"sk-toggleable__label sk-toggleable__label-arrow\">DummyTransformer</label><div class=\"sk-toggleable__content\"><pre>DummyTransformer()</pre></div></div></div></div></div></div><div class=\"sk-parallel-item\"><div class=\"sk-item\"><div class=\"sk-label-container\"><div class=\"sk-label sk-toggleable\"><input class=\"sk-toggleable__control sk-hidden--visually\" id=\"sk-estimator-id-117\" type=\"checkbox\" ><label for=\"sk-estimator-id-117\" class=\"sk-toggleable__label sk-toggleable__label-arrow\">remainder</label><div class=\"sk-toggleable__content\"><pre>[]</pre></div></div></div><div class=\"sk-serial\"><div class=\"sk-item\"><div class=\"sk-estimator sk-toggleable\"><input class=\"sk-toggleable__control sk-hidden--visually\" id=\"sk-estimator-id-118\" type=\"checkbox\" ><label for=\"sk-estimator-id-118\" class=\"sk-toggleable__label sk-toggleable__label-arrow\">passthrough</label><div class=\"sk-toggleable__content\"><pre>passthrough</pre></div></div></div></div></div></div></div></div><div class=\"sk-item sk-dashed-wrapped\"><div class=\"sk-label-container\"><div class=\"sk-label sk-toggleable\"><input class=\"sk-toggleable__control sk-hidden--visually\" id=\"sk-estimator-id-119\" type=\"checkbox\" ><label for=\"sk-estimator-id-119\" class=\"sk-toggleable__label sk-toggleable__label-arrow\">encoder_and_scaler: CustomColumnTransformer</label><div class=\"sk-toggleable__content\"><pre>CustomColumnTransformer(remainder=&#x27;passthrough&#x27;,\n",
       "                        transformers=[(&#x27;encoder&#x27;, BinaryEncoder(),\n",
       "                                       &lt;sklearn.compose._column_transformer.make_column_selector object at 0x000001C1AE0E90D0&gt;),\n",
       "                                      (&#x27;scaler&#x27;, MinMaxScaler(),\n",
       "                                       &lt;sklearn.compose._column_transformer.make_column_selector object at 0x000001C1AE46F110&gt;)])</pre></div></div></div><div class=\"sk-parallel\"><div class=\"sk-parallel-item\"><div class=\"sk-item\"><div class=\"sk-label-container\"><div class=\"sk-label sk-toggleable\"><input class=\"sk-toggleable__control sk-hidden--visually\" id=\"sk-estimator-id-120\" type=\"checkbox\" ><label for=\"sk-estimator-id-120\" class=\"sk-toggleable__label sk-toggleable__label-arrow\">encoder</label><div class=\"sk-toggleable__content\"><pre>&lt;sklearn.compose._column_transformer.make_column_selector object at 0x000001C1AE0E90D0&gt;</pre></div></div></div><div class=\"sk-serial\"><div class=\"sk-item\"><div class=\"sk-estimator sk-toggleable\"><input class=\"sk-toggleable__control sk-hidden--visually\" id=\"sk-estimator-id-121\" type=\"checkbox\" ><label for=\"sk-estimator-id-121\" class=\"sk-toggleable__label sk-toggleable__label-arrow\">BinaryEncoder</label><div class=\"sk-toggleable__content\"><pre>BinaryEncoder()</pre></div></div></div></div></div></div><div class=\"sk-parallel-item\"><div class=\"sk-item\"><div class=\"sk-label-container\"><div class=\"sk-label sk-toggleable\"><input class=\"sk-toggleable__control sk-hidden--visually\" id=\"sk-estimator-id-122\" type=\"checkbox\" ><label for=\"sk-estimator-id-122\" class=\"sk-toggleable__label sk-toggleable__label-arrow\">scaler</label><div class=\"sk-toggleable__content\"><pre>&lt;sklearn.compose._column_transformer.make_column_selector object at 0x000001C1AE46F110&gt;</pre></div></div></div><div class=\"sk-serial\"><div class=\"sk-item\"><div class=\"sk-estimator sk-toggleable\"><input class=\"sk-toggleable__control sk-hidden--visually\" id=\"sk-estimator-id-123\" type=\"checkbox\" ><label for=\"sk-estimator-id-123\" class=\"sk-toggleable__label sk-toggleable__label-arrow\">MinMaxScaler</label><div class=\"sk-toggleable__content\"><pre>MinMaxScaler()</pre></div></div></div></div></div></div><div class=\"sk-parallel-item\"><div class=\"sk-item\"><div class=\"sk-label-container\"><div class=\"sk-label sk-toggleable\"><input class=\"sk-toggleable__control sk-hidden--visually\" id=\"sk-estimator-id-124\" type=\"checkbox\" ><label for=\"sk-estimator-id-124\" class=\"sk-toggleable__label sk-toggleable__label-arrow\">remainder</label><div class=\"sk-toggleable__content\"><pre>[]</pre></div></div></div><div class=\"sk-serial\"><div class=\"sk-item\"><div class=\"sk-estimator sk-toggleable\"><input class=\"sk-toggleable__control sk-hidden--visually\" id=\"sk-estimator-id-125\" type=\"checkbox\" ><label for=\"sk-estimator-id-125\" class=\"sk-toggleable__label sk-toggleable__label-arrow\">passthrough</label><div class=\"sk-toggleable__content\"><pre>passthrough</pre></div></div></div></div></div></div></div></div><div class=\"sk-item\"><div class=\"sk-estimator sk-toggleable\"><input class=\"sk-toggleable__control sk-hidden--visually\" id=\"sk-estimator-id-126\" type=\"checkbox\" ><label for=\"sk-estimator-id-126\" class=\"sk-toggleable__label sk-toggleable__label-arrow\">LGBMClassifier</label><div class=\"sk-toggleable__content\"><pre>LGBMClassifier()</pre></div></div></div></div></div></div></div></div></div></div></div></div>"
      ],
      "text/plain": [
       "GridSearchCV(cv=2,\n",
       "             estimator=Pipeline(steps=[('outlier_handler',\n",
       "                                        FunctionSampler(func=<bound method OutlierRemover.handle_outliers of <src.pipelines.pipeline_cleaning.OutlierRemover object at 0x000001C1AE376CD0>>,\n",
       "                                                        validate=False)),\n",
       "                                       ('feature_remover',\n",
       "                                        RemoveFeatureTransformer(features_to_drop=['age'])),\n",
       "                                       ('discretizer',\n",
       "                                        CustomColumnTransformer(remainder='passthro...\n",
       "                                                                               MinMaxScaler(),\n",
       "                                                                               <sklearn.compose._column_transformer.make_column_selector object at 0x000001C1AE46F110>)])),\n",
       "                                       ('estimator', LGBMClassifier())]),\n",
       "             n_jobs=-1,\n",
       "             param_grid={'estimator__learning_rate': [0.1, 0.2, 0.3, 0.4, 0.5],\n",
       "                         'estimator__max_depth': [-1, 2, 3, 4, 5, 6, 7, 8, 9],\n",
       "                         'estimator__n_estimators': [100, 200, 300, 400, 500]},\n",
       "             scoring=make_scorer(matthews_corrcoef), verbose=10)"
      ]
     },
     "execution_count": 28,
     "metadata": {},
     "output_type": "execute_result"
    }
   ],
   "source": [
    "param_grid = {\n",
    "    'estimator__n_estimators': [100, 200, 300, 400, 500],\n",
    "    'estimator__learning_rate': [0.1, 0.2, 0.3, 0.4, 0.5],\n",
    "    'estimator__max_depth': [-1, 2, 3, 4, 5, 6, 7, 8, 9]\n",
    "}\n",
    "\n",
    "# Perform grid search cross-validation\n",
    "grid_search = GridSearchCV(\n",
    "    estimator=pipe.get_pipeline(),\n",
    "    param_grid=param_grid,\n",
    "    scoring=make_scorer(matthews_corrcoef),\n",
    "    cv=2,\n",
    "    n_jobs=-1,\n",
    "    verbose=10\n",
    ")\n",
    "\n",
    "# Fit the grid search to the training data\n",
    "grid_search.fit(pipe.X_train, pipe.y_train)"
   ]
  },
  {
   "cell_type": "code",
   "execution_count": 30,
   "metadata": {},
   "outputs": [
    {
     "name": "stdout",
     "output_type": "stream",
     "text": [
      "Best MCC score: 0.5007491382398774\n",
      "Best parameters: {'estimator__learning_rate': 0.3, 'estimator__max_depth': -1, 'estimator__n_estimators': 400}\n"
     ]
    }
   ],
   "source": [
    "# Get the best model from the grid search\n",
    "best_model = grid_search.best_estimator_\n",
    "\n",
    "# Evaluate the best model on the test set\n",
    "y_pred = best_model.predict(pipe.X_val)\n",
    "\n",
    "# Print the best MCC score\n",
    "best_score = grid_search.best_score_\n",
    "print(\"Best MCC score:\", best_score)\n",
    "\n",
    "# Print the best parameters\n",
    "best_params = grid_search.best_params_\n",
    "print(\"Best parameters:\", best_params)"
   ]
  },
  {
   "cell_type": "markdown",
   "metadata": {},
   "source": [
    "Let us get the cross validated performances of the tuned and not tuned models."
   ]
  },
  {
   "cell_type": "code",
   "execution_count": 3,
   "metadata": {},
   "outputs": [
    {
     "name": "stdout",
     "output_type": "stream",
     "text": [
      "loading data\n",
      "preparing data\n",
      "running pipeline\n",
      "evaluating pipeline\n",
      "    fit_time: 13.5341 [std=1.2449]\n",
      "    score_time: 1.2355 [std=0.1053]\n",
      "    cv_accuracy: 0.712 [std=0.0029]\n",
      "    cv_f1-score: 0.6413 [std=0.003]\n",
      "    cv_mcc: 0.457 [std=0.0056]\n",
      "    validation_accuracy: 0.7099 [std=0.]\n",
      "    validation_f1-score: 0.6359 [std=0.]\n",
      "    validation_mcc: 0.452 [std=0.]\n"
     ]
    }
   ],
   "source": [
    "# Build pipeline\n",
    "pipe = build_pipeline.CustomPipeline(\n",
    "    skip_storing_cleaning=True, \n",
    "    skip_storing_prediction=True, \n",
    "    use_validation_set=True,\n",
    "    use_cross_validation=True)\n",
    "add_test_steps(pipe)\n",
    "\n",
    "pipe.run()"
   ]
  },
  {
   "cell_type": "code",
   "execution_count": 4,
   "metadata": {},
   "outputs": [
    {
     "name": "stdout",
     "output_type": "stream",
     "text": [
      "loading data\n",
      "preparing data\n",
      "running pipeline\n",
      "evaluating pipeline\n",
      "    fit_time: 22.4414 [std=1.3748]\n",
      "    score_time: 2.254 [std=0.2994]\n",
      "    cv_accuracy: 0.7378 [std=0.0019]\n",
      "    cv_f1-score: 0.6829 [std=0.0024]\n",
      "    cv_mcc: 0.5124 [std=0.0035]\n",
      "    validation_accuracy: 0.7423 [std=0.]\n",
      "    validation_f1-score: 0.6899 [std=0.]\n",
      "    validation_mcc: 0.52 [std=0.]\n"
     ]
    }
   ],
   "source": [
    "# Build pipeline\n",
    "pipe = build_pipeline.CustomPipeline(\n",
    "    skip_storing_cleaning=True, \n",
    "    skip_storing_prediction=True, \n",
    "    use_validation_set=True,\n",
    "    use_cross_validation=True)\n",
    "add_test_steps(pipe)\n",
    "pipeline_utils.apply_partly_tuned_lgbm_classifier(pipe)\n",
    "\n",
    "pipe.run()"
   ]
  },
  {
   "cell_type": "code",
   "execution_count": 5,
   "metadata": {},
   "outputs": [
    {
     "name": "stdout",
     "output_type": "stream",
     "text": [
      "loading data\n",
      "preparing data\n",
      "running pipeline\n",
      "[LightGBM] [Warning] lambda_l1 is set=0.5, reg_alpha=0.0 will be ignored. Current value: lambda_l1=0.5\n",
      "[LightGBM] [Warning] bagging_fraction is set=0.7, subsample=1.0 will be ignored. Current value: bagging_fraction=0.7\n",
      "evaluating pipeline\n",
      "[LightGBM] [Warning] lambda_l1 is set=0.5, reg_alpha=0.0 will be ignored. Current value: lambda_l1=0.5\n",
      "[LightGBM] [Warning] bagging_fraction is set=0.7, subsample=1.0 will be ignored. Current value: bagging_fraction=0.7\n",
      "[LightGBM] [Warning] lambda_l1 is set=0.5, reg_alpha=0.0 will be ignored. Current value: lambda_l1=0.5\n",
      "[LightGBM] [Warning] bagging_fraction is set=0.7, subsample=1.0 will be ignored. Current value: bagging_fraction=0.7\n",
      "[LightGBM] [Warning] lambda_l1 is set=0.5, reg_alpha=0.0 will be ignored. Current value: lambda_l1=0.5\n",
      "[LightGBM] [Warning] bagging_fraction is set=0.7, subsample=1.0 will be ignored. Current value: bagging_fraction=0.7\n",
      "[LightGBM] [Warning] lambda_l1 is set=0.5, reg_alpha=0.0 will be ignored. Current value: lambda_l1=0.5\n",
      "[LightGBM] [Warning] bagging_fraction is set=0.7, subsample=1.0 will be ignored. Current value: bagging_fraction=0.7\n",
      "    fit_time: 23.383 [std=1.52]\n",
      "    score_time: 2.3453 [std=0.2771]\n",
      "    cv_accuracy: 0.7395 [std=0.0011]\n",
      "    cv_f1-score: 0.6875 [std=0.0017]\n",
      "    cv_mcc: 0.5164 [std=0.0021]\n",
      "    validation_accuracy: 0.7415 [std=0.]\n",
      "    validation_f1-score: 0.6891 [std=0.]\n",
      "    validation_mcc: 0.5199 [std=0.]\n"
     ]
    }
   ],
   "source": [
    "# Build pipeline\n",
    "pipe = build_pipeline.CustomPipeline(\n",
    "    skip_storing_cleaning=True, \n",
    "    skip_storing_prediction=True, \n",
    "    use_validation_set=True,\n",
    "    use_cross_validation=True)\n",
    "add_test_steps(pipe)\n",
    "pipeline_utils.apply_tuned_lgbm_classifier(pipe)\n",
    "\n",
    "pipe.run()"
   ]
  },
  {
   "cell_type": "markdown",
   "metadata": {},
   "source": [
    "## KNN\n",
    "\n",
    "Try out GridSearchCV for KNN:"
   ]
  },
  {
   "cell_type": "code",
   "execution_count": 2,
   "metadata": {},
   "outputs": [],
   "source": [
    "# define the test steps for this notebook\n",
    "def add_test_steps(custom_pipeline: build_pipeline.CustomPipeline):    \n",
    "    outlier_remover = pipeline_cleaning.OutlierRemover(cat_threshold=0, zscore_threshold=4)\n",
    "    pipeline_utils.add_outlier_handling(\n",
    "            custom_pipeline=custom_pipeline,\n",
    "            outlier_handling_func=outlier_remover.handle_outliers\n",
    "        )\n",
    "    \n",
    "    # additional feature selection by removing certain columns\n",
    "    pipeline_utils.add_remove_feature_transformer(custom_pipeline, ['age', 'position'])\n",
    "\n",
    "    # discretize numerical features\n",
    "    pipeline_utils.add_kbinsdiscretizer(custom_pipeline, number_of_bins=2)\n",
    "\n",
    "    # add encoder and scaler\n",
    "    pipeline_utils.add_binary_encoder_and_minmaxscaler(custom_pipeline)\n",
    "    # add estimator\n",
    "    pipeline_utils.apply_knn_classifier(custom_pipeline, 9, 'uniform', 1)\n",
    "    #pipeline_utils.apply_lgbm_classifier(custom_pipeline)"
   ]
  },
  {
   "cell_type": "code",
   "execution_count": 3,
   "metadata": {},
   "outputs": [
    {
     "name": "stdout",
     "output_type": "stream",
     "text": [
      "loading data\n"
     ]
    }
   ],
   "source": [
    "# Build pipeline\n",
    "pipe = build_pipeline.CustomPipeline(\n",
    "    skip_storing_cleaning=True, \n",
    "    skip_storing_prediction=True, \n",
    "    use_validation_set=True,\n",
    "    use_cross_validation=False)\n",
    "add_test_steps(pipe)"
   ]
  },
  {
   "cell_type": "code",
   "execution_count": 4,
   "metadata": {},
   "outputs": [
    {
     "name": "stdout",
     "output_type": "stream",
     "text": [
      "preparing data\n",
      "running pipeline\n",
      "evaluating pipeline\n",
      "    validation_accuracy: 0.7323 [std=0.]\n",
      "    validation_f1-score: 0.6802 [std=0.]\n",
      "    validation_mcc: 0.5065 [std=0.]\n"
     ]
    }
   ],
   "source": [
    "# run the pipeline once to have the static steps done\n",
    "pipe.run()"
   ]
  },
  {
   "cell_type": "code",
   "execution_count": 5,
   "metadata": {},
   "outputs": [
    {
     "name": "stdout",
     "output_type": "stream",
     "text": [
      "Fitting 2 folds for each of 12 candidates, totalling 24 fits\n"
     ]
    },
    {
     "data": {
      "text/html": [
       "<style>#sk-container-id-1 {color: black;background-color: white;}#sk-container-id-1 pre{padding: 0;}#sk-container-id-1 div.sk-toggleable {background-color: white;}#sk-container-id-1 label.sk-toggleable__label {cursor: pointer;display: block;width: 100%;margin-bottom: 0;padding: 0.3em;box-sizing: border-box;text-align: center;}#sk-container-id-1 label.sk-toggleable__label-arrow:before {content: \"▸\";float: left;margin-right: 0.25em;color: #696969;}#sk-container-id-1 label.sk-toggleable__label-arrow:hover:before {color: black;}#sk-container-id-1 div.sk-estimator:hover label.sk-toggleable__label-arrow:before {color: black;}#sk-container-id-1 div.sk-toggleable__content {max-height: 0;max-width: 0;overflow: hidden;text-align: left;background-color: #f0f8ff;}#sk-container-id-1 div.sk-toggleable__content pre {margin: 0.2em;color: black;border-radius: 0.25em;background-color: #f0f8ff;}#sk-container-id-1 input.sk-toggleable__control:checked~div.sk-toggleable__content {max-height: 200px;max-width: 100%;overflow: auto;}#sk-container-id-1 input.sk-toggleable__control:checked~label.sk-toggleable__label-arrow:before {content: \"▾\";}#sk-container-id-1 div.sk-estimator input.sk-toggleable__control:checked~label.sk-toggleable__label {background-color: #d4ebff;}#sk-container-id-1 div.sk-label input.sk-toggleable__control:checked~label.sk-toggleable__label {background-color: #d4ebff;}#sk-container-id-1 input.sk-hidden--visually {border: 0;clip: rect(1px 1px 1px 1px);clip: rect(1px, 1px, 1px, 1px);height: 1px;margin: -1px;overflow: hidden;padding: 0;position: absolute;width: 1px;}#sk-container-id-1 div.sk-estimator {font-family: monospace;background-color: #f0f8ff;border: 1px dotted black;border-radius: 0.25em;box-sizing: border-box;margin-bottom: 0.5em;}#sk-container-id-1 div.sk-estimator:hover {background-color: #d4ebff;}#sk-container-id-1 div.sk-parallel-item::after {content: \"\";width: 100%;border-bottom: 1px solid gray;flex-grow: 1;}#sk-container-id-1 div.sk-label:hover label.sk-toggleable__label {background-color: #d4ebff;}#sk-container-id-1 div.sk-serial::before {content: \"\";position: absolute;border-left: 1px solid gray;box-sizing: border-box;top: 0;bottom: 0;left: 50%;z-index: 0;}#sk-container-id-1 div.sk-serial {display: flex;flex-direction: column;align-items: center;background-color: white;padding-right: 0.2em;padding-left: 0.2em;position: relative;}#sk-container-id-1 div.sk-item {position: relative;z-index: 1;}#sk-container-id-1 div.sk-parallel {display: flex;align-items: stretch;justify-content: center;background-color: white;position: relative;}#sk-container-id-1 div.sk-item::before, #sk-container-id-1 div.sk-parallel-item::before {content: \"\";position: absolute;border-left: 1px solid gray;box-sizing: border-box;top: 0;bottom: 0;left: 50%;z-index: -1;}#sk-container-id-1 div.sk-parallel-item {display: flex;flex-direction: column;z-index: 1;position: relative;background-color: white;}#sk-container-id-1 div.sk-parallel-item:first-child::after {align-self: flex-end;width: 50%;}#sk-container-id-1 div.sk-parallel-item:last-child::after {align-self: flex-start;width: 50%;}#sk-container-id-1 div.sk-parallel-item:only-child::after {width: 0;}#sk-container-id-1 div.sk-dashed-wrapped {border: 1px dashed gray;margin: 0 0.4em 0.5em 0.4em;box-sizing: border-box;padding-bottom: 0.4em;background-color: white;}#sk-container-id-1 div.sk-label label {font-family: monospace;font-weight: bold;display: inline-block;line-height: 1.2em;}#sk-container-id-1 div.sk-label-container {text-align: center;}#sk-container-id-1 div.sk-container {/* jupyter's `normalize.less` sets `[hidden] { display: none; }` but bootstrap.min.css set `[hidden] { display: none !important; }` so we also need the `!important` here to be able to override the default hidden behavior on the sphinx rendered scikit-learn.org. See: https://github.com/scikit-learn/scikit-learn/issues/21755 */display: inline-block !important;position: relative;}#sk-container-id-1 div.sk-text-repr-fallback {display: none;}</style><div id=\"sk-container-id-1\" class=\"sk-top-container\"><div class=\"sk-text-repr-fallback\"><pre>GridSearchCV(cv=2,\n",
       "             estimator=Pipeline(steps=[(&#x27;outlier_handler&#x27;,\n",
       "                                        FunctionSampler(func=&lt;bound method OutlierRemover.handle_outliers of &lt;src.pipelines.pipeline_cleaning.OutlierRemover object at 0x000001C5415954B0&gt;&gt;,\n",
       "                                                        validate=False)),\n",
       "                                       (&#x27;feature_remover&#x27;,\n",
       "                                        RemoveFeatureTransformer(features_to_drop=[&#x27;age&#x27;,\n",
       "                                                                                   &#x27;position&#x27;])),\n",
       "                                       (&#x27;discretizer&#x27;,\n",
       "                                        CustomColumnTransformer(remainde...\n",
       "                                                                               &lt;sklearn.compose._column_transformer.make_column_selector object at 0x000001C53FD7BE80&gt;),\n",
       "                                                                              (&#x27;scaler&#x27;,\n",
       "                                                                               MinMaxScaler(),\n",
       "                                                                               &lt;sklearn.compose._column_transformer.make_column_selector object at 0x000001C53FD797B0&gt;)])),\n",
       "                                       (&#x27;estimator&#x27;,\n",
       "                                        KNeighborsClassifier(n_neighbors=9,\n",
       "                                                             p=1))]),\n",
       "             n_jobs=-1,\n",
       "             param_grid={&#x27;estimator__n_neighbors&#x27;: [7, 9, 12],\n",
       "                         &#x27;estimator__p&#x27;: [1, 2],\n",
       "                         &#x27;estimator__weights&#x27;: [&#x27;uniform&#x27;, &#x27;distance&#x27;]},\n",
       "             scoring=make_scorer(matthews_corrcoef), verbose=10)</pre><b>In a Jupyter environment, please rerun this cell to show the HTML representation or trust the notebook. <br />On GitHub, the HTML representation is unable to render, please try loading this page with nbviewer.org.</b></div><div class=\"sk-container\" hidden><div class=\"sk-item sk-dashed-wrapped\"><div class=\"sk-label-container\"><div class=\"sk-label sk-toggleable\"><input class=\"sk-toggleable__control sk-hidden--visually\" id=\"sk-estimator-id-1\" type=\"checkbox\" ><label for=\"sk-estimator-id-1\" class=\"sk-toggleable__label sk-toggleable__label-arrow\">GridSearchCV</label><div class=\"sk-toggleable__content\"><pre>GridSearchCV(cv=2,\n",
       "             estimator=Pipeline(steps=[(&#x27;outlier_handler&#x27;,\n",
       "                                        FunctionSampler(func=&lt;bound method OutlierRemover.handle_outliers of &lt;src.pipelines.pipeline_cleaning.OutlierRemover object at 0x000001C5415954B0&gt;&gt;,\n",
       "                                                        validate=False)),\n",
       "                                       (&#x27;feature_remover&#x27;,\n",
       "                                        RemoveFeatureTransformer(features_to_drop=[&#x27;age&#x27;,\n",
       "                                                                                   &#x27;position&#x27;])),\n",
       "                                       (&#x27;discretizer&#x27;,\n",
       "                                        CustomColumnTransformer(remainde...\n",
       "                                                                               &lt;sklearn.compose._column_transformer.make_column_selector object at 0x000001C53FD7BE80&gt;),\n",
       "                                                                              (&#x27;scaler&#x27;,\n",
       "                                                                               MinMaxScaler(),\n",
       "                                                                               &lt;sklearn.compose._column_transformer.make_column_selector object at 0x000001C53FD797B0&gt;)])),\n",
       "                                       (&#x27;estimator&#x27;,\n",
       "                                        KNeighborsClassifier(n_neighbors=9,\n",
       "                                                             p=1))]),\n",
       "             n_jobs=-1,\n",
       "             param_grid={&#x27;estimator__n_neighbors&#x27;: [7, 9, 12],\n",
       "                         &#x27;estimator__p&#x27;: [1, 2],\n",
       "                         &#x27;estimator__weights&#x27;: [&#x27;uniform&#x27;, &#x27;distance&#x27;]},\n",
       "             scoring=make_scorer(matthews_corrcoef), verbose=10)</pre></div></div></div><div class=\"sk-parallel\"><div class=\"sk-parallel-item\"><div class=\"sk-item\"><div class=\"sk-label-container\"><div class=\"sk-label sk-toggleable\"><input class=\"sk-toggleable__control sk-hidden--visually\" id=\"sk-estimator-id-2\" type=\"checkbox\" ><label for=\"sk-estimator-id-2\" class=\"sk-toggleable__label sk-toggleable__label-arrow\">estimator: Pipeline</label><div class=\"sk-toggleable__content\"><pre>Pipeline(steps=[(&#x27;outlier_handler&#x27;,\n",
       "                 FunctionSampler(func=&lt;bound method OutlierRemover.handle_outliers of &lt;src.pipelines.pipeline_cleaning.OutlierRemover object at 0x000001C5415954B0&gt;&gt;,\n",
       "                                 validate=False)),\n",
       "                (&#x27;feature_remover&#x27;,\n",
       "                 RemoveFeatureTransformer(features_to_drop=[&#x27;age&#x27;,\n",
       "                                                            &#x27;position&#x27;])),\n",
       "                (&#x27;discretizer&#x27;,\n",
       "                 CustomColumnTransformer(remainder=&#x27;passthrough&#x27;,\n",
       "                                         transformers...\n",
       "                (&#x27;encoder_and_scaler&#x27;,\n",
       "                 CustomColumnTransformer(remainder=&#x27;passthrough&#x27;,\n",
       "                                         transformers=[(&#x27;encoder&#x27;,\n",
       "                                                        BinaryEncoder(),\n",
       "                                                        &lt;sklearn.compose._column_transformer.make_column_selector object at 0x000001C53FD7BE80&gt;),\n",
       "                                                       (&#x27;scaler&#x27;,\n",
       "                                                        MinMaxScaler(),\n",
       "                                                        &lt;sklearn.compose._column_transformer.make_column_selector object at 0x000001C53FD797B0&gt;)])),\n",
       "                (&#x27;estimator&#x27;, KNeighborsClassifier(n_neighbors=9, p=1))])</pre></div></div></div><div class=\"sk-serial\"><div class=\"sk-item\"><div class=\"sk-serial\"><div class=\"sk-item\"><div class=\"sk-estimator sk-toggleable\"><input class=\"sk-toggleable__control sk-hidden--visually\" id=\"sk-estimator-id-3\" type=\"checkbox\" ><label for=\"sk-estimator-id-3\" class=\"sk-toggleable__label sk-toggleable__label-arrow\">FunctionSampler</label><div class=\"sk-toggleable__content\"><pre>FunctionSampler(func=&lt;bound method OutlierRemover.handle_outliers of &lt;src.pipelines.pipeline_cleaning.OutlierRemover object at 0x000001C5415954B0&gt;&gt;,\n",
       "                validate=False)</pre></div></div></div><div class=\"sk-item\"><div class=\"sk-estimator sk-toggleable\"><input class=\"sk-toggleable__control sk-hidden--visually\" id=\"sk-estimator-id-4\" type=\"checkbox\" ><label for=\"sk-estimator-id-4\" class=\"sk-toggleable__label sk-toggleable__label-arrow\">RemoveFeatureTransformer</label><div class=\"sk-toggleable__content\"><pre>RemoveFeatureTransformer(features_to_drop=[&#x27;age&#x27;, &#x27;position&#x27;])</pre></div></div></div><div class=\"sk-item sk-dashed-wrapped\"><div class=\"sk-label-container\"><div class=\"sk-label sk-toggleable\"><input class=\"sk-toggleable__control sk-hidden--visually\" id=\"sk-estimator-id-5\" type=\"checkbox\" ><label for=\"sk-estimator-id-5\" class=\"sk-toggleable__label sk-toggleable__label-arrow\">discretizer: CustomColumnTransformer</label><div class=\"sk-toggleable__content\"><pre>CustomColumnTransformer(remainder=&#x27;passthrough&#x27;,\n",
       "                        transformers=[(&#x27;bins&#x27;,\n",
       "                                       KBinsDiscretizer(encode=&#x27;ordinal&#x27;,\n",
       "                                                        n_bins=2,\n",
       "                                                        strategy=&#x27;uniform&#x27;),\n",
       "                                       &lt;sklearn.compose._column_transformer.make_column_selector object at 0x000001C53FD79690&gt;),\n",
       "                                      (&#x27;dummy_numerical&#x27;, DummyTransformer(),\n",
       "                                       &lt;sklearn.compose._column_transformer.make_column_selector object at 0x000001C53FD7BE20&gt;),\n",
       "                                      (&#x27;dummy_categorical&#x27;, DummyTransformer(),\n",
       "                                       &lt;sklearn.compose._column_transformer.make_column_selector object at 0x000001C53FD78F70&gt;)])</pre></div></div></div><div class=\"sk-parallel\"><div class=\"sk-parallel-item\"><div class=\"sk-item\"><div class=\"sk-label-container\"><div class=\"sk-label sk-toggleable\"><input class=\"sk-toggleable__control sk-hidden--visually\" id=\"sk-estimator-id-6\" type=\"checkbox\" ><label for=\"sk-estimator-id-6\" class=\"sk-toggleable__label sk-toggleable__label-arrow\">bins</label><div class=\"sk-toggleable__content\"><pre>&lt;sklearn.compose._column_transformer.make_column_selector object at 0x000001C53FD79690&gt;</pre></div></div></div><div class=\"sk-serial\"><div class=\"sk-item\"><div class=\"sk-estimator sk-toggleable\"><input class=\"sk-toggleable__control sk-hidden--visually\" id=\"sk-estimator-id-7\" type=\"checkbox\" ><label for=\"sk-estimator-id-7\" class=\"sk-toggleable__label sk-toggleable__label-arrow\">KBinsDiscretizer</label><div class=\"sk-toggleable__content\"><pre>KBinsDiscretizer(encode=&#x27;ordinal&#x27;, n_bins=2, strategy=&#x27;uniform&#x27;)</pre></div></div></div></div></div></div><div class=\"sk-parallel-item\"><div class=\"sk-item\"><div class=\"sk-label-container\"><div class=\"sk-label sk-toggleable\"><input class=\"sk-toggleable__control sk-hidden--visually\" id=\"sk-estimator-id-8\" type=\"checkbox\" ><label for=\"sk-estimator-id-8\" class=\"sk-toggleable__label sk-toggleable__label-arrow\">dummy_numerical</label><div class=\"sk-toggleable__content\"><pre>&lt;sklearn.compose._column_transformer.make_column_selector object at 0x000001C53FD7BE20&gt;</pre></div></div></div><div class=\"sk-serial\"><div class=\"sk-item\"><div class=\"sk-estimator sk-toggleable\"><input class=\"sk-toggleable__control sk-hidden--visually\" id=\"sk-estimator-id-9\" type=\"checkbox\" ><label for=\"sk-estimator-id-9\" class=\"sk-toggleable__label sk-toggleable__label-arrow\">DummyTransformer</label><div class=\"sk-toggleable__content\"><pre>DummyTransformer()</pre></div></div></div></div></div></div><div class=\"sk-parallel-item\"><div class=\"sk-item\"><div class=\"sk-label-container\"><div class=\"sk-label sk-toggleable\"><input class=\"sk-toggleable__control sk-hidden--visually\" id=\"sk-estimator-id-10\" type=\"checkbox\" ><label for=\"sk-estimator-id-10\" class=\"sk-toggleable__label sk-toggleable__label-arrow\">dummy_categorical</label><div class=\"sk-toggleable__content\"><pre>&lt;sklearn.compose._column_transformer.make_column_selector object at 0x000001C53FD78F70&gt;</pre></div></div></div><div class=\"sk-serial\"><div class=\"sk-item\"><div class=\"sk-estimator sk-toggleable\"><input class=\"sk-toggleable__control sk-hidden--visually\" id=\"sk-estimator-id-11\" type=\"checkbox\" ><label for=\"sk-estimator-id-11\" class=\"sk-toggleable__label sk-toggleable__label-arrow\">DummyTransformer</label><div class=\"sk-toggleable__content\"><pre>DummyTransformer()</pre></div></div></div></div></div></div><div class=\"sk-parallel-item\"><div class=\"sk-item\"><div class=\"sk-label-container\"><div class=\"sk-label sk-toggleable\"><input class=\"sk-toggleable__control sk-hidden--visually\" id=\"sk-estimator-id-12\" type=\"checkbox\" ><label for=\"sk-estimator-id-12\" class=\"sk-toggleable__label sk-toggleable__label-arrow\">remainder</label><div class=\"sk-toggleable__content\"><pre>[]</pre></div></div></div><div class=\"sk-serial\"><div class=\"sk-item\"><div class=\"sk-estimator sk-toggleable\"><input class=\"sk-toggleable__control sk-hidden--visually\" id=\"sk-estimator-id-13\" type=\"checkbox\" ><label for=\"sk-estimator-id-13\" class=\"sk-toggleable__label sk-toggleable__label-arrow\">passthrough</label><div class=\"sk-toggleable__content\"><pre>passthrough</pre></div></div></div></div></div></div></div></div><div class=\"sk-item sk-dashed-wrapped\"><div class=\"sk-label-container\"><div class=\"sk-label sk-toggleable\"><input class=\"sk-toggleable__control sk-hidden--visually\" id=\"sk-estimator-id-14\" type=\"checkbox\" ><label for=\"sk-estimator-id-14\" class=\"sk-toggleable__label sk-toggleable__label-arrow\">encoder_and_scaler: CustomColumnTransformer</label><div class=\"sk-toggleable__content\"><pre>CustomColumnTransformer(remainder=&#x27;passthrough&#x27;,\n",
       "                        transformers=[(&#x27;encoder&#x27;, BinaryEncoder(),\n",
       "                                       &lt;sklearn.compose._column_transformer.make_column_selector object at 0x000001C53FD7BE80&gt;),\n",
       "                                      (&#x27;scaler&#x27;, MinMaxScaler(),\n",
       "                                       &lt;sklearn.compose._column_transformer.make_column_selector object at 0x000001C53FD797B0&gt;)])</pre></div></div></div><div class=\"sk-parallel\"><div class=\"sk-parallel-item\"><div class=\"sk-item\"><div class=\"sk-label-container\"><div class=\"sk-label sk-toggleable\"><input class=\"sk-toggleable__control sk-hidden--visually\" id=\"sk-estimator-id-15\" type=\"checkbox\" ><label for=\"sk-estimator-id-15\" class=\"sk-toggleable__label sk-toggleable__label-arrow\">encoder</label><div class=\"sk-toggleable__content\"><pre>&lt;sklearn.compose._column_transformer.make_column_selector object at 0x000001C53FD7BE80&gt;</pre></div></div></div><div class=\"sk-serial\"><div class=\"sk-item\"><div class=\"sk-estimator sk-toggleable\"><input class=\"sk-toggleable__control sk-hidden--visually\" id=\"sk-estimator-id-16\" type=\"checkbox\" ><label for=\"sk-estimator-id-16\" class=\"sk-toggleable__label sk-toggleable__label-arrow\">BinaryEncoder</label><div class=\"sk-toggleable__content\"><pre>BinaryEncoder()</pre></div></div></div></div></div></div><div class=\"sk-parallel-item\"><div class=\"sk-item\"><div class=\"sk-label-container\"><div class=\"sk-label sk-toggleable\"><input class=\"sk-toggleable__control sk-hidden--visually\" id=\"sk-estimator-id-17\" type=\"checkbox\" ><label for=\"sk-estimator-id-17\" class=\"sk-toggleable__label sk-toggleable__label-arrow\">scaler</label><div class=\"sk-toggleable__content\"><pre>&lt;sklearn.compose._column_transformer.make_column_selector object at 0x000001C53FD797B0&gt;</pre></div></div></div><div class=\"sk-serial\"><div class=\"sk-item\"><div class=\"sk-estimator sk-toggleable\"><input class=\"sk-toggleable__control sk-hidden--visually\" id=\"sk-estimator-id-18\" type=\"checkbox\" ><label for=\"sk-estimator-id-18\" class=\"sk-toggleable__label sk-toggleable__label-arrow\">MinMaxScaler</label><div class=\"sk-toggleable__content\"><pre>MinMaxScaler()</pre></div></div></div></div></div></div><div class=\"sk-parallel-item\"><div class=\"sk-item\"><div class=\"sk-label-container\"><div class=\"sk-label sk-toggleable\"><input class=\"sk-toggleable__control sk-hidden--visually\" id=\"sk-estimator-id-19\" type=\"checkbox\" ><label for=\"sk-estimator-id-19\" class=\"sk-toggleable__label sk-toggleable__label-arrow\">remainder</label><div class=\"sk-toggleable__content\"><pre>[]</pre></div></div></div><div class=\"sk-serial\"><div class=\"sk-item\"><div class=\"sk-estimator sk-toggleable\"><input class=\"sk-toggleable__control sk-hidden--visually\" id=\"sk-estimator-id-20\" type=\"checkbox\" ><label for=\"sk-estimator-id-20\" class=\"sk-toggleable__label sk-toggleable__label-arrow\">passthrough</label><div class=\"sk-toggleable__content\"><pre>passthrough</pre></div></div></div></div></div></div></div></div><div class=\"sk-item\"><div class=\"sk-estimator sk-toggleable\"><input class=\"sk-toggleable__control sk-hidden--visually\" id=\"sk-estimator-id-21\" type=\"checkbox\" ><label for=\"sk-estimator-id-21\" class=\"sk-toggleable__label sk-toggleable__label-arrow\">KNeighborsClassifier</label><div class=\"sk-toggleable__content\"><pre>KNeighborsClassifier(n_neighbors=9, p=1)</pre></div></div></div></div></div></div></div></div></div></div></div></div>"
      ],
      "text/plain": [
       "GridSearchCV(cv=2,\n",
       "             estimator=Pipeline(steps=[('outlier_handler',\n",
       "                                        FunctionSampler(func=<bound method OutlierRemover.handle_outliers of <src.pipelines.pipeline_cleaning.OutlierRemover object at 0x000001C5415954B0>>,\n",
       "                                                        validate=False)),\n",
       "                                       ('feature_remover',\n",
       "                                        RemoveFeatureTransformer(features_to_drop=['age',\n",
       "                                                                                   'position'])),\n",
       "                                       ('discretizer',\n",
       "                                        CustomColumnTransformer(remainde...\n",
       "                                                                               <sklearn.compose._column_transformer.make_column_selector object at 0x000001C53FD7BE80>),\n",
       "                                                                              ('scaler',\n",
       "                                                                               MinMaxScaler(),\n",
       "                                                                               <sklearn.compose._column_transformer.make_column_selector object at 0x000001C53FD797B0>)])),\n",
       "                                       ('estimator',\n",
       "                                        KNeighborsClassifier(n_neighbors=9,\n",
       "                                                             p=1))]),\n",
       "             n_jobs=-1,\n",
       "             param_grid={'estimator__n_neighbors': [7, 9, 12],\n",
       "                         'estimator__p': [1, 2],\n",
       "                         'estimator__weights': ['uniform', 'distance']},\n",
       "             scoring=make_scorer(matthews_corrcoef), verbose=10)"
      ]
     },
     "execution_count": 5,
     "metadata": {},
     "output_type": "execute_result"
    }
   ],
   "source": [
    "param_grid = {\n",
    "    \"estimator__n_neighbors\": [7, 9, 12],\n",
    "    \"estimator__weights\": [\"uniform\", \"distance\"],\n",
    "    \"estimator__p\": [\n",
    "        1,\n",
    "        2,\n",
    "    ],\n",
    "}\n",
    "\n",
    "\n",
    "# Perform grid search cross-validation\n",
    "grid_search = GridSearchCV(\n",
    "    estimator=pipe.get_pipeline(),\n",
    "    param_grid=param_grid,\n",
    "    scoring=make_scorer(matthews_corrcoef),\n",
    "    cv=2,\n",
    "    n_jobs=-1,\n",
    "    verbose=10,\n",
    ")\n",
    "\n",
    "# Fit the grid search to the training data\n",
    "grid_search.fit(pipe.X_train, pipe.y_train)"
   ]
  },
  {
   "cell_type": "code",
   "execution_count": 6,
   "metadata": {},
   "outputs": [
    {
     "name": "stdout",
     "output_type": "stream",
     "text": [
      "Best MCC score: 0.4851473098350467\n",
      "Best parameters: {'estimator__n_neighbors': 9, 'estimator__p': 1, 'estimator__weights': 'uniform'}\n"
     ]
    }
   ],
   "source": [
    "# Get the best model from the grid search\n",
    "best_model = grid_search.best_estimator_\n",
    "\n",
    "# Evaluate the best model on the test set\n",
    "y_pred = best_model.predict(pipe.X_val)\n",
    "\n",
    "# Print the best MCC score\n",
    "best_score = grid_search.best_score_\n",
    "print(\"Best MCC score:\", best_score)\n",
    "\n",
    "# Print the best parameters\n",
    "best_params = grid_search.best_params_\n",
    "print(\"Best parameters:\", best_params)"
   ]
  },
  {
   "cell_type": "markdown",
   "metadata": {},
   "source": [
    "GridSearch for KNN after removing position and age doesn't lead to improvement regarding MCC. MCC dropped a little bit to 0.48"
   ]
  },
  {
   "cell_type": "markdown",
   "metadata": {},
   "source": [
    "Let us get the cross validated performances of the tuned and not tuned models."
   ]
  },
  {
   "cell_type": "code",
   "execution_count": 3,
   "metadata": {},
   "outputs": [
    {
     "name": "stdout",
     "output_type": "stream",
     "text": [
      "loading data\n",
      "preparing data\n",
      "running pipeline\n",
      "evaluating pipeline\n",
      "    fit_time: 7.5837 [std=0.6334]\n",
      "    score_time: 41.2043 [std=4.29]\n",
      "    cv_accuracy: 0.7179 [std=0.0018]\n",
      "    cv_f1-score: 0.6687 [std=0.0025]\n",
      "    cv_mcc: 0.4833 [std=0.0034]\n",
      "    validation_accuracy: 0.7156 [std=0.]\n",
      "    validation_f1-score: 0.6689 [std=0.]\n",
      "    validation_mcc: 0.4792 [std=0.]\n"
     ]
    }
   ],
   "source": [
    "# Build pipeline\n",
    "pipe = build_pipeline.CustomPipeline(\n",
    "    skip_storing_cleaning=True, \n",
    "    skip_storing_prediction=True, \n",
    "    use_validation_set=True,\n",
    "    use_cross_validation=True)\n",
    "add_test_steps(pipe)\n",
    "pipeline_utils.apply_default_knn_classifier(pipe)\n",
    "\n",
    "pipe.run()"
   ]
  },
  {
   "cell_type": "code",
   "execution_count": 4,
   "metadata": {},
   "outputs": [
    {
     "name": "stdout",
     "output_type": "stream",
     "text": [
      "loading data\n",
      "preparing data\n",
      "running pipeline\n",
      "evaluating pipeline\n",
      "    fit_time: 8.2333 [std=1.0919]\n",
      "    score_time: 242.5973 [std=3.3116]\n",
      "    cv_accuracy: 0.7264 [std=0.0009]\n",
      "    cv_f1-score: 0.6746 [std=0.0017]\n",
      "    cv_mcc: 0.4954 [std=0.0018]\n",
      "    validation_accuracy: 0.7273 [std=0.]\n",
      "    validation_f1-score: 0.6746 [std=0.]\n",
      "    validation_mcc: 0.4968 [std=0.]\n"
     ]
    }
   ],
   "source": [
    "# Build pipeline\n",
    "pipe = build_pipeline.CustomPipeline(\n",
    "    skip_storing_cleaning=True, \n",
    "    skip_storing_prediction=True, \n",
    "    use_validation_set=True,\n",
    "    use_cross_validation=True)\n",
    "add_test_steps(pipe)\n",
    "pipeline_utils.apply_tuned_knn_classifier(pipe)\n",
    "\n",
    "pipe.run()"
   ]
  },
  {
   "cell_type": "markdown",
   "metadata": {},
   "source": [
    "## RandomForestClassifier\n",
    "\n",
    "In this section, we will run a hyperparameter tuning with a RandomForestClassifier as estimator."
   ]
  },
  {
   "cell_type": "code",
   "execution_count": 5,
   "metadata": {},
   "outputs": [],
   "source": [
    "# define the test steps for this notebook\n",
    "def add_test_steps(custom_pipeline: build_pipeline.CustomPipeline):    \n",
    "    outlier_remover = pipeline_cleaning.OutlierRemover(cat_threshold=0, zscore_threshold=4)\n",
    "    pipeline_utils.add_outlier_handling(\n",
    "            custom_pipeline=custom_pipeline,\n",
    "            outlier_handling_func=outlier_remover.handle_outliers\n",
    "        )\n",
    "    \n",
    "    # additional feature selection by removing certain columns\n",
    "    pipeline_utils.add_remove_feature_transformer(custom_pipeline, ['age', 'position'])\n",
    "\n",
    "    # discretize numerical features\n",
    "    pipeline_utils.add_kbinsdiscretizer(custom_pipeline, number_of_bins=2)\n",
    "\n",
    "    # add encoder and scaler\n",
    "    pipeline_utils.add_binary_encoder_and_minmaxscaler(custom_pipeline)\n",
    "    # add estimator\n",
    "    pipeline_utils.apply_randomforest_classifier(custom_pipeline)"
   ]
  },
  {
   "cell_type": "code",
   "execution_count": 6,
   "metadata": {},
   "outputs": [
    {
     "name": "stdout",
     "output_type": "stream",
     "text": [
      "loading data\n"
     ]
    }
   ],
   "source": [
    "# Build pipeline\n",
    "pipe = build_pipeline.CustomPipeline(\n",
    "    skip_storing_cleaning=True, \n",
    "    skip_storing_prediction=True, \n",
    "    use_validation_set=True,\n",
    "    use_cross_validation=False)\n",
    "add_test_steps(pipe)"
   ]
  },
  {
   "cell_type": "code",
   "execution_count": 13,
   "metadata": {
    "scrolled": true
   },
   "outputs": [
    {
     "name": "stdout",
     "output_type": "stream",
     "text": [
      "preparing data\n",
      "running pipeline\n",
      "evaluating pipeline\n",
      "    validation_accuracy: 0.7303 [std=0.]\n",
      "    validation_f1-score: 0.6794 [std=0.]\n",
      "    validation_mcc: 0.5028 [std=0.]\n"
     ]
    }
   ],
   "source": [
    "# run the pipeline once to have the static steps done\n",
    "pipe.run()"
   ]
  },
  {
   "cell_type": "code",
   "execution_count": 14,
   "metadata": {},
   "outputs": [
    {
     "name": "stdout",
     "output_type": "stream",
     "text": [
      "Fitting 2 folds for each of 1 candidates, totalling 2 fits\n"
     ]
    },
    {
     "data": {
      "text/html": [
       "<style>#sk-container-id-1 {color: black;background-color: white;}#sk-container-id-1 pre{padding: 0;}#sk-container-id-1 div.sk-toggleable {background-color: white;}#sk-container-id-1 label.sk-toggleable__label {cursor: pointer;display: block;width: 100%;margin-bottom: 0;padding: 0.3em;box-sizing: border-box;text-align: center;}#sk-container-id-1 label.sk-toggleable__label-arrow:before {content: \"▸\";float: left;margin-right: 0.25em;color: #696969;}#sk-container-id-1 label.sk-toggleable__label-arrow:hover:before {color: black;}#sk-container-id-1 div.sk-estimator:hover label.sk-toggleable__label-arrow:before {color: black;}#sk-container-id-1 div.sk-toggleable__content {max-height: 0;max-width: 0;overflow: hidden;text-align: left;background-color: #f0f8ff;}#sk-container-id-1 div.sk-toggleable__content pre {margin: 0.2em;color: black;border-radius: 0.25em;background-color: #f0f8ff;}#sk-container-id-1 input.sk-toggleable__control:checked~div.sk-toggleable__content {max-height: 200px;max-width: 100%;overflow: auto;}#sk-container-id-1 input.sk-toggleable__control:checked~label.sk-toggleable__label-arrow:before {content: \"▾\";}#sk-container-id-1 div.sk-estimator input.sk-toggleable__control:checked~label.sk-toggleable__label {background-color: #d4ebff;}#sk-container-id-1 div.sk-label input.sk-toggleable__control:checked~label.sk-toggleable__label {background-color: #d4ebff;}#sk-container-id-1 input.sk-hidden--visually {border: 0;clip: rect(1px 1px 1px 1px);clip: rect(1px, 1px, 1px, 1px);height: 1px;margin: -1px;overflow: hidden;padding: 0;position: absolute;width: 1px;}#sk-container-id-1 div.sk-estimator {font-family: monospace;background-color: #f0f8ff;border: 1px dotted black;border-radius: 0.25em;box-sizing: border-box;margin-bottom: 0.5em;}#sk-container-id-1 div.sk-estimator:hover {background-color: #d4ebff;}#sk-container-id-1 div.sk-parallel-item::after {content: \"\";width: 100%;border-bottom: 1px solid gray;flex-grow: 1;}#sk-container-id-1 div.sk-label:hover label.sk-toggleable__label {background-color: #d4ebff;}#sk-container-id-1 div.sk-serial::before {content: \"\";position: absolute;border-left: 1px solid gray;box-sizing: border-box;top: 0;bottom: 0;left: 50%;z-index: 0;}#sk-container-id-1 div.sk-serial {display: flex;flex-direction: column;align-items: center;background-color: white;padding-right: 0.2em;padding-left: 0.2em;position: relative;}#sk-container-id-1 div.sk-item {position: relative;z-index: 1;}#sk-container-id-1 div.sk-parallel {display: flex;align-items: stretch;justify-content: center;background-color: white;position: relative;}#sk-container-id-1 div.sk-item::before, #sk-container-id-1 div.sk-parallel-item::before {content: \"\";position: absolute;border-left: 1px solid gray;box-sizing: border-box;top: 0;bottom: 0;left: 50%;z-index: -1;}#sk-container-id-1 div.sk-parallel-item {display: flex;flex-direction: column;z-index: 1;position: relative;background-color: white;}#sk-container-id-1 div.sk-parallel-item:first-child::after {align-self: flex-end;width: 50%;}#sk-container-id-1 div.sk-parallel-item:last-child::after {align-self: flex-start;width: 50%;}#sk-container-id-1 div.sk-parallel-item:only-child::after {width: 0;}#sk-container-id-1 div.sk-dashed-wrapped {border: 1px dashed gray;margin: 0 0.4em 0.5em 0.4em;box-sizing: border-box;padding-bottom: 0.4em;background-color: white;}#sk-container-id-1 div.sk-label label {font-family: monospace;font-weight: bold;display: inline-block;line-height: 1.2em;}#sk-container-id-1 div.sk-label-container {text-align: center;}#sk-container-id-1 div.sk-container {/* jupyter's `normalize.less` sets `[hidden] { display: none; }` but bootstrap.min.css set `[hidden] { display: none !important; }` so we also need the `!important` here to be able to override the default hidden behavior on the sphinx rendered scikit-learn.org. See: https://github.com/scikit-learn/scikit-learn/issues/21755 */display: inline-block !important;position: relative;}#sk-container-id-1 div.sk-text-repr-fallback {display: none;}</style><div id=\"sk-container-id-1\" class=\"sk-top-container\"><div class=\"sk-text-repr-fallback\"><pre>BayesSearchCV(cv=2,\n",
       "              estimator=Pipeline(steps=[(&#x27;outlier_handler&#x27;,\n",
       "                                         FunctionSampler(func=&lt;bound method OutlierRemover.handle_outliers of &lt;src.pipelines.pipeline_cleaning.OutlierRemover object at 0x000002BE9CC78850&gt;&gt;,\n",
       "                                                         validate=False)),\n",
       "                                        (&#x27;feature_remover&#x27;,\n",
       "                                         RemoveFeatureTransformer(features_to_drop=[&#x27;age&#x27;,\n",
       "                                                                                    &#x27;position&#x27;])),\n",
       "                                        (&#x27;discretizer&#x27;,\n",
       "                                         CustomColumnTransformer(remaind...\n",
       "                             &#x27;estimator__max_features&#x27;: Categorical(categories=(&#x27;auto&#x27;, &#x27;sqrt&#x27;), prior=None),\n",
       "                             &#x27;estimator__min_samples_leaf&#x27;: Integer(low=1, high=10, prior=&#x27;uniform&#x27;, transform=&#x27;normalize&#x27;),\n",
       "                             &#x27;estimator__min_samples_split&#x27;: Integer(low=2, high=10, prior=&#x27;uniform&#x27;, transform=&#x27;normalize&#x27;),\n",
       "                             &#x27;estimator__n_estimators&#x27;: Integer(low=25, high=500, prior=&#x27;uniform&#x27;, transform=&#x27;normalize&#x27;)},\n",
       "              verbose=10)</pre><b>In a Jupyter environment, please rerun this cell to show the HTML representation or trust the notebook. <br />On GitHub, the HTML representation is unable to render, please try loading this page with nbviewer.org.</b></div><div class=\"sk-container\" hidden><div class=\"sk-item sk-dashed-wrapped\"><div class=\"sk-label-container\"><div class=\"sk-label sk-toggleable\"><input class=\"sk-toggleable__control sk-hidden--visually\" id=\"sk-estimator-id-1\" type=\"checkbox\" ><label for=\"sk-estimator-id-1\" class=\"sk-toggleable__label sk-toggleable__label-arrow\">BayesSearchCV</label><div class=\"sk-toggleable__content\"><pre>BayesSearchCV(cv=2,\n",
       "              estimator=Pipeline(steps=[(&#x27;outlier_handler&#x27;,\n",
       "                                         FunctionSampler(func=&lt;bound method OutlierRemover.handle_outliers of &lt;src.pipelines.pipeline_cleaning.OutlierRemover object at 0x000002BE9CC78850&gt;&gt;,\n",
       "                                                         validate=False)),\n",
       "                                        (&#x27;feature_remover&#x27;,\n",
       "                                         RemoveFeatureTransformer(features_to_drop=[&#x27;age&#x27;,\n",
       "                                                                                    &#x27;position&#x27;])),\n",
       "                                        (&#x27;discretizer&#x27;,\n",
       "                                         CustomColumnTransformer(remaind...\n",
       "                             &#x27;estimator__max_features&#x27;: Categorical(categories=(&#x27;auto&#x27;, &#x27;sqrt&#x27;), prior=None),\n",
       "                             &#x27;estimator__min_samples_leaf&#x27;: Integer(low=1, high=10, prior=&#x27;uniform&#x27;, transform=&#x27;normalize&#x27;),\n",
       "                             &#x27;estimator__min_samples_split&#x27;: Integer(low=2, high=10, prior=&#x27;uniform&#x27;, transform=&#x27;normalize&#x27;),\n",
       "                             &#x27;estimator__n_estimators&#x27;: Integer(low=25, high=500, prior=&#x27;uniform&#x27;, transform=&#x27;normalize&#x27;)},\n",
       "              verbose=10)</pre></div></div></div><div class=\"sk-parallel\"><div class=\"sk-parallel-item\"><div class=\"sk-item\"><div class=\"sk-label-container\"><div class=\"sk-label sk-toggleable\"><input class=\"sk-toggleable__control sk-hidden--visually\" id=\"sk-estimator-id-2\" type=\"checkbox\" ><label for=\"sk-estimator-id-2\" class=\"sk-toggleable__label sk-toggleable__label-arrow\">estimator: Pipeline</label><div class=\"sk-toggleable__content\"><pre>Pipeline(steps=[(&#x27;outlier_handler&#x27;,\n",
       "                 FunctionSampler(func=&lt;bound method OutlierRemover.handle_outliers of &lt;src.pipelines.pipeline_cleaning.OutlierRemover object at 0x000002BE9CC78850&gt;&gt;,\n",
       "                                 validate=False)),\n",
       "                (&#x27;feature_remover&#x27;,\n",
       "                 RemoveFeatureTransformer(features_to_drop=[&#x27;age&#x27;,\n",
       "                                                            &#x27;position&#x27;])),\n",
       "                (&#x27;discretizer&#x27;,\n",
       "                 CustomColumnTransformer(remainder=&#x27;passthrough&#x27;,\n",
       "                                         transformers...\n",
       "                (&#x27;encoder_and_scaler&#x27;,\n",
       "                 CustomColumnTransformer(remainder=&#x27;passthrough&#x27;,\n",
       "                                         transformers=[(&#x27;encoder&#x27;,\n",
       "                                                        BinaryEncoder(),\n",
       "                                                        &lt;sklearn.compose._column_transformer.make_column_selector object at 0x000002BEB1B10790&gt;),\n",
       "                                                       (&#x27;scaler&#x27;,\n",
       "                                                        MinMaxScaler(),\n",
       "                                                        &lt;sklearn.compose._column_transformer.make_column_selector object at 0x000002BE9CA36070&gt;)])),\n",
       "                (&#x27;estimator&#x27;, RandomForestClassifier())])</pre></div></div></div><div class=\"sk-serial\"><div class=\"sk-item\"><div class=\"sk-serial\"><div class=\"sk-item\"><div class=\"sk-estimator sk-toggleable\"><input class=\"sk-toggleable__control sk-hidden--visually\" id=\"sk-estimator-id-3\" type=\"checkbox\" ><label for=\"sk-estimator-id-3\" class=\"sk-toggleable__label sk-toggleable__label-arrow\">FunctionSampler</label><div class=\"sk-toggleable__content\"><pre>FunctionSampler(func=&lt;bound method OutlierRemover.handle_outliers of &lt;src.pipelines.pipeline_cleaning.OutlierRemover object at 0x000002BE9CC78850&gt;&gt;,\n",
       "                validate=False)</pre></div></div></div><div class=\"sk-item\"><div class=\"sk-estimator sk-toggleable\"><input class=\"sk-toggleable__control sk-hidden--visually\" id=\"sk-estimator-id-4\" type=\"checkbox\" ><label for=\"sk-estimator-id-4\" class=\"sk-toggleable__label sk-toggleable__label-arrow\">RemoveFeatureTransformer</label><div class=\"sk-toggleable__content\"><pre>RemoveFeatureTransformer(features_to_drop=[&#x27;age&#x27;, &#x27;position&#x27;])</pre></div></div></div><div class=\"sk-item sk-dashed-wrapped\"><div class=\"sk-label-container\"><div class=\"sk-label sk-toggleable\"><input class=\"sk-toggleable__control sk-hidden--visually\" id=\"sk-estimator-id-5\" type=\"checkbox\" ><label for=\"sk-estimator-id-5\" class=\"sk-toggleable__label sk-toggleable__label-arrow\">discretizer: CustomColumnTransformer</label><div class=\"sk-toggleable__content\"><pre>CustomColumnTransformer(remainder=&#x27;passthrough&#x27;,\n",
       "                        transformers=[(&#x27;bins&#x27;,\n",
       "                                       KBinsDiscretizer(encode=&#x27;ordinal&#x27;,\n",
       "                                                        n_bins=2,\n",
       "                                                        strategy=&#x27;uniform&#x27;),\n",
       "                                       &lt;sklearn.compose._column_transformer.make_column_selector object at 0x000002BE9CA4F250&gt;),\n",
       "                                      (&#x27;dummy_numerical&#x27;, DummyTransformer(),\n",
       "                                       &lt;sklearn.compose._column_transformer.make_column_selector object at 0x000002BE9CA4FB20&gt;),\n",
       "                                      (&#x27;dummy_categorical&#x27;, DummyTransformer(),\n",
       "                                       &lt;sklearn.compose._column_transformer.make_column_selector object at 0x000002BE9CA4F100&gt;)])</pre></div></div></div><div class=\"sk-parallel\"><div class=\"sk-parallel-item\"><div class=\"sk-item\"><div class=\"sk-label-container\"><div class=\"sk-label sk-toggleable\"><input class=\"sk-toggleable__control sk-hidden--visually\" id=\"sk-estimator-id-6\" type=\"checkbox\" ><label for=\"sk-estimator-id-6\" class=\"sk-toggleable__label sk-toggleable__label-arrow\">bins</label><div class=\"sk-toggleable__content\"><pre>&lt;sklearn.compose._column_transformer.make_column_selector object at 0x000002BE9CA4F250&gt;</pre></div></div></div><div class=\"sk-serial\"><div class=\"sk-item\"><div class=\"sk-estimator sk-toggleable\"><input class=\"sk-toggleable__control sk-hidden--visually\" id=\"sk-estimator-id-7\" type=\"checkbox\" ><label for=\"sk-estimator-id-7\" class=\"sk-toggleable__label sk-toggleable__label-arrow\">KBinsDiscretizer</label><div class=\"sk-toggleable__content\"><pre>KBinsDiscretizer(encode=&#x27;ordinal&#x27;, n_bins=2, strategy=&#x27;uniform&#x27;)</pre></div></div></div></div></div></div><div class=\"sk-parallel-item\"><div class=\"sk-item\"><div class=\"sk-label-container\"><div class=\"sk-label sk-toggleable\"><input class=\"sk-toggleable__control sk-hidden--visually\" id=\"sk-estimator-id-8\" type=\"checkbox\" ><label for=\"sk-estimator-id-8\" class=\"sk-toggleable__label sk-toggleable__label-arrow\">dummy_numerical</label><div class=\"sk-toggleable__content\"><pre>&lt;sklearn.compose._column_transformer.make_column_selector object at 0x000002BE9CA4FB20&gt;</pre></div></div></div><div class=\"sk-serial\"><div class=\"sk-item\"><div class=\"sk-estimator sk-toggleable\"><input class=\"sk-toggleable__control sk-hidden--visually\" id=\"sk-estimator-id-9\" type=\"checkbox\" ><label for=\"sk-estimator-id-9\" class=\"sk-toggleable__label sk-toggleable__label-arrow\">DummyTransformer</label><div class=\"sk-toggleable__content\"><pre>DummyTransformer()</pre></div></div></div></div></div></div><div class=\"sk-parallel-item\"><div class=\"sk-item\"><div class=\"sk-label-container\"><div class=\"sk-label sk-toggleable\"><input class=\"sk-toggleable__control sk-hidden--visually\" id=\"sk-estimator-id-10\" type=\"checkbox\" ><label for=\"sk-estimator-id-10\" class=\"sk-toggleable__label sk-toggleable__label-arrow\">dummy_categorical</label><div class=\"sk-toggleable__content\"><pre>&lt;sklearn.compose._column_transformer.make_column_selector object at 0x000002BE9CA4F100&gt;</pre></div></div></div><div class=\"sk-serial\"><div class=\"sk-item\"><div class=\"sk-estimator sk-toggleable\"><input class=\"sk-toggleable__control sk-hidden--visually\" id=\"sk-estimator-id-11\" type=\"checkbox\" ><label for=\"sk-estimator-id-11\" class=\"sk-toggleable__label sk-toggleable__label-arrow\">DummyTransformer</label><div class=\"sk-toggleable__content\"><pre>DummyTransformer()</pre></div></div></div></div></div></div><div class=\"sk-parallel-item\"><div class=\"sk-item\"><div class=\"sk-label-container\"><div class=\"sk-label sk-toggleable\"><input class=\"sk-toggleable__control sk-hidden--visually\" id=\"sk-estimator-id-12\" type=\"checkbox\" ><label for=\"sk-estimator-id-12\" class=\"sk-toggleable__label sk-toggleable__label-arrow\">remainder</label><div class=\"sk-toggleable__content\"><pre>[]</pre></div></div></div><div class=\"sk-serial\"><div class=\"sk-item\"><div class=\"sk-estimator sk-toggleable\"><input class=\"sk-toggleable__control sk-hidden--visually\" id=\"sk-estimator-id-13\" type=\"checkbox\" ><label for=\"sk-estimator-id-13\" class=\"sk-toggleable__label sk-toggleable__label-arrow\">passthrough</label><div class=\"sk-toggleable__content\"><pre>passthrough</pre></div></div></div></div></div></div></div></div><div class=\"sk-item sk-dashed-wrapped\"><div class=\"sk-label-container\"><div class=\"sk-label sk-toggleable\"><input class=\"sk-toggleable__control sk-hidden--visually\" id=\"sk-estimator-id-14\" type=\"checkbox\" ><label for=\"sk-estimator-id-14\" class=\"sk-toggleable__label sk-toggleable__label-arrow\">encoder_and_scaler: CustomColumnTransformer</label><div class=\"sk-toggleable__content\"><pre>CustomColumnTransformer(remainder=&#x27;passthrough&#x27;,\n",
       "                        transformers=[(&#x27;encoder&#x27;, BinaryEncoder(),\n",
       "                                       &lt;sklearn.compose._column_transformer.make_column_selector object at 0x000002BEB1B10790&gt;),\n",
       "                                      (&#x27;scaler&#x27;, MinMaxScaler(),\n",
       "                                       &lt;sklearn.compose._column_transformer.make_column_selector object at 0x000002BE9CA36070&gt;)])</pre></div></div></div><div class=\"sk-parallel\"><div class=\"sk-parallel-item\"><div class=\"sk-item\"><div class=\"sk-label-container\"><div class=\"sk-label sk-toggleable\"><input class=\"sk-toggleable__control sk-hidden--visually\" id=\"sk-estimator-id-15\" type=\"checkbox\" ><label for=\"sk-estimator-id-15\" class=\"sk-toggleable__label sk-toggleable__label-arrow\">encoder</label><div class=\"sk-toggleable__content\"><pre>&lt;sklearn.compose._column_transformer.make_column_selector object at 0x000002BEB1B10790&gt;</pre></div></div></div><div class=\"sk-serial\"><div class=\"sk-item\"><div class=\"sk-estimator sk-toggleable\"><input class=\"sk-toggleable__control sk-hidden--visually\" id=\"sk-estimator-id-16\" type=\"checkbox\" ><label for=\"sk-estimator-id-16\" class=\"sk-toggleable__label sk-toggleable__label-arrow\">BinaryEncoder</label><div class=\"sk-toggleable__content\"><pre>BinaryEncoder()</pre></div></div></div></div></div></div><div class=\"sk-parallel-item\"><div class=\"sk-item\"><div class=\"sk-label-container\"><div class=\"sk-label sk-toggleable\"><input class=\"sk-toggleable__control sk-hidden--visually\" id=\"sk-estimator-id-17\" type=\"checkbox\" ><label for=\"sk-estimator-id-17\" class=\"sk-toggleable__label sk-toggleable__label-arrow\">scaler</label><div class=\"sk-toggleable__content\"><pre>&lt;sklearn.compose._column_transformer.make_column_selector object at 0x000002BE9CA36070&gt;</pre></div></div></div><div class=\"sk-serial\"><div class=\"sk-item\"><div class=\"sk-estimator sk-toggleable\"><input class=\"sk-toggleable__control sk-hidden--visually\" id=\"sk-estimator-id-18\" type=\"checkbox\" ><label for=\"sk-estimator-id-18\" class=\"sk-toggleable__label sk-toggleable__label-arrow\">MinMaxScaler</label><div class=\"sk-toggleable__content\"><pre>MinMaxScaler()</pre></div></div></div></div></div></div><div class=\"sk-parallel-item\"><div class=\"sk-item\"><div class=\"sk-label-container\"><div class=\"sk-label sk-toggleable\"><input class=\"sk-toggleable__control sk-hidden--visually\" id=\"sk-estimator-id-19\" type=\"checkbox\" ><label for=\"sk-estimator-id-19\" class=\"sk-toggleable__label sk-toggleable__label-arrow\">remainder</label><div class=\"sk-toggleable__content\"><pre>[]</pre></div></div></div><div class=\"sk-serial\"><div class=\"sk-item\"><div class=\"sk-estimator sk-toggleable\"><input class=\"sk-toggleable__control sk-hidden--visually\" id=\"sk-estimator-id-20\" type=\"checkbox\" ><label for=\"sk-estimator-id-20\" class=\"sk-toggleable__label sk-toggleable__label-arrow\">passthrough</label><div class=\"sk-toggleable__content\"><pre>passthrough</pre></div></div></div></div></div></div></div></div><div class=\"sk-item\"><div class=\"sk-estimator sk-toggleable\"><input class=\"sk-toggleable__control sk-hidden--visually\" id=\"sk-estimator-id-21\" type=\"checkbox\" ><label for=\"sk-estimator-id-21\" class=\"sk-toggleable__label sk-toggleable__label-arrow\">RandomForestClassifier</label><div class=\"sk-toggleable__content\"><pre>RandomForestClassifier()</pre></div></div></div></div></div></div></div></div></div></div></div></div>"
      ],
      "text/plain": [
       "BayesSearchCV(cv=2,\n",
       "              estimator=Pipeline(steps=[('outlier_handler',\n",
       "                                         FunctionSampler(func=<bound method OutlierRemover.handle_outliers of <src.pipelines.pipeline_cleaning.OutlierRemover object at 0x000002BE9CC78850>>,\n",
       "                                                         validate=False)),\n",
       "                                        ('feature_remover',\n",
       "                                         RemoveFeatureTransformer(features_to_drop=['age',\n",
       "                                                                                    'position'])),\n",
       "                                        ('discretizer',\n",
       "                                         CustomColumnTransformer(remaind...\n",
       "                             'estimator__max_features': Categorical(categories=('auto', 'sqrt'), prior=None),\n",
       "                             'estimator__min_samples_leaf': Integer(low=1, high=10, prior='uniform', transform='normalize'),\n",
       "                             'estimator__min_samples_split': Integer(low=2, high=10, prior='uniform', transform='normalize'),\n",
       "                             'estimator__n_estimators': Integer(low=25, high=500, prior='uniform', transform='normalize')},\n",
       "              verbose=10)"
      ]
     },
     "execution_count": 14,
     "metadata": {},
     "output_type": "execute_result"
    }
   ],
   "source": [
    "#param_grid = {\n",
    "#    'estimator__bootstrap': [True, False], # default=True\n",
    "#    'estimator__max_depth': [5, 8, 13, 21, 34, None], # default=None\n",
    "#    'estimator__max_features': ['auto', 'sqrt'], # default=”sqrt”\n",
    "#    'estimator__min_samples_leaf': [1, 2, 4], # default=1\n",
    "#    'estimator__min_samples_split': [2, 5, 10], # default=2\n",
    "#    'estimator__n_estimators': [25, 50, 100, 200, 300, 400, 500], # default=100\n",
    "#}\n",
    "\n",
    "param_grid = {\n",
    "    'estimator__bootstrap': Categorical([True, False]), # default=True\n",
    "    'estimator__max_depth': Integer(2, 50), # default=None\n",
    "    'estimator__max_features': Categorical(['auto', 'sqrt']), # default=”sqrt”\n",
    "    'estimator__min_samples_leaf': Integer(1, 10), # default=1\n",
    "    'estimator__min_samples_split': Integer(2, 10), # default=2\n",
    "    'estimator__n_estimators': Integer(25, 500), # default=100\n",
    "}\n",
    "\n",
    "# Perform grid search cross-validation\n",
    "bayes_search = BayesSearchCV(\n",
    "    estimator=pipe.get_pipeline(),\n",
    "    search_spaces=param_grid,\n",
    "    scoring=make_scorer(matthews_corrcoef),\n",
    "    cv=2,\n",
    "    n_jobs=-1,\n",
    "    verbose=10,\n",
    "    n_iter=400,\n",
    "    n_points=8\n",
    ")\n",
    "\n",
    "# Fit the grid search to the training data\n",
    "bayes_search.fit(pipe.X_train, pipe.y_train)"
   ]
  },
  {
   "cell_type": "code",
   "execution_count": null,
   "metadata": {},
   "outputs": [],
   "source": [
    "# Get the best model from the grid search\n",
    "best_model = bayes_search.best_estimator_\n",
    "\n",
    "# Evaluate the best model on the test set\n",
    "y_pred = best_model.predict(pipe.X_val)\n",
    "\n",
    "# Print the best MCC score\n",
    "best_score = bayes_search.best_score_\n",
    "print(\"Best MCC score:\", best_score)\n",
    "\n",
    "# Print the best parameters\n",
    "best_params = bayes_search.best_params_\n",
    "print(\"Best parameters:\", best_params)"
   ]
  },
  {
   "cell_type": "markdown",
   "metadata": {},
   "source": [
    "#### Calculated on Server Infrastructure\n",
    "\n",
    "Best MCC score: 0.5021965928227141\n",
    "\n",
    "Best parameters: OrderedDict([('estimator__bootstrap', False), ('estimator__max_depth', 25), ('estimator__max_features', 'auto'), ('estimator__min_samples_leaf', 4), ('estimator__min_samples_split', 10), ('estimator__n_estimators', 500)])"
   ]
  },
  {
   "cell_type": "markdown",
   "metadata": {},
   "source": [
    "Let us get the cross validated performances of the tuned and not tuned models."
   ]
  },
  {
   "cell_type": "code",
   "execution_count": 7,
   "metadata": {},
   "outputs": [
    {
     "name": "stdout",
     "output_type": "stream",
     "text": [
      "loading data\n",
      "preparing data\n",
      "running pipeline\n",
      "evaluating pipeline\n",
      "    fit_time: 59.128 [std=3.579]\n",
      "    score_time: 3.3441 [std=0.4279]\n",
      "    cv_accuracy: 0.7223 [std=0.0012]\n",
      "    cv_f1-score: 0.6684 [std=0.0021]\n",
      "    cv_mcc: 0.4868 [std=0.0022]\n",
      "    validation_accuracy: 0.7259 [std=0.]\n",
      "    validation_f1-score: 0.6755 [std=0.]\n",
      "    validation_mcc: 0.4947 [std=0.]\n"
     ]
    }
   ],
   "source": [
    "# Build pipeline\n",
    "pipe = build_pipeline.CustomPipeline(\n",
    "    skip_storing_cleaning=True, \n",
    "    skip_storing_prediction=True, \n",
    "    use_validation_set=True,\n",
    "    use_cross_validation=True)\n",
    "add_test_steps(pipe)\n",
    "\n",
    "pipe.run()"
   ]
  },
  {
   "cell_type": "code",
   "execution_count": 8,
   "metadata": {},
   "outputs": [
    {
     "name": "stdout",
     "output_type": "stream",
     "text": [
      "loading data\n",
      "preparing data\n",
      "running pipeline\n",
      "evaluating pipeline\n",
      "    fit_time: 258.14 [std=27.7921]\n",
      "    score_time: 11.9446 [std=3.0933]\n",
      "    cv_accuracy: 0.7405 [std=0.0011]\n",
      "    cv_f1-score: 0.6802 [std=0.0011]\n",
      "    cv_mcc: 0.5147 [std=0.002]\n",
      "    validation_accuracy: 0.7456 [std=0.]\n",
      "    validation_f1-score: 0.6861 [std=0.]\n",
      "    validation_mcc: 0.5247 [std=0.]\n"
     ]
    }
   ],
   "source": [
    "# Build pipeline\n",
    "pipe = build_pipeline.CustomPipeline(\n",
    "    skip_storing_cleaning=True, \n",
    "    skip_storing_prediction=True, \n",
    "    use_validation_set=True,\n",
    "    use_cross_validation=True)\n",
    "add_test_steps(pipe)\n",
    "pipeline_utils.apply_tuned_randomforest_classifier(pipe)\n",
    "\n",
    "pipe.run()"
   ]
  },
  {
   "cell_type": "code",
   "execution_count": null,
   "metadata": {},
   "outputs": [],
   "source": []
  }
 ],
 "metadata": {
  "kernelspec": {
   "display_name": "Python 3 (ipykernel)",
   "language": "python",
   "name": "python3"
  },
  "language_info": {
   "codemirror_mode": {
    "name": "ipython",
    "version": 3
   },
   "file_extension": ".py",
   "mimetype": "text/x-python",
   "name": "python",
   "nbconvert_exporter": "python",
   "pygments_lexer": "ipython3",
   "version": "3.8.10"
  }
 },
 "nbformat": 4,
 "nbformat_minor": 2
}
