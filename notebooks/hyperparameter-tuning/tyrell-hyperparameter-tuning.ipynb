{
 "cells": [
  {
   "attachments": {},
   "cell_type": "markdown",
   "metadata": {},
   "source": [
    "# Hyperparameter Tuning"
   ]
  },
  {
   "cell_type": "code",
   "execution_count": 1,
   "metadata": {},
   "outputs": [],
   "source": [
    "import pandas as pd\n",
    "from sklearn.model_selection import GridSearchCV\n",
    "from sklearn.model_selection import RandomizedSearchCV\n",
    "from src.pipelines import build_pipeline\n",
    "from src.pipelines import pipeline_utils\n",
    "from sklearn.metrics import precision_score, recall_score, f1_score\n",
    "from sklearn.metrics import make_scorer, matthews_corrcoef\n",
    "\n",
    "# disable warnings globally\n",
    "import warnings\n",
    "warnings.filterwarnings(\"ignore\")\n",
    "\n",
    "# define the test steps for this notebook\n",
    "def add_test_steps(custom_pipeline: build_pipeline.CustomPipeline):    \n",
    "    # additional feature selection by removing certain columns\n",
    "    pipeline_utils.add_remove_feature_transformer(custom_pipeline, ['age'])\n",
    "    \n",
    "    # discretize numerical features\n",
    "    pipeline_utils.add_kbinsdiscretizer(custom_pipeline, number_of_bins=2)\n",
    "\n",
    "    # add encoder and scaler\n",
    "    pipeline_utils.add_binary_encoder_and_minmaxscaler(custom_pipeline)\n",
    "\n",
    "    # add estimator\n",
    "    pipeline_utils.apply_knn_classifier(custom_pipeline, 9)"
   ]
  },
  {
   "attachments": {},
   "cell_type": "markdown",
   "metadata": {},
   "source": [
    "Try out GridSearchCV"
   ]
  },
  {
   "cell_type": "code",
   "execution_count": 2,
   "metadata": {},
   "outputs": [
    {
     "name": "stdout",
     "output_type": "stream",
     "text": [
      "loading data\n"
     ]
    }
   ],
   "source": [
    "# Build pipeline\n",
    "pipe = build_pipeline.CustomPipeline(skip_storing_cleaning=True, skip_storing_prediction=True, use_validation_set=True)\n",
    "add_test_steps(pipe)\n",
    "pipeline_utils.apply_lgbm_classifier(pipe)"
   ]
  },
  {
   "cell_type": "code",
   "execution_count": 3,
   "metadata": {},
   "outputs": [
    {
     "name": "stdout",
     "output_type": "stream",
     "text": [
      "Fitting 2 folds for each of 27 candidates, totalling 54 fits\n"
     ]
    }
   ],
   "source": [
    "param_grid = {\n",
    "    'estimator__n_estimators': [100, 200, 300],\n",
    "    'estimator__learning_rate': [0.1, 0.05, 0.01],\n",
    "    'estimator__max_depth': [3, 5, 7]\n",
    "}\n",
    "\n",
    "# Perform grid search cross-validation\n",
    "grid_search = GridSearchCV(\n",
    "    estimator=pipe.get_pipeline(),\n",
    "    param_grid=param_grid,\n",
    "    scoring=make_scorer(matthews_corrcoef),\n",
    "    cv=2,\n",
    "    n_jobs=-1,\n",
    "    verbose=3\n",
    ")\n",
    "\n",
    "# Fit the grid search to the training data\n",
    "grid_search.fit(pipe.X_train, pipe.y_train['damage_grade'])\n",
    "\n",
    "# Get the best model from the grid search\n",
    "best_model = grid_search.best_estimator_\n",
    "\n",
    "# Evaluate the best model on the test set\n",
    "y_pred = best_model.predict(pipe.X_test)\n",
    "\n",
    "# Calculate evaluation metrics\n",
    "precision = precision_score(pipe.y_test, y_pred)\n",
    "recall = recall_score(pipe.y_test, y_pred)\n",
    "f1 = f1_score(pipe.y_test, y_pred)\n",
    "\n",
    "# Print the evaluation metrics\n",
    "print(\"Precision:\", precision)\n",
    "print(\"Recall:\", recall)\n",
    "print(\"F1-score:\", f1)\n",
    "\n",
    "# Print the best MCC score\n",
    "best_score = grid_search.best_score_\n",
    "print(\"Best MCC score:\", best_score)"
   ]
  }
 ],
 "metadata": {
  "kernelspec": {
   "display_name": "venv",
   "language": "python",
   "name": "python3"
  },
  "language_info": {
   "codemirror_mode": {
    "name": "ipython",
    "version": 3
   },
   "file_extension": ".py",
   "mimetype": "text/x-python",
   "name": "python",
   "nbconvert_exporter": "python",
   "pygments_lexer": "ipython3",
   "version": "3.11.3"
  },
  "orig_nbformat": 4
 },
 "nbformat": 4,
 "nbformat_minor": 2
}
