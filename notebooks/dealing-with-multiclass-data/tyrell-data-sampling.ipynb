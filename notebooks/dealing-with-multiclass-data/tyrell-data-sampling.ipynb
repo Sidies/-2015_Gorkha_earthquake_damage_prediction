{
 "cells": [
  {
   "attachments": {},
   "cell_type": "markdown",
   "metadata": {},
   "source": [
    "# Dealing with Imbalanced Multi-Class Data by Sampling\n",
    "In the following we try out different sampling techniques to balance the target variable."
   ]
  },
  {
   "cell_type": "code",
   "execution_count": 1,
   "metadata": {},
   "outputs": [],
   "source": [
    "# imports \n",
    "import pandas as pd\n",
    "from src.pipelines import build_pipeline\n",
    "from src.pipelines import pipeline_utils\n",
    "from src.pipelines import pipeline_cleaning\n",
    "from collections import Counter\n",
    "from src.features import sampling_strategies\n",
    "\n",
    "# disable warnings globally\n",
    "import warnings\n",
    "warnings.filterwarnings(\"ignore\")\n",
    "\n",
    "# define the test steps for this notebook\n",
    "def add_test_steps(custom_pipeline: build_pipeline.CustomPipeline):    \n",
    "    # additional feature selection by removing certain columns\n",
    "    pipeline_utils.add_remove_feature_transformer(custom_pipeline, ['age'])\n",
    "    \n",
    "    # discretize numerical features\n",
    "    pipeline_utils.add_kbinsdiscretizer(custom_pipeline, number_of_bins=2)\n",
    "\n",
    "    # add encoder and scaler\n",
    "    pipeline_utils.add_binary_encoder_and_minmaxscaler(custom_pipeline)\n",
    "\n",
    "    # add estimator\n",
    "    pipeline_utils.apply_knn_classifier(custom_pipeline, 9)"
   ]
  },
  {
   "attachments": {},
   "cell_type": "markdown",
   "metadata": {},
   "source": [
    "Lets check the distribution of the target variable before any sampling:"
   ]
  },
  {
   "cell_type": "code",
   "execution_count": 2,
   "metadata": {},
   "outputs": [
    {
     "name": "stdout",
     "output_type": "stream",
     "text": [
      "loading data\n",
      "preparing data\n",
      "storing cleaned data\n",
      "running pipeline\n",
      "Class distribution after resampling: Counter({2: 18048, 3: 14953, 1: 925})\n",
      "Length overall: 33926\n"
     ]
    }
   ],
   "source": [
    "# build and prepare pipeline\n",
    "pipe = build_pipeline.CustomPipeline(skip_storing_prediction=True, force_cleaning=True, skip_evaluation=True)\n",
    "add_test_steps(pipe)\n",
    "\n",
    "# run the pipeline\n",
    "pipe.run()\n",
    "\n",
    "# Check the class distribution before resampling\n",
    "print('Class distribution after resampling:', Counter(pipe.y_train))\n",
    "print('Length overall:', len(pipe.y_train))"
   ]
  },
  {
   "attachments": {},
   "cell_type": "markdown",
   "metadata": {},
   "source": [
    "The distribution of the target variable for each value is: 2: 18048, 3: 14953, 1: 925  \n",
    "As we can see the distribution of 2 and 3 are rather close to each other but 1 has a large minority.\n",
    "\n",
    "Lets apply some sampling techniques."
   ]
  },
  {
   "cell_type": "code",
   "execution_count": 5,
   "metadata": {},
   "outputs": [
    {
     "name": "stdout",
     "output_type": "stream",
     "text": [
      "loading data\n",
      "preparing data\n",
      "storing cleaned data\n",
      "running pipeline\n",
      "evaluating pipeline\n",
      "    fit_time: 1.231107807159424\n",
      "    score_time: 8.171854591369629\n",
      "    test_accuracy: 0.7937905707024363\n",
      "    test_f1-score: 0.7884501637885266\n",
      "    test_mcc: 0.6927381401686417\n",
      "Class distribution after resampling: Counter({1: 18048, 2: 18048, 3: 18048})\n",
      "Length overall: 54144\n"
     ]
    }
   ],
   "source": [
    "# build and prepare pipeline\n",
    "pipe = build_pipeline.CustomPipeline(skip_storing_prediction=True, force_cleaning=True, skip_evaluation=False, use_kfold_shuffle=True)\n",
    "add_test_steps(pipe)\n",
    "randomResampler = sampling_strategies.RandomSampler(oversampling_strategy='auto', undersampling_strategy='auto')\n",
    "\n",
    "pipe.apply_sampler(randomResampler)\n",
    "# run the pipeline\n",
    "pipe.run()\n",
    "\n",
    "# Check the class distribution after resampling\n",
    "print('Class distribution after resampling:', Counter(pipe.y_train))\n",
    "print('Length overall:', len(pipe.y_train))"
   ]
  },
  {
   "cell_type": "code",
   "execution_count": 4,
   "metadata": {},
   "outputs": [
    {
     "name": "stdout",
     "output_type": "stream",
     "text": [
      "loading data\n",
      "preparing data\n",
      "storing cleaned data\n",
      "running pipeline\n",
      "Class distribution after resampling: Counter({2: 15000, 3: 14953, 1: 1500})\n",
      "Length overall: 31453\n"
     ]
    }
   ],
   "source": [
    "# build and prepare pipeline\n",
    "pipe = build_pipeline.CustomPipeline(skip_storing_prediction=True, force_cleaning=True, skip_evaluation=True)\n",
    "add_test_steps(pipe)\n",
    "randomResampler = sampling_strategies.RandomSampler(oversampling_strategy={1: 1500}, undersampling_strategy={2: 15000})\n",
    "\n",
    "pipe.apply_sampler(randomResampler)\n",
    "# run the pipeline\n",
    "pipe.run()\n",
    "\n",
    "# Check the class distribution after resampling\n",
    "print('Class distribution after resampling:', Counter(pipe.y_train))\n",
    "print('Length overall:', len(pipe.y_train))"
   ]
  }
 ],
 "metadata": {
  "kernelspec": {
   "display_name": "venv",
   "language": "python",
   "name": "python3"
  },
  "language_info": {
   "codemirror_mode": {
    "name": "ipython",
    "version": 3
   },
   "file_extension": ".py",
   "mimetype": "text/x-python",
   "name": "python",
   "nbconvert_exporter": "python",
   "pygments_lexer": "ipython3",
   "version": "3.11.3"
  },
  "orig_nbformat": 4
 },
 "nbformat": 4,
 "nbformat_minor": 2
}
