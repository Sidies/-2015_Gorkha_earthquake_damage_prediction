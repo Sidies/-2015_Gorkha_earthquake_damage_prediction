{
 "cells": [
  {
   "attachments": {},
   "cell_type": "markdown",
   "metadata": {},
   "source": [
    "# Dealing with Imbalanced Multi-Class Data by Sampling\n",
    "In the following we try out different sampling techniques to balance the target variable."
   ]
  },
  {
   "cell_type": "code",
   "execution_count": 1,
   "metadata": {},
   "outputs": [],
   "source": [
    "# imports \n",
    "import pandas as pd\n",
    "from src.pipelines import build_pipeline\n",
    "from src.pipelines import pipeline_utils\n",
    "from src.pipelines import pipeline_cleaning\n",
    "from collections import Counter\n",
    "\n",
    "# disable warnings globally\n",
    "import warnings\n",
    "warnings.filterwarnings(\"ignore\")"
   ]
  },
  {
   "cell_type": "code",
   "execution_count": 6,
   "metadata": {},
   "outputs": [
    {
     "name": "stdout",
     "output_type": "stream",
     "text": [
      "loading data\n",
      "Class distribution before cleaning: Counter({2: 148259, 3: 87218, 1: 25124})\n",
      "Length overall: 260601\n",
      "preparing data\n",
      "storing cleaned data\n",
      "running pipeline\n",
      "Class distribution after resampling: Counter({2: 102586, 3: 67946, 1: 11823})\n",
      "Length overall: 182355\n"
     ]
    }
   ],
   "source": [
    "# build and prepare pipeline\n",
    "pipe = build_pipeline.CustomPipeline(skip_storing_prediction=True, force_cleaning=True, skip_evaluation=True)\n",
    "pipeline_utils.add_best_steps(pipe)\n",
    "#pipeline_utils.add_randomsampling(pipe, oversampling_strategy='auto', undersampling_strategy='auto')\n",
    "pipe.apply_outlier_handler(pipeline_cleaning.OutlierRemover(cat_threshold=0.05, zscore_value=3))\n",
    "\n",
    "# Check the class distribution before resampling\n",
    "print('Class distribution before cleaning:', Counter(pipe.y_train_raw['damage_grade']))\n",
    "print('Length overall:', len(pipe.y_train_raw['damage_grade']))\n",
    "\n",
    "# run the pipeline\n",
    "pipe.run()\n",
    "\n",
    "# Check the class distribution after resampling\n",
    "print('Class distribution after resampling:', Counter(pipe.y_train))\n",
    "print('Length overall:', len(pipe.y_train))\n"
   ]
  },
  {
   "cell_type": "code",
   "execution_count": 7,
   "metadata": {},
   "outputs": [
    {
     "name": "stdout",
     "output_type": "stream",
     "text": [
      "loading data\n",
      "preparing data\n",
      "running pipeline\n"
     ]
    },
    {
     "ename": "ValueError",
     "evalue": "Names provided are not unique: ['discretizer', 'encoder_and_scaler', 'feature_remover', 'oversampling', 'undersampling', 'feature_remover', 'discretizer', 'encoder_and_scaler', 'oversampling', 'undersampling', 'feature_remover', 'discretizer', 'encoder_and_scaler', 'feature_remover', 'discretizer', 'encoder_and_scaler', 'estimator']",
     "output_type": "error",
     "traceback": [
      "\u001b[1;31m---------------------------------------------------------------------------\u001b[0m",
      "\u001b[1;31mValueError\u001b[0m                                Traceback (most recent call last)",
      "Cell \u001b[1;32mIn[7], line 12\u001b[0m\n\u001b[0;32m     10\u001b[0m \u001b[39m#pipeline_utils.add_best_steps(custom_pipeline=lgbm_pipeline)\u001b[39;00m\n\u001b[0;32m     11\u001b[0m pipeline_utils\u001b[39m.\u001b[39mapply_lgbm_classifier(lgbm_pipeline)\n\u001b[1;32m---> 12\u001b[0m lgbm_pipeline\u001b[39m.\u001b[39;49mrun()\n",
      "File \u001b[1;32mc:\\users\\marco\\workspace\\phase-1\\src\\pipelines\\build_pipeline.py:146\u001b[0m, in \u001b[0;36mCustomPipeline.run\u001b[1;34m(self)\u001b[0m\n\u001b[0;32m    144\u001b[0m \u001b[39mif\u001b[39;00m \u001b[39mself\u001b[39m\u001b[39m.\u001b[39mverbose \u001b[39m>\u001b[39m\u001b[39m=\u001b[39m \u001b[39m1\u001b[39m:\n\u001b[0;32m    145\u001b[0m     \u001b[39mprint\u001b[39m(\u001b[39m'\u001b[39m\u001b[39mrunning pipeline\u001b[39m\u001b[39m'\u001b[39m)\n\u001b[1;32m--> 146\u001b[0m \u001b[39mself\u001b[39;49m\u001b[39m.\u001b[39;49mpipeline\u001b[39m.\u001b[39;49mfit(\u001b[39mself\u001b[39;49m\u001b[39m.\u001b[39;49mX_train, \u001b[39mself\u001b[39;49m\u001b[39m.\u001b[39;49my_train)\n\u001b[0;32m    148\u001b[0m \u001b[39mif\u001b[39;00m \u001b[39mnot\u001b[39;00m \u001b[39mself\u001b[39m\u001b[39m.\u001b[39mskip_evaluation:\n\u001b[0;32m    149\u001b[0m     \u001b[39mif\u001b[39;00m \u001b[39mself\u001b[39m\u001b[39m.\u001b[39mverbose \u001b[39m>\u001b[39m\u001b[39m=\u001b[39m \u001b[39m1\u001b[39m:\n",
      "File \u001b[1;32mc:\\Users\\Marco\\Workspace\\phase-1\\venv\\Lib\\site-packages\\imblearn\\pipeline.py:293\u001b[0m, in \u001b[0;36mPipeline.fit\u001b[1;34m(self, X, y, **fit_params)\u001b[0m\n\u001b[0;32m    291\u001b[0m \u001b[39mself\u001b[39m\u001b[39m.\u001b[39m_validate_params()\n\u001b[0;32m    292\u001b[0m fit_params_steps \u001b[39m=\u001b[39m \u001b[39mself\u001b[39m\u001b[39m.\u001b[39m_check_fit_params(\u001b[39m*\u001b[39m\u001b[39m*\u001b[39mfit_params)\n\u001b[1;32m--> 293\u001b[0m Xt, yt \u001b[39m=\u001b[39m \u001b[39mself\u001b[39;49m\u001b[39m.\u001b[39;49m_fit(X, y, \u001b[39m*\u001b[39;49m\u001b[39m*\u001b[39;49mfit_params_steps)\n\u001b[0;32m    294\u001b[0m \u001b[39mwith\u001b[39;00m _print_elapsed_time(\u001b[39m\"\u001b[39m\u001b[39mPipeline\u001b[39m\u001b[39m\"\u001b[39m, \u001b[39mself\u001b[39m\u001b[39m.\u001b[39m_log_message(\u001b[39mlen\u001b[39m(\u001b[39mself\u001b[39m\u001b[39m.\u001b[39msteps) \u001b[39m-\u001b[39m \u001b[39m1\u001b[39m)):\n\u001b[0;32m    295\u001b[0m     \u001b[39mif\u001b[39;00m \u001b[39mself\u001b[39m\u001b[39m.\u001b[39m_final_estimator \u001b[39m!=\u001b[39m \u001b[39m\"\u001b[39m\u001b[39mpassthrough\u001b[39m\u001b[39m\"\u001b[39m:\n",
      "File \u001b[1;32mc:\\Users\\Marco\\Workspace\\phase-1\\venv\\Lib\\site-packages\\imblearn\\pipeline.py:211\u001b[0m, in \u001b[0;36mPipeline._fit\u001b[1;34m(self, X, y, **fit_params_steps)\u001b[0m\n\u001b[0;32m    209\u001b[0m \u001b[39mdef\u001b[39;00m \u001b[39m_fit\u001b[39m(\u001b[39mself\u001b[39m, X, y\u001b[39m=\u001b[39m\u001b[39mNone\u001b[39;00m, \u001b[39m*\u001b[39m\u001b[39m*\u001b[39mfit_params_steps):\n\u001b[0;32m    210\u001b[0m     \u001b[39mself\u001b[39m\u001b[39m.\u001b[39msteps \u001b[39m=\u001b[39m \u001b[39mlist\u001b[39m(\u001b[39mself\u001b[39m\u001b[39m.\u001b[39msteps)\n\u001b[1;32m--> 211\u001b[0m     \u001b[39mself\u001b[39;49m\u001b[39m.\u001b[39;49m_validate_steps()\n\u001b[0;32m    212\u001b[0m     \u001b[39m# Setup the memory\u001b[39;00m\n\u001b[0;32m    213\u001b[0m     \u001b[39mif\u001b[39;00m \u001b[39mself\u001b[39m\u001b[39m.\u001b[39mmemory \u001b[39mis\u001b[39;00m \u001b[39mNone\u001b[39;00m \u001b[39mor\u001b[39;00m \u001b[39misinstance\u001b[39m(\u001b[39mself\u001b[39m\u001b[39m.\u001b[39mmemory, \u001b[39mstr\u001b[39m):\n",
      "File \u001b[1;32mc:\\Users\\Marco\\Workspace\\phase-1\\venv\\Lib\\site-packages\\imblearn\\pipeline.py:146\u001b[0m, in \u001b[0;36mPipeline._validate_steps\u001b[1;34m(self)\u001b[0m\n\u001b[0;32m    143\u001b[0m names, estimators \u001b[39m=\u001b[39m \u001b[39mzip\u001b[39m(\u001b[39m*\u001b[39m\u001b[39mself\u001b[39m\u001b[39m.\u001b[39msteps)\n\u001b[0;32m    145\u001b[0m \u001b[39m# validate names\u001b[39;00m\n\u001b[1;32m--> 146\u001b[0m \u001b[39mself\u001b[39;49m\u001b[39m.\u001b[39;49m_validate_names(names)\n\u001b[0;32m    148\u001b[0m \u001b[39m# validate estimators\u001b[39;00m\n\u001b[0;32m    149\u001b[0m transformers \u001b[39m=\u001b[39m estimators[:\u001b[39m-\u001b[39m\u001b[39m1\u001b[39m]\n",
      "File \u001b[1;32mc:\\Users\\Marco\\Workspace\\phase-1\\venv\\Lib\\site-packages\\sklearn\\utils\\metaestimators.py:84\u001b[0m, in \u001b[0;36m_BaseComposition._validate_names\u001b[1;34m(self, names)\u001b[0m\n\u001b[0;32m     82\u001b[0m \u001b[39mdef\u001b[39;00m \u001b[39m_validate_names\u001b[39m(\u001b[39mself\u001b[39m, names):\n\u001b[0;32m     83\u001b[0m     \u001b[39mif\u001b[39;00m \u001b[39mlen\u001b[39m(\u001b[39mset\u001b[39m(names)) \u001b[39m!=\u001b[39m \u001b[39mlen\u001b[39m(names):\n\u001b[1;32m---> 84\u001b[0m         \u001b[39mraise\u001b[39;00m \u001b[39mValueError\u001b[39;00m(\u001b[39m\"\u001b[39m\u001b[39mNames provided are not unique: \u001b[39m\u001b[39m{0!r}\u001b[39;00m\u001b[39m\"\u001b[39m\u001b[39m.\u001b[39mformat(\u001b[39mlist\u001b[39m(names)))\n\u001b[0;32m     85\u001b[0m     invalid_names \u001b[39m=\u001b[39m \u001b[39mset\u001b[39m(names)\u001b[39m.\u001b[39mintersection(\u001b[39mself\u001b[39m\u001b[39m.\u001b[39mget_params(deep\u001b[39m=\u001b[39m\u001b[39mFalse\u001b[39;00m))\n\u001b[0;32m     86\u001b[0m     \u001b[39mif\u001b[39;00m invalid_names:\n",
      "\u001b[1;31mValueError\u001b[0m: Names provided are not unique: ['discretizer', 'encoder_and_scaler', 'feature_remover', 'oversampling', 'undersampling', 'feature_remover', 'discretizer', 'encoder_and_scaler', 'oversampling', 'undersampling', 'feature_remover', 'discretizer', 'encoder_and_scaler', 'feature_remover', 'discretizer', 'encoder_and_scaler', 'estimator']"
     ]
    }
   ],
   "source": [
    "lgbm_pipeline = build_pipeline.CustomPipeline(\n",
    "        force_cleaning=False,\n",
    "        skip_storing_cleaning=True,\n",
    "        skip_evaluation=False,\n",
    "        skip_error_evaluation=True,\n",
    "        skip_feature_evaluation=False,\n",
    "        print_evaluation=True,\n",
    "        skip_storing_prediction=True\n",
    "        )\n",
    "#pipeline_utils.add_best_steps(custom_pipeline=lgbm_pipeline)\n",
    "pipeline_utils.apply_lgbm_classifier(lgbm_pipeline)\n",
    "lgbm_pipeline.run()"
   ]
  }
 ],
 "metadata": {
  "kernelspec": {
   "display_name": "venv",
   "language": "python",
   "name": "python3"
  },
  "language_info": {
   "codemirror_mode": {
    "name": "ipython",
    "version": 3
   },
   "file_extension": ".py",
   "mimetype": "text/x-python",
   "name": "python",
   "nbconvert_exporter": "python",
   "pygments_lexer": "ipython3",
   "version": "3.11.3"
  },
  "orig_nbformat": 4
 },
 "nbformat": 4,
 "nbformat_minor": 2
}
