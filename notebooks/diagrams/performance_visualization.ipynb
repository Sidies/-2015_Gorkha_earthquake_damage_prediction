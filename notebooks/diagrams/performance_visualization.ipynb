{
 "cells": [
  {
   "cell_type": "code",
   "execution_count": 63,
   "id": "f60ae1c3",
   "metadata": {},
   "outputs": [],
   "source": [
    "import pandas as pd\n",
    "import matplotlib.pyplot as plt\n",
    "import seaborn as sns\n",
    "\n",
    "from matplotlib.patches import Patch\n",
    "from matplotlib.lines import Line2D"
   ]
  },
  {
   "cell_type": "code",
   "execution_count": 66,
   "id": "2b0a9e20",
   "metadata": {},
   "outputs": [
    {
     "data": {
      "text/html": [
       "<div>\n",
       "<style scoped>\n",
       "    .dataframe tbody tr th:only-of-type {\n",
       "        vertical-align: middle;\n",
       "    }\n",
       "\n",
       "    .dataframe tbody tr th {\n",
       "        vertical-align: top;\n",
       "    }\n",
       "\n",
       "    .dataframe thead th {\n",
       "        text-align: right;\n",
       "    }\n",
       "</style>\n",
       "<table border=\"1\" class=\"dataframe\">\n",
       "  <thead>\n",
       "    <tr style=\"text-align: right;\">\n",
       "      <th></th>\n",
       "      <th>model</th>\n",
       "      <th>mcc</th>\n",
       "      <th>runtime</th>\n",
       "      <th>tuned</th>\n",
       "    </tr>\n",
       "  </thead>\n",
       "  <tbody>\n",
       "    <tr>\n",
       "      <th>0</th>\n",
       "      <td>knn</td>\n",
       "      <td>0.495</td>\n",
       "      <td>242.60</td>\n",
       "      <td>tuned</td>\n",
       "    </tr>\n",
       "    <tr>\n",
       "      <th>1</th>\n",
       "      <td>knn</td>\n",
       "      <td>0.483</td>\n",
       "      <td>41.20</td>\n",
       "      <td>default</td>\n",
       "    </tr>\n",
       "    <tr>\n",
       "      <th>2</th>\n",
       "      <td>lgbm</td>\n",
       "      <td>0.515</td>\n",
       "      <td>23.19</td>\n",
       "      <td>tuned</td>\n",
       "    </tr>\n",
       "    <tr>\n",
       "      <th>3</th>\n",
       "      <td>lgbm</td>\n",
       "      <td>0.456</td>\n",
       "      <td>12.96</td>\n",
       "      <td>default</td>\n",
       "    </tr>\n",
       "    <tr>\n",
       "      <th>4</th>\n",
       "      <td>forest</td>\n",
       "      <td>0.515</td>\n",
       "      <td>258.14</td>\n",
       "      <td>tuned</td>\n",
       "    </tr>\n",
       "    <tr>\n",
       "      <th>5</th>\n",
       "      <td>forest</td>\n",
       "      <td>0.487</td>\n",
       "      <td>59.13</td>\n",
       "      <td>default</td>\n",
       "    </tr>\n",
       "  </tbody>\n",
       "</table>\n",
       "</div>"
      ],
      "text/plain": [
       "    model    mcc  runtime    tuned\n",
       "0     knn  0.495   242.60    tuned\n",
       "1     knn  0.483    41.20  default\n",
       "2    lgbm  0.515    23.19    tuned\n",
       "3    lgbm  0.456    12.96  default\n",
       "4  forest  0.515   258.14    tuned\n",
       "5  forest  0.487    59.13  default"
      ]
     },
     "metadata": {},
     "output_type": "display_data"
    }
   ],
   "source": [
    "data = pd.read_csv('tuned_model_performances.csv')\n",
    "display(data)"
   ]
  },
  {
   "cell_type": "code",
   "execution_count": 100,
   "id": "b0ab1d0d",
   "metadata": {},
   "outputs": [
    {
     "data": {
      "image/png": "[encoded data removed]",
      "text/plain": [
       "<Figure size 432x288 with 1 Axes>"
      ]
     },
     "metadata": {
      "needs_background": "light"
     },
     "output_type": "display_data"
    }
   ],
   "source": [
    "color_map = {\n",
    "    'knn': 'blue',\n",
    "    'lgbm': 'red',\n",
    "    'forest': 'green'\n",
    "}\n",
    "marker_map = {\n",
    "    'tuned': 'X',\n",
    "    'default': 'o'\n",
    "}\n",
    "markersize = 10\n",
    "\n",
    "fig, ax = plt.subplots()\n",
    "\n",
    "legend_elements = []\n",
    "for index, (model, mcc, runtime, tuned) in data.iterrows():\n",
    "    ax.plot(runtime, mcc, color=color_map[model], marker=marker_map[tuned], markersize=markersize)\n",
    "    legend_elements.append(Line2D([0], [0], marker=marker_map[tuned], color='w', label=model + ' [' + tuned + ']', markerfacecolor=color_map[model], markersize=markersize))\n",
    "\n",
    "ax.legend(handles=legend_elements, loc='lower right')\n",
    "plt.xlabel('runtime')\n",
    "plt.ylabel('mcc')\n",
    "\n",
    "plt.savefig(\"performance_visualization.svg\")\n",
    "plt.show()"
   ]
  }
 ],
 "metadata": {
  "kernelspec": {
   "display_name": "Python 3 (ipykernel)",
   "language": "python",
   "name": "python3"
  },
  "language_info": {
   "codemirror_mode": {
    "name": "ipython",
    "version": 3
   },
   "file_extension": ".py",
   "mimetype": "text/x-python",
   "name": "python",
   "nbconvert_exporter": "python",
   "pygments_lexer": "ipython3",
   "version": "3.8.10"
  }
 },
 "nbformat": 4,
 "nbformat_minor": 5
}
