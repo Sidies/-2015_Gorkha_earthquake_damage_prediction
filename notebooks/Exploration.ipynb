{
 "cells": [
  {
   "cell_type": "markdown",
   "id": "6aa7e563",
   "metadata": {},
   "source": [
    "# Exploration of earthquake damage in Nepal"
   ]
  },
  {
   "cell_type": "markdown",
   "id": "ff2e5f92",
   "metadata": {},
   "source": [
    "In this notebook the dataset provided by drivendata.org is scientifically explored. This dataset is provided as a part of the \"Richter's Predictor: Modeling Earthquake Damage\" competition that can be found under the following URL: https://www.drivendata.org/competitions/57/nepal-earthquake/\n",
    "\n",
    "Our goal is to predict the damage grade on a score of three by analysing features of the building."
   ]
  },
  {
   "cell_type": "markdown",
   "id": "91b490aa",
   "metadata": {},
   "source": [
    "### Preliminaries"
   ]
  },
  {
   "cell_type": "markdown",
   "id": "20ea6f73",
   "metadata": {},
   "source": [
    "Importing the required dependencies."
   ]
  },
  {
   "cell_type": "code",
   "execution_count": 1,
   "id": "6292ee00",
   "metadata": {},
   "outputs": [],
   "source": [
    "# enables referencing modules in repository\n",
    "import os\n",
    "import sys\n",
    "module_path = os.path.abspath(os.path.join('..'))\n",
    "if module_path not in sys.path:\n",
    "    sys.path.append(module_path)\n",
    "\n",
    "import numpy as np\n",
    "import pandas as pd\n",
    "import sklearn\n",
    "import matplotlib.pyplot as plt\n",
    "import seaborn as sns\n",
    "from scipy.stats import chi2_contingency\n",
    "\n",
    "from src.features import build_features\n",
    "# from src.data import make_dataset \n",
    "# commented out because: there seems to be an issue at the moment with the initial method from make_dataset\n",
    "from src.models import train_model\n",
    "from src.models import predict_model\n",
    "from src.visualization import visualize"
   ]
  },
  {
   "cell_type": "markdown",
   "id": "87db7ffb",
   "metadata": {},
   "source": [
    "Loading the data."
   ]
  },
  {
   "cell_type": "code",
   "execution_count": 2,
   "id": "7703e53c",
   "metadata": {},
   "outputs": [],
   "source": [
    "train_df = pd.read_csv('../data/raw/train_values.csv')\n",
    "target_df = pd.read_csv('../data/raw/train_labels.csv')"
   ]
  },
  {
   "cell_type": "markdown",
   "id": "a66a3f3f",
   "metadata": {},
   "source": [
    "### General Properties"
   ]
  },
  {
   "cell_type": "markdown",
   "id": "cd4baadf",
   "metadata": {},
   "source": [
    "Let us get a first overview of the dataset."
   ]
  },
  {
   "cell_type": "code",
   "execution_count": 3,
   "id": "208f2e99",
   "metadata": {},
   "outputs": [
    {
     "name": "stdout",
     "output_type": "stream",
     "text": [
      "number of rows: 260601\n",
      "number of columns: 39\n"
     ]
    }
   ],
   "source": [
    "print('number of rows:', len(train_df))\n",
    "print('number of columns:', len(train_df.columns))"
   ]
  },
  {
   "cell_type": "code",
   "execution_count": 4,
   "id": "cc9847fd",
   "metadata": {
    "scrolled": false
   },
   "outputs": [
    {
     "data": {
      "text/html": [
       "<div>\n",
       "<style scoped>\n",
       "    .dataframe tbody tr th:only-of-type {\n",
       "        vertical-align: middle;\n",
       "    }\n",
       "\n",
       "    .dataframe tbody tr th {\n",
       "        vertical-align: top;\n",
       "    }\n",
       "\n",
       "    .dataframe thead th {\n",
       "        text-align: right;\n",
       "    }\n",
       "</style>\n",
       "<table border=\"1\" class=\"dataframe\">\n",
       "  <thead>\n",
       "    <tr style=\"text-align: right;\">\n",
       "      <th></th>\n",
       "      <th>building_id</th>\n",
       "      <th>geo_level_1_id</th>\n",
       "      <th>geo_level_2_id</th>\n",
       "      <th>geo_level_3_id</th>\n",
       "      <th>count_floors_pre_eq</th>\n",
       "      <th>age</th>\n",
       "      <th>area_percentage</th>\n",
       "      <th>height_percentage</th>\n",
       "      <th>land_surface_condition</th>\n",
       "      <th>foundation_type</th>\n",
       "      <th>roof_type</th>\n",
       "      <th>ground_floor_type</th>\n",
       "      <th>other_floor_type</th>\n",
       "      <th>position</th>\n",
       "      <th>plan_configuration</th>\n",
       "      <th>has_superstructure_adobe_mud</th>\n",
       "      <th>has_superstructure_mud_mortar_stone</th>\n",
       "      <th>has_superstructure_stone_flag</th>\n",
       "      <th>has_superstructure_cement_mortar_stone</th>\n",
       "      <th>has_superstructure_mud_mortar_brick</th>\n",
       "      <th>has_superstructure_cement_mortar_brick</th>\n",
       "      <th>has_superstructure_timber</th>\n",
       "      <th>has_superstructure_bamboo</th>\n",
       "      <th>has_superstructure_rc_non_engineered</th>\n",
       "      <th>has_superstructure_rc_engineered</th>\n",
       "      <th>has_superstructure_other</th>\n",
       "      <th>legal_ownership_status</th>\n",
       "      <th>count_families</th>\n",
       "      <th>has_secondary_use</th>\n",
       "      <th>has_secondary_use_agriculture</th>\n",
       "      <th>has_secondary_use_hotel</th>\n",
       "      <th>has_secondary_use_rental</th>\n",
       "      <th>has_secondary_use_institution</th>\n",
       "      <th>has_secondary_use_school</th>\n",
       "      <th>has_secondary_use_industry</th>\n",
       "      <th>has_secondary_use_health_post</th>\n",
       "      <th>has_secondary_use_gov_office</th>\n",
       "      <th>has_secondary_use_use_police</th>\n",
       "      <th>has_secondary_use_other</th>\n",
       "    </tr>\n",
       "  </thead>\n",
       "  <tbody>\n",
       "    <tr>\n",
       "      <th>0</th>\n",
       "      <td>802906</td>\n",
       "      <td>6</td>\n",
       "      <td>487</td>\n",
       "      <td>12198</td>\n",
       "      <td>2</td>\n",
       "      <td>30</td>\n",
       "      <td>6</td>\n",
       "      <td>5</td>\n",
       "      <td>t</td>\n",
       "      <td>r</td>\n",
       "      <td>n</td>\n",
       "      <td>f</td>\n",
       "      <td>q</td>\n",
       "      <td>t</td>\n",
       "      <td>d</td>\n",
       "      <td>1</td>\n",
       "      <td>1</td>\n",
       "      <td>0</td>\n",
       "      <td>0</td>\n",
       "      <td>0</td>\n",
       "      <td>0</td>\n",
       "      <td>0</td>\n",
       "      <td>0</td>\n",
       "      <td>0</td>\n",
       "      <td>0</td>\n",
       "      <td>0</td>\n",
       "      <td>v</td>\n",
       "      <td>1</td>\n",
       "      <td>0</td>\n",
       "      <td>0</td>\n",
       "      <td>0</td>\n",
       "      <td>0</td>\n",
       "      <td>0</td>\n",
       "      <td>0</td>\n",
       "      <td>0</td>\n",
       "      <td>0</td>\n",
       "      <td>0</td>\n",
       "      <td>0</td>\n",
       "      <td>0</td>\n",
       "    </tr>\n",
       "    <tr>\n",
       "      <th>1</th>\n",
       "      <td>28830</td>\n",
       "      <td>8</td>\n",
       "      <td>900</td>\n",
       "      <td>2812</td>\n",
       "      <td>2</td>\n",
       "      <td>10</td>\n",
       "      <td>8</td>\n",
       "      <td>7</td>\n",
       "      <td>o</td>\n",
       "      <td>r</td>\n",
       "      <td>n</td>\n",
       "      <td>x</td>\n",
       "      <td>q</td>\n",
       "      <td>s</td>\n",
       "      <td>d</td>\n",
       "      <td>0</td>\n",
       "      <td>1</td>\n",
       "      <td>0</td>\n",
       "      <td>0</td>\n",
       "      <td>0</td>\n",
       "      <td>0</td>\n",
       "      <td>0</td>\n",
       "      <td>0</td>\n",
       "      <td>0</td>\n",
       "      <td>0</td>\n",
       "      <td>0</td>\n",
       "      <td>v</td>\n",
       "      <td>1</td>\n",
       "      <td>0</td>\n",
       "      <td>0</td>\n",
       "      <td>0</td>\n",
       "      <td>0</td>\n",
       "      <td>0</td>\n",
       "      <td>0</td>\n",
       "      <td>0</td>\n",
       "      <td>0</td>\n",
       "      <td>0</td>\n",
       "      <td>0</td>\n",
       "      <td>0</td>\n",
       "    </tr>\n",
       "    <tr>\n",
       "      <th>2</th>\n",
       "      <td>94947</td>\n",
       "      <td>21</td>\n",
       "      <td>363</td>\n",
       "      <td>8973</td>\n",
       "      <td>2</td>\n",
       "      <td>10</td>\n",
       "      <td>5</td>\n",
       "      <td>5</td>\n",
       "      <td>t</td>\n",
       "      <td>r</td>\n",
       "      <td>n</td>\n",
       "      <td>f</td>\n",
       "      <td>x</td>\n",
       "      <td>t</td>\n",
       "      <td>d</td>\n",
       "      <td>0</td>\n",
       "      <td>1</td>\n",
       "      <td>0</td>\n",
       "      <td>0</td>\n",
       "      <td>0</td>\n",
       "      <td>0</td>\n",
       "      <td>0</td>\n",
       "      <td>0</td>\n",
       "      <td>0</td>\n",
       "      <td>0</td>\n",
       "      <td>0</td>\n",
       "      <td>v</td>\n",
       "      <td>1</td>\n",
       "      <td>0</td>\n",
       "      <td>0</td>\n",
       "      <td>0</td>\n",
       "      <td>0</td>\n",
       "      <td>0</td>\n",
       "      <td>0</td>\n",
       "      <td>0</td>\n",
       "      <td>0</td>\n",
       "      <td>0</td>\n",
       "      <td>0</td>\n",
       "      <td>0</td>\n",
       "    </tr>\n",
       "    <tr>\n",
       "      <th>3</th>\n",
       "      <td>590882</td>\n",
       "      <td>22</td>\n",
       "      <td>418</td>\n",
       "      <td>10694</td>\n",
       "      <td>2</td>\n",
       "      <td>10</td>\n",
       "      <td>6</td>\n",
       "      <td>5</td>\n",
       "      <td>t</td>\n",
       "      <td>r</td>\n",
       "      <td>n</td>\n",
       "      <td>f</td>\n",
       "      <td>x</td>\n",
       "      <td>s</td>\n",
       "      <td>d</td>\n",
       "      <td>0</td>\n",
       "      <td>1</td>\n",
       "      <td>0</td>\n",
       "      <td>0</td>\n",
       "      <td>0</td>\n",
       "      <td>0</td>\n",
       "      <td>1</td>\n",
       "      <td>1</td>\n",
       "      <td>0</td>\n",
       "      <td>0</td>\n",
       "      <td>0</td>\n",
       "      <td>v</td>\n",
       "      <td>1</td>\n",
       "      <td>0</td>\n",
       "      <td>0</td>\n",
       "      <td>0</td>\n",
       "      <td>0</td>\n",
       "      <td>0</td>\n",
       "      <td>0</td>\n",
       "      <td>0</td>\n",
       "      <td>0</td>\n",
       "      <td>0</td>\n",
       "      <td>0</td>\n",
       "      <td>0</td>\n",
       "    </tr>\n",
       "    <tr>\n",
       "      <th>4</th>\n",
       "      <td>201944</td>\n",
       "      <td>11</td>\n",
       "      <td>131</td>\n",
       "      <td>1488</td>\n",
       "      <td>3</td>\n",
       "      <td>30</td>\n",
       "      <td>8</td>\n",
       "      <td>9</td>\n",
       "      <td>t</td>\n",
       "      <td>r</td>\n",
       "      <td>n</td>\n",
       "      <td>f</td>\n",
       "      <td>x</td>\n",
       "      <td>s</td>\n",
       "      <td>d</td>\n",
       "      <td>1</td>\n",
       "      <td>0</td>\n",
       "      <td>0</td>\n",
       "      <td>0</td>\n",
       "      <td>0</td>\n",
       "      <td>0</td>\n",
       "      <td>0</td>\n",
       "      <td>0</td>\n",
       "      <td>0</td>\n",
       "      <td>0</td>\n",
       "      <td>0</td>\n",
       "      <td>v</td>\n",
       "      <td>1</td>\n",
       "      <td>0</td>\n",
       "      <td>0</td>\n",
       "      <td>0</td>\n",
       "      <td>0</td>\n",
       "      <td>0</td>\n",
       "      <td>0</td>\n",
       "      <td>0</td>\n",
       "      <td>0</td>\n",
       "      <td>0</td>\n",
       "      <td>0</td>\n",
       "      <td>0</td>\n",
       "    </tr>\n",
       "    <tr>\n",
       "      <th>5</th>\n",
       "      <td>333020</td>\n",
       "      <td>8</td>\n",
       "      <td>558</td>\n",
       "      <td>6089</td>\n",
       "      <td>2</td>\n",
       "      <td>10</td>\n",
       "      <td>9</td>\n",
       "      <td>5</td>\n",
       "      <td>t</td>\n",
       "      <td>r</td>\n",
       "      <td>n</td>\n",
       "      <td>f</td>\n",
       "      <td>q</td>\n",
       "      <td>s</td>\n",
       "      <td>d</td>\n",
       "      <td>0</td>\n",
       "      <td>1</td>\n",
       "      <td>0</td>\n",
       "      <td>0</td>\n",
       "      <td>0</td>\n",
       "      <td>0</td>\n",
       "      <td>0</td>\n",
       "      <td>0</td>\n",
       "      <td>0</td>\n",
       "      <td>0</td>\n",
       "      <td>0</td>\n",
       "      <td>v</td>\n",
       "      <td>1</td>\n",
       "      <td>1</td>\n",
       "      <td>1</td>\n",
       "      <td>0</td>\n",
       "      <td>0</td>\n",
       "      <td>0</td>\n",
       "      <td>0</td>\n",
       "      <td>0</td>\n",
       "      <td>0</td>\n",
       "      <td>0</td>\n",
       "      <td>0</td>\n",
       "      <td>0</td>\n",
       "    </tr>\n",
       "    <tr>\n",
       "      <th>6</th>\n",
       "      <td>728451</td>\n",
       "      <td>9</td>\n",
       "      <td>475</td>\n",
       "      <td>12066</td>\n",
       "      <td>2</td>\n",
       "      <td>25</td>\n",
       "      <td>3</td>\n",
       "      <td>4</td>\n",
       "      <td>n</td>\n",
       "      <td>r</td>\n",
       "      <td>n</td>\n",
       "      <td>x</td>\n",
       "      <td>q</td>\n",
       "      <td>s</td>\n",
       "      <td>d</td>\n",
       "      <td>0</td>\n",
       "      <td>1</td>\n",
       "      <td>0</td>\n",
       "      <td>0</td>\n",
       "      <td>0</td>\n",
       "      <td>0</td>\n",
       "      <td>0</td>\n",
       "      <td>0</td>\n",
       "      <td>0</td>\n",
       "      <td>0</td>\n",
       "      <td>0</td>\n",
       "      <td>v</td>\n",
       "      <td>1</td>\n",
       "      <td>0</td>\n",
       "      <td>0</td>\n",
       "      <td>0</td>\n",
       "      <td>0</td>\n",
       "      <td>0</td>\n",
       "      <td>0</td>\n",
       "      <td>0</td>\n",
       "      <td>0</td>\n",
       "      <td>0</td>\n",
       "      <td>0</td>\n",
       "      <td>0</td>\n",
       "    </tr>\n",
       "    <tr>\n",
       "      <th>7</th>\n",
       "      <td>475515</td>\n",
       "      <td>20</td>\n",
       "      <td>323</td>\n",
       "      <td>12236</td>\n",
       "      <td>2</td>\n",
       "      <td>0</td>\n",
       "      <td>8</td>\n",
       "      <td>6</td>\n",
       "      <td>t</td>\n",
       "      <td>w</td>\n",
       "      <td>q</td>\n",
       "      <td>v</td>\n",
       "      <td>x</td>\n",
       "      <td>s</td>\n",
       "      <td>u</td>\n",
       "      <td>0</td>\n",
       "      <td>0</td>\n",
       "      <td>0</td>\n",
       "      <td>0</td>\n",
       "      <td>0</td>\n",
       "      <td>1</td>\n",
       "      <td>1</td>\n",
       "      <td>0</td>\n",
       "      <td>0</td>\n",
       "      <td>0</td>\n",
       "      <td>0</td>\n",
       "      <td>v</td>\n",
       "      <td>1</td>\n",
       "      <td>0</td>\n",
       "      <td>0</td>\n",
       "      <td>0</td>\n",
       "      <td>0</td>\n",
       "      <td>0</td>\n",
       "      <td>0</td>\n",
       "      <td>0</td>\n",
       "      <td>0</td>\n",
       "      <td>0</td>\n",
       "      <td>0</td>\n",
       "      <td>0</td>\n",
       "    </tr>\n",
       "    <tr>\n",
       "      <th>8</th>\n",
       "      <td>441126</td>\n",
       "      <td>0</td>\n",
       "      <td>757</td>\n",
       "      <td>7219</td>\n",
       "      <td>2</td>\n",
       "      <td>15</td>\n",
       "      <td>8</td>\n",
       "      <td>6</td>\n",
       "      <td>t</td>\n",
       "      <td>r</td>\n",
       "      <td>q</td>\n",
       "      <td>f</td>\n",
       "      <td>q</td>\n",
       "      <td>s</td>\n",
       "      <td>d</td>\n",
       "      <td>0</td>\n",
       "      <td>1</td>\n",
       "      <td>0</td>\n",
       "      <td>0</td>\n",
       "      <td>0</td>\n",
       "      <td>0</td>\n",
       "      <td>1</td>\n",
       "      <td>0</td>\n",
       "      <td>0</td>\n",
       "      <td>0</td>\n",
       "      <td>0</td>\n",
       "      <td>v</td>\n",
       "      <td>1</td>\n",
       "      <td>0</td>\n",
       "      <td>0</td>\n",
       "      <td>0</td>\n",
       "      <td>0</td>\n",
       "      <td>0</td>\n",
       "      <td>0</td>\n",
       "      <td>0</td>\n",
       "      <td>0</td>\n",
       "      <td>0</td>\n",
       "      <td>0</td>\n",
       "      <td>0</td>\n",
       "    </tr>\n",
       "    <tr>\n",
       "      <th>9</th>\n",
       "      <td>989500</td>\n",
       "      <td>26</td>\n",
       "      <td>886</td>\n",
       "      <td>994</td>\n",
       "      <td>1</td>\n",
       "      <td>0</td>\n",
       "      <td>13</td>\n",
       "      <td>4</td>\n",
       "      <td>t</td>\n",
       "      <td>i</td>\n",
       "      <td>n</td>\n",
       "      <td>v</td>\n",
       "      <td>j</td>\n",
       "      <td>s</td>\n",
       "      <td>d</td>\n",
       "      <td>0</td>\n",
       "      <td>0</td>\n",
       "      <td>0</td>\n",
       "      <td>0</td>\n",
       "      <td>0</td>\n",
       "      <td>1</td>\n",
       "      <td>0</td>\n",
       "      <td>0</td>\n",
       "      <td>0</td>\n",
       "      <td>0</td>\n",
       "      <td>0</td>\n",
       "      <td>v</td>\n",
       "      <td>1</td>\n",
       "      <td>0</td>\n",
       "      <td>0</td>\n",
       "      <td>0</td>\n",
       "      <td>0</td>\n",
       "      <td>0</td>\n",
       "      <td>0</td>\n",
       "      <td>0</td>\n",
       "      <td>0</td>\n",
       "      <td>0</td>\n",
       "      <td>0</td>\n",
       "      <td>0</td>\n",
       "    </tr>\n",
       "  </tbody>\n",
       "</table>\n",
       "</div>"
      ],
      "text/plain": [
       "   building_id  geo_level_1_id  geo_level_2_id  geo_level_3_id  \\\n",
       "0       802906               6             487           12198   \n",
       "1        28830               8             900            2812   \n",
       "2        94947              21             363            8973   \n",
       "3       590882              22             418           10694   \n",
       "4       201944              11             131            1488   \n",
       "5       333020               8             558            6089   \n",
       "6       728451               9             475           12066   \n",
       "7       475515              20             323           12236   \n",
       "8       441126               0             757            7219   \n",
       "9       989500              26             886             994   \n",
       "\n",
       "   count_floors_pre_eq  age  area_percentage  height_percentage  \\\n",
       "0                    2   30                6                  5   \n",
       "1                    2   10                8                  7   \n",
       "2                    2   10                5                  5   \n",
       "3                    2   10                6                  5   \n",
       "4                    3   30                8                  9   \n",
       "5                    2   10                9                  5   \n",
       "6                    2   25                3                  4   \n",
       "7                    2    0                8                  6   \n",
       "8                    2   15                8                  6   \n",
       "9                    1    0               13                  4   \n",
       "\n",
       "  land_surface_condition foundation_type roof_type ground_floor_type  \\\n",
       "0                      t               r         n                 f   \n",
       "1                      o               r         n                 x   \n",
       "2                      t               r         n                 f   \n",
       "3                      t               r         n                 f   \n",
       "4                      t               r         n                 f   \n",
       "5                      t               r         n                 f   \n",
       "6                      n               r         n                 x   \n",
       "7                      t               w         q                 v   \n",
       "8                      t               r         q                 f   \n",
       "9                      t               i         n                 v   \n",
       "\n",
       "  other_floor_type position plan_configuration  has_superstructure_adobe_mud  \\\n",
       "0                q        t                  d                             1   \n",
       "1                q        s                  d                             0   \n",
       "2                x        t                  d                             0   \n",
       "3                x        s                  d                             0   \n",
       "4                x        s                  d                             1   \n",
       "5                q        s                  d                             0   \n",
       "6                q        s                  d                             0   \n",
       "7                x        s                  u                             0   \n",
       "8                q        s                  d                             0   \n",
       "9                j        s                  d                             0   \n",
       "\n",
       "   has_superstructure_mud_mortar_stone  has_superstructure_stone_flag  \\\n",
       "0                                    1                              0   \n",
       "1                                    1                              0   \n",
       "2                                    1                              0   \n",
       "3                                    1                              0   \n",
       "4                                    0                              0   \n",
       "5                                    1                              0   \n",
       "6                                    1                              0   \n",
       "7                                    0                              0   \n",
       "8                                    1                              0   \n",
       "9                                    0                              0   \n",
       "\n",
       "   has_superstructure_cement_mortar_stone  \\\n",
       "0                                       0   \n",
       "1                                       0   \n",
       "2                                       0   \n",
       "3                                       0   \n",
       "4                                       0   \n",
       "5                                       0   \n",
       "6                                       0   \n",
       "7                                       0   \n",
       "8                                       0   \n",
       "9                                       0   \n",
       "\n",
       "   has_superstructure_mud_mortar_brick  \\\n",
       "0                                    0   \n",
       "1                                    0   \n",
       "2                                    0   \n",
       "3                                    0   \n",
       "4                                    0   \n",
       "5                                    0   \n",
       "6                                    0   \n",
       "7                                    0   \n",
       "8                                    0   \n",
       "9                                    0   \n",
       "\n",
       "   has_superstructure_cement_mortar_brick  has_superstructure_timber  \\\n",
       "0                                       0                          0   \n",
       "1                                       0                          0   \n",
       "2                                       0                          0   \n",
       "3                                       0                          1   \n",
       "4                                       0                          0   \n",
       "5                                       0                          0   \n",
       "6                                       0                          0   \n",
       "7                                       1                          1   \n",
       "8                                       0                          1   \n",
       "9                                       1                          0   \n",
       "\n",
       "   has_superstructure_bamboo  has_superstructure_rc_non_engineered  \\\n",
       "0                          0                                     0   \n",
       "1                          0                                     0   \n",
       "2                          0                                     0   \n",
       "3                          1                                     0   \n",
       "4                          0                                     0   \n",
       "5                          0                                     0   \n",
       "6                          0                                     0   \n",
       "7                          0                                     0   \n",
       "8                          0                                     0   \n",
       "9                          0                                     0   \n",
       "\n",
       "   has_superstructure_rc_engineered  has_superstructure_other  \\\n",
       "0                                 0                         0   \n",
       "1                                 0                         0   \n",
       "2                                 0                         0   \n",
       "3                                 0                         0   \n",
       "4                                 0                         0   \n",
       "5                                 0                         0   \n",
       "6                                 0                         0   \n",
       "7                                 0                         0   \n",
       "8                                 0                         0   \n",
       "9                                 0                         0   \n",
       "\n",
       "  legal_ownership_status  count_families  has_secondary_use  \\\n",
       "0                      v               1                  0   \n",
       "1                      v               1                  0   \n",
       "2                      v               1                  0   \n",
       "3                      v               1                  0   \n",
       "4                      v               1                  0   \n",
       "5                      v               1                  1   \n",
       "6                      v               1                  0   \n",
       "7                      v               1                  0   \n",
       "8                      v               1                  0   \n",
       "9                      v               1                  0   \n",
       "\n",
       "   has_secondary_use_agriculture  has_secondary_use_hotel  \\\n",
       "0                              0                        0   \n",
       "1                              0                        0   \n",
       "2                              0                        0   \n",
       "3                              0                        0   \n",
       "4                              0                        0   \n",
       "5                              1                        0   \n",
       "6                              0                        0   \n",
       "7                              0                        0   \n",
       "8                              0                        0   \n",
       "9                              0                        0   \n",
       "\n",
       "   has_secondary_use_rental  has_secondary_use_institution  \\\n",
       "0                         0                              0   \n",
       "1                         0                              0   \n",
       "2                         0                              0   \n",
       "3                         0                              0   \n",
       "4                         0                              0   \n",
       "5                         0                              0   \n",
       "6                         0                              0   \n",
       "7                         0                              0   \n",
       "8                         0                              0   \n",
       "9                         0                              0   \n",
       "\n",
       "   has_secondary_use_school  has_secondary_use_industry  \\\n",
       "0                         0                           0   \n",
       "1                         0                           0   \n",
       "2                         0                           0   \n",
       "3                         0                           0   \n",
       "4                         0                           0   \n",
       "5                         0                           0   \n",
       "6                         0                           0   \n",
       "7                         0                           0   \n",
       "8                         0                           0   \n",
       "9                         0                           0   \n",
       "\n",
       "   has_secondary_use_health_post  has_secondary_use_gov_office  \\\n",
       "0                              0                             0   \n",
       "1                              0                             0   \n",
       "2                              0                             0   \n",
       "3                              0                             0   \n",
       "4                              0                             0   \n",
       "5                              0                             0   \n",
       "6                              0                             0   \n",
       "7                              0                             0   \n",
       "8                              0                             0   \n",
       "9                              0                             0   \n",
       "\n",
       "   has_secondary_use_use_police  has_secondary_use_other  \n",
       "0                             0                        0  \n",
       "1                             0                        0  \n",
       "2                             0                        0  \n",
       "3                             0                        0  \n",
       "4                             0                        0  \n",
       "5                             0                        0  \n",
       "6                             0                        0  \n",
       "7                             0                        0  \n",
       "8                             0                        0  \n",
       "9                             0                        0  "
      ]
     },
     "execution_count": 4,
     "metadata": {},
     "output_type": "execute_result"
    }
   ],
   "source": [
    "pd.options.display.max_columns = None\n",
    "train_df.head(10)"
   ]
  },
  {
   "cell_type": "code",
   "execution_count": 5,
   "id": "2ecb62a2",
   "metadata": {},
   "outputs": [
    {
     "name": "stdout",
     "output_type": "stream",
     "text": [
      "<class 'pandas.core.frame.DataFrame'>\n",
      "RangeIndex: 260601 entries, 0 to 260600\n",
      "Data columns (total 39 columns):\n",
      " #   Column                                  Non-Null Count   Dtype \n",
      "---  ------                                  --------------   ----- \n",
      " 0   building_id                             260601 non-null  int64 \n",
      " 1   geo_level_1_id                          260601 non-null  int64 \n",
      " 2   geo_level_2_id                          260601 non-null  int64 \n",
      " 3   geo_level_3_id                          260601 non-null  int64 \n",
      " 4   count_floors_pre_eq                     260601 non-null  int64 \n",
      " 5   age                                     260601 non-null  int64 \n",
      " 6   area_percentage                         260601 non-null  int64 \n",
      " 7   height_percentage                       260601 non-null  int64 \n",
      " 8   land_surface_condition                  260601 non-null  object\n",
      " 9   foundation_type                         260601 non-null  object\n",
      " 10  roof_type                               260601 non-null  object\n",
      " 11  ground_floor_type                       260601 non-null  object\n",
      " 12  other_floor_type                        260601 non-null  object\n",
      " 13  position                                260601 non-null  object\n",
      " 14  plan_configuration                      260601 non-null  object\n",
      " 15  has_superstructure_adobe_mud            260601 non-null  int64 \n",
      " 16  has_superstructure_mud_mortar_stone     260601 non-null  int64 \n",
      " 17  has_superstructure_stone_flag           260601 non-null  int64 \n",
      " 18  has_superstructure_cement_mortar_stone  260601 non-null  int64 \n",
      " 19  has_superstructure_mud_mortar_brick     260601 non-null  int64 \n",
      " 20  has_superstructure_cement_mortar_brick  260601 non-null  int64 \n",
      " 21  has_superstructure_timber               260601 non-null  int64 \n",
      " 22  has_superstructure_bamboo               260601 non-null  int64 \n",
      " 23  has_superstructure_rc_non_engineered    260601 non-null  int64 \n",
      " 24  has_superstructure_rc_engineered        260601 non-null  int64 \n",
      " 25  has_superstructure_other                260601 non-null  int64 \n",
      " 26  legal_ownership_status                  260601 non-null  object\n",
      " 27  count_families                          260601 non-null  int64 \n",
      " 28  has_secondary_use                       260601 non-null  int64 \n",
      " 29  has_secondary_use_agriculture           260601 non-null  int64 \n",
      " 30  has_secondary_use_hotel                 260601 non-null  int64 \n",
      " 31  has_secondary_use_rental                260601 non-null  int64 \n",
      " 32  has_secondary_use_institution           260601 non-null  int64 \n",
      " 33  has_secondary_use_school                260601 non-null  int64 \n",
      " 34  has_secondary_use_industry              260601 non-null  int64 \n",
      " 35  has_secondary_use_health_post           260601 non-null  int64 \n",
      " 36  has_secondary_use_gov_office            260601 non-null  int64 \n",
      " 37  has_secondary_use_use_police            260601 non-null  int64 \n",
      " 38  has_secondary_use_other                 260601 non-null  int64 \n",
      "dtypes: int64(31), object(8)\n",
      "memory usage: 77.5+ MB\n"
     ]
    }
   ],
   "source": [
    "train_df.info()"
   ]
  },
  {
   "cell_type": "code",
   "execution_count": 6,
   "id": "e9a9430b",
   "metadata": {},
   "outputs": [
    {
     "data": {
      "text/html": [
       "<div>\n",
       "<style scoped>\n",
       "    .dataframe tbody tr th:only-of-type {\n",
       "        vertical-align: middle;\n",
       "    }\n",
       "\n",
       "    .dataframe tbody tr th {\n",
       "        vertical-align: top;\n",
       "    }\n",
       "\n",
       "    .dataframe thead th {\n",
       "        text-align: right;\n",
       "    }\n",
       "</style>\n",
       "<table border=\"1\" class=\"dataframe\">\n",
       "  <thead>\n",
       "    <tr style=\"text-align: right;\">\n",
       "      <th></th>\n",
       "      <th>building_id</th>\n",
       "      <th>geo_level_1_id</th>\n",
       "      <th>geo_level_2_id</th>\n",
       "      <th>geo_level_3_id</th>\n",
       "      <th>count_floors_pre_eq</th>\n",
       "      <th>age</th>\n",
       "      <th>area_percentage</th>\n",
       "      <th>height_percentage</th>\n",
       "      <th>has_superstructure_adobe_mud</th>\n",
       "      <th>has_superstructure_mud_mortar_stone</th>\n",
       "      <th>has_superstructure_stone_flag</th>\n",
       "      <th>has_superstructure_cement_mortar_stone</th>\n",
       "      <th>has_superstructure_mud_mortar_brick</th>\n",
       "      <th>has_superstructure_cement_mortar_brick</th>\n",
       "      <th>has_superstructure_timber</th>\n",
       "      <th>has_superstructure_bamboo</th>\n",
       "      <th>has_superstructure_rc_non_engineered</th>\n",
       "      <th>has_superstructure_rc_engineered</th>\n",
       "      <th>has_superstructure_other</th>\n",
       "      <th>count_families</th>\n",
       "      <th>has_secondary_use</th>\n",
       "      <th>has_secondary_use_agriculture</th>\n",
       "      <th>has_secondary_use_hotel</th>\n",
       "      <th>has_secondary_use_rental</th>\n",
       "      <th>has_secondary_use_institution</th>\n",
       "      <th>has_secondary_use_school</th>\n",
       "      <th>has_secondary_use_industry</th>\n",
       "      <th>has_secondary_use_health_post</th>\n",
       "      <th>has_secondary_use_gov_office</th>\n",
       "      <th>has_secondary_use_use_police</th>\n",
       "      <th>has_secondary_use_other</th>\n",
       "    </tr>\n",
       "  </thead>\n",
       "  <tbody>\n",
       "    <tr>\n",
       "      <th>count</th>\n",
       "      <td>2.606010e+05</td>\n",
       "      <td>260601.000000</td>\n",
       "      <td>260601.000000</td>\n",
       "      <td>260601.000000</td>\n",
       "      <td>260601.000000</td>\n",
       "      <td>260601.000000</td>\n",
       "      <td>260601.000000</td>\n",
       "      <td>260601.000000</td>\n",
       "      <td>260601.000000</td>\n",
       "      <td>260601.000000</td>\n",
       "      <td>260601.000000</td>\n",
       "      <td>260601.000000</td>\n",
       "      <td>260601.000000</td>\n",
       "      <td>260601.000000</td>\n",
       "      <td>260601.000000</td>\n",
       "      <td>260601.000000</td>\n",
       "      <td>260601.000000</td>\n",
       "      <td>260601.000000</td>\n",
       "      <td>260601.000000</td>\n",
       "      <td>260601.000000</td>\n",
       "      <td>260601.000000</td>\n",
       "      <td>260601.000000</td>\n",
       "      <td>260601.000000</td>\n",
       "      <td>260601.000000</td>\n",
       "      <td>260601.000000</td>\n",
       "      <td>260601.000000</td>\n",
       "      <td>260601.000000</td>\n",
       "      <td>260601.000000</td>\n",
       "      <td>260601.000000</td>\n",
       "      <td>260601.000000</td>\n",
       "      <td>260601.000000</td>\n",
       "    </tr>\n",
       "    <tr>\n",
       "      <th>mean</th>\n",
       "      <td>5.256755e+05</td>\n",
       "      <td>13.900353</td>\n",
       "      <td>701.074685</td>\n",
       "      <td>6257.876148</td>\n",
       "      <td>2.129723</td>\n",
       "      <td>26.535029</td>\n",
       "      <td>8.018051</td>\n",
       "      <td>5.434365</td>\n",
       "      <td>0.088645</td>\n",
       "      <td>0.761935</td>\n",
       "      <td>0.034332</td>\n",
       "      <td>0.018235</td>\n",
       "      <td>0.068154</td>\n",
       "      <td>0.075268</td>\n",
       "      <td>0.254988</td>\n",
       "      <td>0.085011</td>\n",
       "      <td>0.042590</td>\n",
       "      <td>0.015859</td>\n",
       "      <td>0.014985</td>\n",
       "      <td>0.983949</td>\n",
       "      <td>0.111880</td>\n",
       "      <td>0.064378</td>\n",
       "      <td>0.033626</td>\n",
       "      <td>0.008101</td>\n",
       "      <td>0.000940</td>\n",
       "      <td>0.000361</td>\n",
       "      <td>0.001071</td>\n",
       "      <td>0.000188</td>\n",
       "      <td>0.000146</td>\n",
       "      <td>0.000088</td>\n",
       "      <td>0.005119</td>\n",
       "    </tr>\n",
       "    <tr>\n",
       "      <th>std</th>\n",
       "      <td>3.045450e+05</td>\n",
       "      <td>8.033617</td>\n",
       "      <td>412.710734</td>\n",
       "      <td>3646.369645</td>\n",
       "      <td>0.727665</td>\n",
       "      <td>73.565937</td>\n",
       "      <td>4.392231</td>\n",
       "      <td>1.918418</td>\n",
       "      <td>0.284231</td>\n",
       "      <td>0.425900</td>\n",
       "      <td>0.182081</td>\n",
       "      <td>0.133800</td>\n",
       "      <td>0.252010</td>\n",
       "      <td>0.263824</td>\n",
       "      <td>0.435855</td>\n",
       "      <td>0.278899</td>\n",
       "      <td>0.201931</td>\n",
       "      <td>0.124932</td>\n",
       "      <td>0.121491</td>\n",
       "      <td>0.418389</td>\n",
       "      <td>0.315219</td>\n",
       "      <td>0.245426</td>\n",
       "      <td>0.180265</td>\n",
       "      <td>0.089638</td>\n",
       "      <td>0.030647</td>\n",
       "      <td>0.018989</td>\n",
       "      <td>0.032703</td>\n",
       "      <td>0.013711</td>\n",
       "      <td>0.012075</td>\n",
       "      <td>0.009394</td>\n",
       "      <td>0.071364</td>\n",
       "    </tr>\n",
       "    <tr>\n",
       "      <th>min</th>\n",
       "      <td>4.000000e+00</td>\n",
       "      <td>0.000000</td>\n",
       "      <td>0.000000</td>\n",
       "      <td>0.000000</td>\n",
       "      <td>1.000000</td>\n",
       "      <td>0.000000</td>\n",
       "      <td>1.000000</td>\n",
       "      <td>2.000000</td>\n",
       "      <td>0.000000</td>\n",
       "      <td>0.000000</td>\n",
       "      <td>0.000000</td>\n",
       "      <td>0.000000</td>\n",
       "      <td>0.000000</td>\n",
       "      <td>0.000000</td>\n",
       "      <td>0.000000</td>\n",
       "      <td>0.000000</td>\n",
       "      <td>0.000000</td>\n",
       "      <td>0.000000</td>\n",
       "      <td>0.000000</td>\n",
       "      <td>0.000000</td>\n",
       "      <td>0.000000</td>\n",
       "      <td>0.000000</td>\n",
       "      <td>0.000000</td>\n",
       "      <td>0.000000</td>\n",
       "      <td>0.000000</td>\n",
       "      <td>0.000000</td>\n",
       "      <td>0.000000</td>\n",
       "      <td>0.000000</td>\n",
       "      <td>0.000000</td>\n",
       "      <td>0.000000</td>\n",
       "      <td>0.000000</td>\n",
       "    </tr>\n",
       "    <tr>\n",
       "      <th>25%</th>\n",
       "      <td>2.611900e+05</td>\n",
       "      <td>7.000000</td>\n",
       "      <td>350.000000</td>\n",
       "      <td>3073.000000</td>\n",
       "      <td>2.000000</td>\n",
       "      <td>10.000000</td>\n",
       "      <td>5.000000</td>\n",
       "      <td>4.000000</td>\n",
       "      <td>0.000000</td>\n",
       "      <td>1.000000</td>\n",
       "      <td>0.000000</td>\n",
       "      <td>0.000000</td>\n",
       "      <td>0.000000</td>\n",
       "      <td>0.000000</td>\n",
       "      <td>0.000000</td>\n",
       "      <td>0.000000</td>\n",
       "      <td>0.000000</td>\n",
       "      <td>0.000000</td>\n",
       "      <td>0.000000</td>\n",
       "      <td>1.000000</td>\n",
       "      <td>0.000000</td>\n",
       "      <td>0.000000</td>\n",
       "      <td>0.000000</td>\n",
       "      <td>0.000000</td>\n",
       "      <td>0.000000</td>\n",
       "      <td>0.000000</td>\n",
       "      <td>0.000000</td>\n",
       "      <td>0.000000</td>\n",
       "      <td>0.000000</td>\n",
       "      <td>0.000000</td>\n",
       "      <td>0.000000</td>\n",
       "    </tr>\n",
       "    <tr>\n",
       "      <th>50%</th>\n",
       "      <td>5.257570e+05</td>\n",
       "      <td>12.000000</td>\n",
       "      <td>702.000000</td>\n",
       "      <td>6270.000000</td>\n",
       "      <td>2.000000</td>\n",
       "      <td>15.000000</td>\n",
       "      <td>7.000000</td>\n",
       "      <td>5.000000</td>\n",
       "      <td>0.000000</td>\n",
       "      <td>1.000000</td>\n",
       "      <td>0.000000</td>\n",
       "      <td>0.000000</td>\n",
       "      <td>0.000000</td>\n",
       "      <td>0.000000</td>\n",
       "      <td>0.000000</td>\n",
       "      <td>0.000000</td>\n",
       "      <td>0.000000</td>\n",
       "      <td>0.000000</td>\n",
       "      <td>0.000000</td>\n",
       "      <td>1.000000</td>\n",
       "      <td>0.000000</td>\n",
       "      <td>0.000000</td>\n",
       "      <td>0.000000</td>\n",
       "      <td>0.000000</td>\n",
       "      <td>0.000000</td>\n",
       "      <td>0.000000</td>\n",
       "      <td>0.000000</td>\n",
       "      <td>0.000000</td>\n",
       "      <td>0.000000</td>\n",
       "      <td>0.000000</td>\n",
       "      <td>0.000000</td>\n",
       "    </tr>\n",
       "    <tr>\n",
       "      <th>75%</th>\n",
       "      <td>7.897620e+05</td>\n",
       "      <td>21.000000</td>\n",
       "      <td>1050.000000</td>\n",
       "      <td>9412.000000</td>\n",
       "      <td>2.000000</td>\n",
       "      <td>30.000000</td>\n",
       "      <td>9.000000</td>\n",
       "      <td>6.000000</td>\n",
       "      <td>0.000000</td>\n",
       "      <td>1.000000</td>\n",
       "      <td>0.000000</td>\n",
       "      <td>0.000000</td>\n",
       "      <td>0.000000</td>\n",
       "      <td>0.000000</td>\n",
       "      <td>1.000000</td>\n",
       "      <td>0.000000</td>\n",
       "      <td>0.000000</td>\n",
       "      <td>0.000000</td>\n",
       "      <td>0.000000</td>\n",
       "      <td>1.000000</td>\n",
       "      <td>0.000000</td>\n",
       "      <td>0.000000</td>\n",
       "      <td>0.000000</td>\n",
       "      <td>0.000000</td>\n",
       "      <td>0.000000</td>\n",
       "      <td>0.000000</td>\n",
       "      <td>0.000000</td>\n",
       "      <td>0.000000</td>\n",
       "      <td>0.000000</td>\n",
       "      <td>0.000000</td>\n",
       "      <td>0.000000</td>\n",
       "    </tr>\n",
       "    <tr>\n",
       "      <th>max</th>\n",
       "      <td>1.052934e+06</td>\n",
       "      <td>30.000000</td>\n",
       "      <td>1427.000000</td>\n",
       "      <td>12567.000000</td>\n",
       "      <td>9.000000</td>\n",
       "      <td>995.000000</td>\n",
       "      <td>100.000000</td>\n",
       "      <td>32.000000</td>\n",
       "      <td>1.000000</td>\n",
       "      <td>1.000000</td>\n",
       "      <td>1.000000</td>\n",
       "      <td>1.000000</td>\n",
       "      <td>1.000000</td>\n",
       "      <td>1.000000</td>\n",
       "      <td>1.000000</td>\n",
       "      <td>1.000000</td>\n",
       "      <td>1.000000</td>\n",
       "      <td>1.000000</td>\n",
       "      <td>1.000000</td>\n",
       "      <td>9.000000</td>\n",
       "      <td>1.000000</td>\n",
       "      <td>1.000000</td>\n",
       "      <td>1.000000</td>\n",
       "      <td>1.000000</td>\n",
       "      <td>1.000000</td>\n",
       "      <td>1.000000</td>\n",
       "      <td>1.000000</td>\n",
       "      <td>1.000000</td>\n",
       "      <td>1.000000</td>\n",
       "      <td>1.000000</td>\n",
       "      <td>1.000000</td>\n",
       "    </tr>\n",
       "  </tbody>\n",
       "</table>\n",
       "</div>"
      ],
      "text/plain": [
       "        building_id  geo_level_1_id  geo_level_2_id  geo_level_3_id  \\\n",
       "count  2.606010e+05   260601.000000   260601.000000   260601.000000   \n",
       "mean   5.256755e+05       13.900353      701.074685     6257.876148   \n",
       "std    3.045450e+05        8.033617      412.710734     3646.369645   \n",
       "min    4.000000e+00        0.000000        0.000000        0.000000   \n",
       "25%    2.611900e+05        7.000000      350.000000     3073.000000   \n",
       "50%    5.257570e+05       12.000000      702.000000     6270.000000   \n",
       "75%    7.897620e+05       21.000000     1050.000000     9412.000000   \n",
       "max    1.052934e+06       30.000000     1427.000000    12567.000000   \n",
       "\n",
       "       count_floors_pre_eq            age  area_percentage  height_percentage  \\\n",
       "count        260601.000000  260601.000000    260601.000000      260601.000000   \n",
       "mean              2.129723      26.535029         8.018051           5.434365   \n",
       "std               0.727665      73.565937         4.392231           1.918418   \n",
       "min               1.000000       0.000000         1.000000           2.000000   \n",
       "25%               2.000000      10.000000         5.000000           4.000000   \n",
       "50%               2.000000      15.000000         7.000000           5.000000   \n",
       "75%               2.000000      30.000000         9.000000           6.000000   \n",
       "max               9.000000     995.000000       100.000000          32.000000   \n",
       "\n",
       "       has_superstructure_adobe_mud  has_superstructure_mud_mortar_stone  \\\n",
       "count                 260601.000000                        260601.000000   \n",
       "mean                       0.088645                             0.761935   \n",
       "std                        0.284231                             0.425900   \n",
       "min                        0.000000                             0.000000   \n",
       "25%                        0.000000                             1.000000   \n",
       "50%                        0.000000                             1.000000   \n",
       "75%                        0.000000                             1.000000   \n",
       "max                        1.000000                             1.000000   \n",
       "\n",
       "       has_superstructure_stone_flag  has_superstructure_cement_mortar_stone  \\\n",
       "count                  260601.000000                           260601.000000   \n",
       "mean                        0.034332                                0.018235   \n",
       "std                         0.182081                                0.133800   \n",
       "min                         0.000000                                0.000000   \n",
       "25%                         0.000000                                0.000000   \n",
       "50%                         0.000000                                0.000000   \n",
       "75%                         0.000000                                0.000000   \n",
       "max                         1.000000                                1.000000   \n",
       "\n",
       "       has_superstructure_mud_mortar_brick  \\\n",
       "count                        260601.000000   \n",
       "mean                              0.068154   \n",
       "std                               0.252010   \n",
       "min                               0.000000   \n",
       "25%                               0.000000   \n",
       "50%                               0.000000   \n",
       "75%                               0.000000   \n",
       "max                               1.000000   \n",
       "\n",
       "       has_superstructure_cement_mortar_brick  has_superstructure_timber  \\\n",
       "count                           260601.000000              260601.000000   \n",
       "mean                                 0.075268                   0.254988   \n",
       "std                                  0.263824                   0.435855   \n",
       "min                                  0.000000                   0.000000   \n",
       "25%                                  0.000000                   0.000000   \n",
       "50%                                  0.000000                   0.000000   \n",
       "75%                                  0.000000                   1.000000   \n",
       "max                                  1.000000                   1.000000   \n",
       "\n",
       "       has_superstructure_bamboo  has_superstructure_rc_non_engineered  \\\n",
       "count              260601.000000                         260601.000000   \n",
       "mean                    0.085011                              0.042590   \n",
       "std                     0.278899                              0.201931   \n",
       "min                     0.000000                              0.000000   \n",
       "25%                     0.000000                              0.000000   \n",
       "50%                     0.000000                              0.000000   \n",
       "75%                     0.000000                              0.000000   \n",
       "max                     1.000000                              1.000000   \n",
       "\n",
       "       has_superstructure_rc_engineered  has_superstructure_other  \\\n",
       "count                     260601.000000             260601.000000   \n",
       "mean                           0.015859                  0.014985   \n",
       "std                            0.124932                  0.121491   \n",
       "min                            0.000000                  0.000000   \n",
       "25%                            0.000000                  0.000000   \n",
       "50%                            0.000000                  0.000000   \n",
       "75%                            0.000000                  0.000000   \n",
       "max                            1.000000                  1.000000   \n",
       "\n",
       "       count_families  has_secondary_use  has_secondary_use_agriculture  \\\n",
       "count   260601.000000      260601.000000                  260601.000000   \n",
       "mean         0.983949           0.111880                       0.064378   \n",
       "std          0.418389           0.315219                       0.245426   \n",
       "min          0.000000           0.000000                       0.000000   \n",
       "25%          1.000000           0.000000                       0.000000   \n",
       "50%          1.000000           0.000000                       0.000000   \n",
       "75%          1.000000           0.000000                       0.000000   \n",
       "max          9.000000           1.000000                       1.000000   \n",
       "\n",
       "       has_secondary_use_hotel  has_secondary_use_rental  \\\n",
       "count            260601.000000             260601.000000   \n",
       "mean                  0.033626                  0.008101   \n",
       "std                   0.180265                  0.089638   \n",
       "min                   0.000000                  0.000000   \n",
       "25%                   0.000000                  0.000000   \n",
       "50%                   0.000000                  0.000000   \n",
       "75%                   0.000000                  0.000000   \n",
       "max                   1.000000                  1.000000   \n",
       "\n",
       "       has_secondary_use_institution  has_secondary_use_school  \\\n",
       "count                  260601.000000             260601.000000   \n",
       "mean                        0.000940                  0.000361   \n",
       "std                         0.030647                  0.018989   \n",
       "min                         0.000000                  0.000000   \n",
       "25%                         0.000000                  0.000000   \n",
       "50%                         0.000000                  0.000000   \n",
       "75%                         0.000000                  0.000000   \n",
       "max                         1.000000                  1.000000   \n",
       "\n",
       "       has_secondary_use_industry  has_secondary_use_health_post  \\\n",
       "count               260601.000000                  260601.000000   \n",
       "mean                     0.001071                       0.000188   \n",
       "std                      0.032703                       0.013711   \n",
       "min                      0.000000                       0.000000   \n",
       "25%                      0.000000                       0.000000   \n",
       "50%                      0.000000                       0.000000   \n",
       "75%                      0.000000                       0.000000   \n",
       "max                      1.000000                       1.000000   \n",
       "\n",
       "       has_secondary_use_gov_office  has_secondary_use_use_police  \\\n",
       "count                 260601.000000                 260601.000000   \n",
       "mean                       0.000146                      0.000088   \n",
       "std                        0.012075                      0.009394   \n",
       "min                        0.000000                      0.000000   \n",
       "25%                        0.000000                      0.000000   \n",
       "50%                        0.000000                      0.000000   \n",
       "75%                        0.000000                      0.000000   \n",
       "max                        1.000000                      1.000000   \n",
       "\n",
       "       has_secondary_use_other  \n",
       "count            260601.000000  \n",
       "mean                  0.005119  \n",
       "std                   0.071364  \n",
       "min                   0.000000  \n",
       "25%                   0.000000  \n",
       "50%                   0.000000  \n",
       "75%                   0.000000  \n",
       "max                   1.000000  "
      ]
     },
     "execution_count": 6,
     "metadata": {},
     "output_type": "execute_result"
    }
   ],
   "source": [
    "train_df.describe()"
   ]
  },
  {
   "cell_type": "markdown",
   "id": "b8553fad",
   "metadata": {},
   "source": [
    "We have a dataset with 260601 rows and 39 features. These features contain both numerical and categorical data. The categorical data in turn can be divided into binary (True/False) and multiclass features.\n",
    "- numerical: `building_id`, `geo_level_1_id`, `geo_level_2_id`, `geo_level_3_id`, `count_floors_pre_eq`, `age`, `area_percentage`, `height_percentage`, `count_families`\n",
    "- binary: `has_superstructure...`, `has_secondary_use...`\n",
    "- multiclass: `land_surface_condition`, `foundation_type`, `roof_type`, `ground_floor_type`, `other_floor_type`, `position`, `plan_configuration`, `legal_ownership_status`"
   ]
  },
  {
   "cell_type": "markdown",
   "id": "4a16540c",
   "metadata": {},
   "source": [
    "## Feature Description\n",
    "---\n",
    "In the following the features of the dataset are described. This is done by evaluating the name, datatype and values of the feature to try to predict its usage. Deeper analysis for each feature is further described after the following list:\n",
    "\n",
    "1. `building_id` which seems to be used to identify each unique building.\n",
    "2. `geo_level_1_id`, `geo_level_2_id`, `geo_level_3_id` (unkown)\n",
    "3. `count_floors_pre_eq` seems to be the number of floors the building had before the earthquake happend\n",
    "4. `age` seems to be the age of the building before it was destroyed\n",
    "5. `area_percentage` maybe the amount of buildings in an area \n",
    "6. `height_percentage` likely the height of the building before it was destroyed\n",
    "7. `land_surface_condition` likely the condition the surface of the ground of the building had before the earthquake\n",
    "8. `foundation_type` as the name suggests this seems to be the type of the foundation the building was built \n",
    "9. `roof_type`, `ground_floor_type`, `other_floor_type` as the name suggest this seems to be the type of the roof and floors the building had. It seems like only to types of floors where recorded\n",
    "10. `position` (unkown)\n",
    "11. `plan_configuration` (unkown)\n",
    "12. `has_superstructure..` likely a one hot encoded feature that represents the type of the superstructure\n",
    "13. `legal_ownership_status`\n",
    "14. `count_families` seems to be the amount of families that lived in the building\n",
    "15. `has_secondary_use..` seems to be a describe wether the building had another purpose than living in it\n"
   ]
  },
  {
   "attachments": {},
   "cell_type": "markdown",
   "id": "6ca68309",
   "metadata": {},
   "source": [
    "## [Zahl] Analysis for [feature]\n",
    "Summary:\n",
    "\n",
    "### Distribution\n",
    "\n",
    "### Relation to target value"
   ]
  },
  {
   "attachments": {},
   "cell_type": "markdown",
   "id": "d3da5b90",
   "metadata": {},
   "source": [
    "## 1. Analysis for `building_id`\n",
    "---\n",
    "This feature describes each unique building that was recorded in the dataset. As the data shows, a total of 260.601 (about a quarter of a million) buildings where recorded in this dataset. As this feature only describes a number that is unique to each building, no further analysis is conducted here as no more information gain is expected."
   ]
  },
  {
   "cell_type": "code",
   "execution_count": 7,
   "id": "4c8de71c",
   "metadata": {},
   "outputs": [
    {
     "data": {
      "text/plain": [
       "260601"
      ]
     },
     "execution_count": 7,
     "metadata": {},
     "output_type": "execute_result"
    }
   ],
   "source": [
    "train_df.building_id.count()"
   ]
  },
  {
   "attachments": {},
   "cell_type": "markdown",
   "id": "1ed7fdb4",
   "metadata": {},
   "source": [
    "## 3. Analysis for `count_floors_pre_eq` [to-do]\n",
    "---\n",
    "\n",
    "The \"count_floors_pre_eq\" feature represents the number of floors in the building before the earthquake, and its possible values are integers from 1 to 9. The data is showing that most buildings had a height of 2 to 3 floors. The maximum size of a building has 9 floors."
   ]
  },
  {
   "cell_type": "markdown",
   "id": "1325f641",
   "metadata": {},
   "source": [
    "### Distribution"
   ]
  },
  {
   "cell_type": "code",
   "execution_count": 8,
   "id": "32708e73",
   "metadata": {},
   "outputs": [
    {
     "data": {
      "text/plain": [
       "2    156623\n",
       "3     55617\n",
       "1     40441\n",
       "4      5424\n",
       "5      2246\n",
       "6       209\n",
       "7        39\n",
       "8         1\n",
       "9         1\n",
       "Name: count_floors_pre_eq, dtype: int64"
      ]
     },
     "execution_count": 8,
     "metadata": {},
     "output_type": "execute_result"
    }
   ],
   "source": [
    "train_df.count_floors_pre_eq.value_counts()"
   ]
  },
  {
   "cell_type": "markdown",
   "id": "b4898922",
   "metadata": {},
   "source": [
    "### Relationship to target value"
   ]
  },
  {
   "attachments": {},
   "cell_type": "markdown",
   "id": "f085424f",
   "metadata": {},
   "source": [
    "## 4. analysis for `age`\n",
    "---\n",
    "Summary of the analysis below:\n",
    "1. The age feature is unbalanced with the age of the buildings going up to the maximum of age 995 years. However most buildings have an age below 40 years.\n",
    "2. The exploration of the feature shows a trend regarding the damage grade type 1. The older the buildings are there is less damage of type 1. In fact for buildings that are older than 30 years damage of type 1 is no longer seen.\n"
   ]
  },
  {
   "cell_type": "markdown",
   "id": "be0b331d",
   "metadata": {},
   "source": [
    "### Distribution"
   ]
  },
  {
   "cell_type": "code",
   "execution_count": 9,
   "id": "f83bb9f4",
   "metadata": {},
   "outputs": [
    {
     "data": {
      "text/plain": [
       "995"
      ]
     },
     "execution_count": 9,
     "metadata": {},
     "output_type": "execute_result"
    }
   ],
   "source": [
    "# lets see what the max value is\n",
    "train_df.age.max()"
   ]
  },
  {
   "cell_type": "code",
   "execution_count": 10,
   "id": "28b391ee",
   "metadata": {},
   "outputs": [
    {
     "data": {
      "image/png": "[encoded data removed]",
      "text/plain": [
       "<Figure size 640x480 with 1 Axes>"
      ]
     },
     "metadata": {},
     "output_type": "display_data"
    }
   ],
   "source": [
    "# Lets take a first look at the distribution\n",
    "sns.set(style=\"darkgrid\")\n",
    "sns.histplot(train_df, x=\"age\")\n",
    "plt.show()"
   ]
  },
  {
   "cell_type": "markdown",
   "id": "d0322fef",
   "metadata": {},
   "source": [
    "A first look at the distribution of the age value shows, that most buildings have an age below 200 years with a wide gap to some buildings that have about 900-1000 years. In the following we take a deeper look on the buildings below the age of 200 years as this part will propably be the most interesting for our prediction."
   ]
  },
  {
   "cell_type": "code",
   "execution_count": 11,
   "id": "b62fd3a6",
   "metadata": {},
   "outputs": [
    {
     "data": {
      "image/png": "[encoded data removed]",
      "text/plain": [
       "<Figure size 1500x500 with 3 Axes>"
      ]
     },
     "metadata": {},
     "output_type": "display_data"
    }
   ],
   "source": [
    "# as the graph shows most buildings are below the age of 200\n",
    "# lets remove outliers and create a new graph\n",
    "\n",
    "# merge the two dataframes on building_id\n",
    "merged_df = pd.merge(train_df, target_df, on='building_id')\n",
    "\n",
    "threshold1 = 200\n",
    "threshold2 = 100\n",
    "threshold3 = 50\n",
    "\n",
    "temp_df1 = merged_df[merged_df['age'] < threshold1]\n",
    "temp_df2 = merged_df[merged_df['age'] < threshold2]\n",
    "temp_df3 = merged_df[merged_df['age'] < threshold3]\n",
    "\n",
    "# Create a figure with 3 subplots\n",
    "fig, axs = plt.subplots(1, 3, figsize=(15, 5))\n",
    "\n",
    "# Plot the first graph in the first subplot\n",
    "sns.histplot(temp_df1['age'], ax=axs[0])\n",
    "axs[0].set_title(f'Age below {threshold1}')\n",
    "\n",
    "# Plot the second graph in the second subplot\n",
    "sns.histplot(temp_df2['age'], ax=axs[1])\n",
    "axs[1].set_title(f'Age below {threshold2}')\n",
    "\n",
    "# Plot the third graph in the third subplot\n",
    "sns.histplot(temp_df3['age'], ax=axs[2])\n",
    "axs[2].set_title(f'Age below {threshold3}')\n",
    "\n",
    "plt.show()"
   ]
  },
  {
   "cell_type": "markdown",
   "id": "87cfacb2",
   "metadata": {},
   "source": [
    "The graphs above show, that most recorded buildings had an age below 40 years."
   ]
  },
  {
   "cell_type": "markdown",
   "id": "9af0a10b",
   "metadata": {},
   "source": [
    "### Relation to the target value\n",
    "We now know the age most of the buildings in the dataset have. In the following the relation to the damage grade is analysed."
   ]
  },
  {
   "cell_type": "code",
   "execution_count": 12,
   "id": "66702999",
   "metadata": {},
   "outputs": [
    {
     "data": {
      "image/png": "[encoded data removed]",
      "text/plain": [
       "<Figure size 1500x500 with 4 Axes>"
      ]
     },
     "metadata": {},
     "output_type": "display_data"
    }
   ],
   "source": [
    "threshold1 = 200\n",
    "threshold2 = 100\n",
    "threshold3 = 50\n",
    "threshold4 = 100\n",
    "\n",
    "temp_df1 = merged_df.copy()\n",
    "temp_df2 = merged_df.copy()\n",
    "temp_df3 = merged_df.copy()\n",
    "temp_df4 = merged_df.copy()\n",
    "\n",
    "temp_df1[\"binned_age\"] = pd.cut(merged_df['age'], bins=list(range(0,threshold1,50)))\n",
    "temp_df2[\"binned_age\"] = pd.cut(merged_df['age'], bins=list(range(0,threshold2,10)))\n",
    "temp_df3[\"binned_age\"] = pd.cut(merged_df['age'], bins=list(range(0,threshold3,10)))\n",
    "temp_df4[\"binned_age\"] = pd.cut(merged_df['age'], bins=list(range(50,threshold4,10)))\n",
    "\n",
    "fig, axs = plt.subplots(2, 2, figsize=(15, 5))\n",
    "# set the vertical spacing between the subplots\n",
    "plt.subplots_adjust(hspace=0.8)\n",
    "\n",
    "# Plot the first graph in the first subplot\n",
    "sns.countplot(data=temp_df1, x='binned_age', hue='damage_grade', ax=axs[0][0])\n",
    "axs[0][0].set_title(f'Age below {threshold1}')\n",
    "\n",
    "# Plot the second graph in the second subplot\n",
    "sns.countplot(data=temp_df2, x='binned_age', hue='damage_grade', ax=axs[1][0])\n",
    "axs[1][0].set_title(f'Age below {threshold2}')\n",
    "\n",
    "# Plot the third graph in the third subplot\n",
    "sns.countplot(data=temp_df3, x='binned_age', hue='damage_grade', ax=axs[0][1])\n",
    "axs[0][1].set_title(f'Age below {threshold3}')\n",
    "\n",
    "# Plot the forth graph in the forth subplot\n",
    "sns.countplot(data=temp_df4, x='binned_age', hue='damage_grade', ax=axs[1][1])\n",
    "axs[1][1].set_title(f'Age between 50 and {threshold4}')\n",
    "\n",
    "plt.show()"
   ]
  },
  {
   "cell_type": "markdown",
   "id": "37633dc3",
   "metadata": {},
   "source": [
    "The graphs allow us to take a deeper look into the relation of the buildings age towards the damage grade it received from the earthquake. Interestingly there seems to be a trend with buildings that get older having a higher damage grade. In fact buildings that have an age above 30 years no longer have a damage grade of type 1 reported. (with the expection of some outliers at the age of 50 - 60 years)."
   ]
  },
  {
   "attachments": {},
   "cell_type": "markdown",
   "id": "5d2fe665",
   "metadata": {},
   "source": [
    "## 5. Analysis for `area_percentage`"
   ]
  },
  {
   "attachments": {},
   "cell_type": "markdown",
   "id": "697cdc3a",
   "metadata": {},
   "source": [
    "Summary: DESCRIPTION UNSURE The data contains many outliers above a value of 18. Most values are between 5 and 9. A correlation to the target value is almost nonexisting. "
   ]
  },
  {
   "attachments": {},
   "cell_type": "markdown",
   "id": "f4c53ac0",
   "metadata": {},
   "source": [
    "### Distribution\n"
   ]
  },
  {
   "cell_type": "code",
   "execution_count": 13,
   "id": "df136347",
   "metadata": {},
   "outputs": [
    {
     "data": {
      "image/png": "[encoded data removed]",
      "text/plain": [
       "<Figure size 640x480 with 1 Axes>"
      ]
     },
     "metadata": {},
     "output_type": "display_data"
    }
   ],
   "source": [
    "train_df['area_percentage'].hist(bins=50)\n",
    "plt.title(f'Area percentage')\n",
    "plt.xlabel('Area percentage')\n",
    "plt.ylabel('Count')\n",
    "plt.show()"
   ]
  },
  {
   "attachments": {},
   "cell_type": "markdown",
   "id": "9f42c4ba",
   "metadata": {},
   "source": [
    "The histogram is right-skewed, the data is not normally distributed.There may be outliers on the right side."
   ]
  },
  {
   "cell_type": "code",
   "execution_count": 14,
   "id": "104fe202",
   "metadata": {},
   "outputs": [
    {
     "data": {
      "image/png": "[encoded data removed]",
      "text/plain": [
       "<Figure size 640x480 with 1 Axes>"
      ]
     },
     "metadata": {},
     "output_type": "display_data"
    }
   ],
   "source": [
    "ax = sns.boxplot(x=train_df['area_percentage'])\n",
    "plt.show()"
   ]
  },
  {
   "attachments": {},
   "cell_type": "markdown",
   "id": "20f6ef23",
   "metadata": {},
   "source": [
    "Outliers are found from a value above 18"
   ]
  },
  {
   "cell_type": "code",
   "execution_count": 15,
   "id": "db51f3a9",
   "metadata": {},
   "outputs": [
    {
     "data": {
      "text/plain": [
       "Text(0, 0.5, 'Count')"
      ]
     },
     "execution_count": 15,
     "metadata": {},
     "output_type": "execute_result"
    },
    {
     "data": {
      "image/png": "[encoded data removed]",
      "text/plain": [
       "<Figure size 640x480 with 1 Axes>"
      ]
     },
     "metadata": {},
     "output_type": "display_data"
    }
   ],
   "source": [
    "THRESHOLD = 18 \n",
    "\n",
    "temp_df1 = train_df[train_df['area_percentage'] < THRESHOLD]\n",
    "temp_df1['area_percentage'].hist(bins=30)\n",
    "plt.title(f'Area percentage below {THRESHOLD}')\n",
    "plt.xlabel('Area percentage')\n",
    "plt.ylabel('Count')"
   ]
  },
  {
   "attachments": {},
   "cell_type": "markdown",
   "id": "6853a8a5",
   "metadata": {},
   "source": [
    "Most of the buildings have an area_percentage between 5 and 9 "
   ]
  },
  {
   "attachments": {},
   "cell_type": "markdown",
   "id": "1c1d6c75",
   "metadata": {},
   "source": [
    "### Relation to target value"
   ]
  },
  {
   "cell_type": "code",
   "execution_count": 16,
   "id": "fdb72760",
   "metadata": {},
   "outputs": [
    {
     "data": {
      "text/plain": [
       "damage_grade       1.000000\n",
       "area_percentage   -0.094628\n",
       "Name: damage_grade, dtype: float64"
      ]
     },
     "execution_count": 16,
     "metadata": {},
     "output_type": "execute_result"
    }
   ],
   "source": [
    "THRESHOLD = 18\n",
    "\n",
    "merged_df = pd.merge(train_df, target_df, on='building_id')\n",
    "temp_df1 = merged_df[['area_percentage', 'damage_grade']]\n",
    "temp_df1 = temp_df1[merged_df['area_percentage'] < THRESHOLD]\n",
    "\n",
    "corr_matrix = temp_df1.corr()\n",
    "corr_matrix['damage_grade'].sort_values(ascending=False)"
   ]
  },
  {
   "attachments": {},
   "cell_type": "markdown",
   "id": "645957a8",
   "metadata": {},
   "source": [
    "Weak negative correlation, there is a tendency for buildings with higher area percentages to be less likely to have higher levels of damage. It is unlikely that area_percentage alone is a good predictor of damage_grade."
   ]
  },
  {
   "cell_type": "code",
   "execution_count": 17,
   "id": "2dd64f3e",
   "metadata": {},
   "outputs": [
    {
     "data": {
      "image/png": "[encoded data removed]",
      "text/plain": [
       "<Figure size 640x480 with 1 Axes>"
      ]
     },
     "metadata": {},
     "output_type": "display_data"
    }
   ],
   "source": [
    "plt.scatter(temp_df1['area_percentage'], temp_df1['damage_grade'])\n",
    "plt.title('Relationship between area_percentage and damage_grade')\n",
    "plt.xlabel('area_percentage')\n",
    "plt.ylabel('damage_grade')\n",
    "plt.show()"
   ]
  },
  {
   "attachments": {},
   "cell_type": "markdown",
   "id": "257e20ab",
   "metadata": {},
   "source": [
    "Scatterplot shows weak correlation between area_percentage and damage_grade"
   ]
  },
  {
   "cell_type": "code",
   "execution_count": 18,
   "id": "d3731919",
   "metadata": {},
   "outputs": [
    {
     "data": {
      "image/png": "[encoded data removed]",
      "text/plain": [
       "<Figure size 640x480 with 1 Axes>"
      ]
     },
     "metadata": {},
     "output_type": "display_data"
    }
   ],
   "source": [
    "sns.countplot(x ='area_percentage', hue = 'damage_grade', data = temp_df1)\n",
    "plt.show()"
   ]
  },
  {
   "attachments": {},
   "cell_type": "markdown",
   "id": "8a541b0a",
   "metadata": {},
   "source": [
    "## 6 Analysis for height_percentage\n",
    "Summary: DESCRIPTION UNSURE\n",
    "The data contains many outliers above a value of 9. Most buildings have an height_percentage of 5. A correlation to the target value is almost nonexisting.\n"
   ]
  },
  {
   "attachments": {},
   "cell_type": "markdown",
   "id": "c3a34ab0",
   "metadata": {},
   "source": [
    "### Distribution"
   ]
  },
  {
   "cell_type": "code",
   "execution_count": 19,
   "id": "f261925a",
   "metadata": {},
   "outputs": [
    {
     "data": {
      "image/png": "[encoded data removed]",
      "text/plain": [
       "<Figure size 640x480 with 1 Axes>"
      ]
     },
     "metadata": {},
     "output_type": "display_data"
    }
   ],
   "source": [
    "train_df['height_percentage'].hist(bins=50)\n",
    "plt.title(f'Height percentage')\n",
    "plt.xlabel('Height percentage')\n",
    "plt.ylabel('Count')\n",
    "plt.show()"
   ]
  },
  {
   "attachments": {},
   "cell_type": "markdown",
   "id": "b5230ca2",
   "metadata": {},
   "source": [
    "The histogram is right-skewed, the data is not normally distributed.There may be outliers on the right side."
   ]
  },
  {
   "cell_type": "code",
   "execution_count": 20,
   "id": "c3d0e30c",
   "metadata": {},
   "outputs": [
    {
     "data": {
      "image/png": "[encoded data removed]",
      "text/plain": [
       "<Figure size 640x480 with 1 Axes>"
      ]
     },
     "metadata": {},
     "output_type": "display_data"
    }
   ],
   "source": [
    "ax = sns.boxplot(x=train_df['height_percentage'])\n",
    "plt.show()"
   ]
  },
  {
   "attachments": {},
   "cell_type": "markdown",
   "id": "892bf76c",
   "metadata": {},
   "source": [
    "Outliers are found from a value above 9"
   ]
  },
  {
   "cell_type": "code",
   "execution_count": 21,
   "id": "6560f5dc",
   "metadata": {},
   "outputs": [
    {
     "data": {
      "text/plain": [
       "Text(0, 0.5, 'Count')"
      ]
     },
     "execution_count": 21,
     "metadata": {},
     "output_type": "execute_result"
    },
    {
     "data": {
      "image/png": "[encoded data removed]",
      "text/plain": [
       "<Figure size 640x480 with 1 Axes>"
      ]
     },
     "metadata": {},
     "output_type": "display_data"
    }
   ],
   "source": [
    "THRESHOLD = 10 \n",
    "\n",
    "temp_df1 = train_df[train_df['height_percentage'] < THRESHOLD]\n",
    "temp_df1['height_percentage'].hist(bins=30)\n",
    "plt.title(f'Height percentage below {THRESHOLD}')\n",
    "plt.xlabel('Height percentage')\n",
    "plt.ylabel('Count')"
   ]
  },
  {
   "attachments": {},
   "cell_type": "markdown",
   "id": "205df30d",
   "metadata": {},
   "source": [
    "Most of the buildings have an height_percentage of 5"
   ]
  },
  {
   "attachments": {},
   "cell_type": "markdown",
   "id": "ef4e322f",
   "metadata": {},
   "source": [
    "### Relation to target value"
   ]
  },
  {
   "cell_type": "code",
   "execution_count": 22,
   "id": "00055ff9",
   "metadata": {},
   "outputs": [
    {
     "data": {
      "text/plain": [
       "damage_grade         1.000000\n",
       "height_percentage    0.048194\n",
       "Name: damage_grade, dtype: float64"
      ]
     },
     "execution_count": 22,
     "metadata": {},
     "output_type": "execute_result"
    }
   ],
   "source": [
    "THRESHOLD = 18\n",
    "\n",
    "merged_df = pd.merge(train_df, target_df, on='building_id')\n",
    "temp_df1 = merged_df[['height_percentage', 'damage_grade']]\n",
    "temp_df1 = temp_df1[merged_df['height_percentage'] < THRESHOLD]\n",
    "\n",
    "corr_matrix = temp_df1.corr()\n",
    "corr_matrix['damage_grade'].sort_values(ascending=False)"
   ]
  },
  {
   "attachments": {},
   "cell_type": "markdown",
   "id": "b23e7736",
   "metadata": {},
   "source": [
    "Weak positive correlation, there is a tendency for buildings with higher height percentage to have higher damage.\n",
    "It is unlikely that height_percentage alone is a good predictor of damage_grade."
   ]
  },
  {
   "cell_type": "code",
   "execution_count": 23,
   "id": "99365e16",
   "metadata": {},
   "outputs": [
    {
     "data": {
      "image/png": "[encoded data removed]",
      "text/plain": [
       "<Figure size 640x480 with 1 Axes>"
      ]
     },
     "metadata": {},
     "output_type": "display_data"
    }
   ],
   "source": [
    "plt.scatter(temp_df1['height_percentage'], temp_df1['damage_grade'])\n",
    "plt.title('Relationship between area_percentage and damage_grade')\n",
    "plt.xlabel('area_percentage')\n",
    "plt.ylabel('damage_grade')\n",
    "plt.show()"
   ]
  },
  {
   "attachments": {},
   "cell_type": "markdown",
   "id": "b37f3c51",
   "metadata": {},
   "source": [
    "Scatterplot shows weak correlation between height_percentage and damage_grade"
   ]
  },
  {
   "cell_type": "code",
   "execution_count": 24,
   "id": "012c558b",
   "metadata": {},
   "outputs": [
    {
     "data": {
      "image/png": "[encoded data removed]",
      "text/plain": [
       "<Figure size 640x480 with 1 Axes>"
      ]
     },
     "metadata": {},
     "output_type": "display_data"
    }
   ],
   "source": [
    "sns.countplot(x ='height_percentage', hue = 'damage_grade', data = temp_df1)\n",
    "plt.show()"
   ]
  },
  {
   "attachments": {},
   "cell_type": "markdown",
   "id": "9c890fbb",
   "metadata": {},
   "source": [
    "## 7 Analysis for land_surface_condition\n",
    "Summary: The \"land_surface_condition\" feature describes the soil condition of the land using three categories:\n",
    "\"t\" for tectonic soils,\n",
    "\"o\" for other soils,\n",
    "\"n\" for no special requirements for the soil condition. The feature is highly imbalanced. There is a significant relationship to the target"
   ]
  },
  {
   "attachments": {},
   "cell_type": "markdown",
   "id": "9ce52113",
   "metadata": {},
   "source": [
    "### Distribution"
   ]
  },
  {
   "cell_type": "code",
   "execution_count": 25,
   "id": "cb92d1ab",
   "metadata": {},
   "outputs": [
    {
     "name": "stdout",
     "output_type": "stream",
     "text": [
      "Possible Values are ['t' 'o' 'n']\n"
     ]
    },
    {
     "data": {
      "image/png": "[encoded data removed]",
      "text/plain": [
       "<Figure size 640x480 with 1 Axes>"
      ]
     },
     "metadata": {},
     "output_type": "display_data"
    },
    {
     "name": "stdout",
     "output_type": "stream",
     "text": [
      "t    216757\n",
      "n     35528\n",
      "o      8316\n",
      "Name: land_surface_condition, dtype: int64\n"
     ]
    }
   ],
   "source": [
    "print(f\"Possible Values are { train_df['land_surface_condition'].unique()}\")\n",
    "train_df['land_surface_condition'].hist()\n",
    "plt.show()\n",
    "print(f\"{train_df['land_surface_condition'].value_counts()}\")"
   ]
  },
  {
   "attachments": {},
   "cell_type": "markdown",
   "id": "0631512d",
   "metadata": {},
   "source": [
    "Most instances have the value 't', so most buildings were build on tectonic soils."
   ]
  },
  {
   "attachments": {},
   "cell_type": "markdown",
   "id": "e9c5e52f",
   "metadata": {},
   "source": [
    "### Relation to the target value"
   ]
  },
  {
   "cell_type": "code",
   "execution_count": 26,
   "id": "d6f55c34",
   "metadata": {},
   "outputs": [
    {
     "data": {
      "text/plain": [
       "<Axes: xlabel='land_surface_condition', ylabel='count'>"
      ]
     },
     "execution_count": 26,
     "metadata": {},
     "output_type": "execute_result"
    },
    {
     "data": {
      "image/png": "[encoded data removed]",
      "text/plain": [
       "<Figure size 640x480 with 1 Axes>"
      ]
     },
     "metadata": {},
     "output_type": "display_data"
    }
   ],
   "source": [
    "merged_df = pd.merge(train_df, target_df, on='building_id')\n",
    "sns.countplot(x='land_surface_condition', hue='damage_grade', data=merged_df)"
   ]
  },
  {
   "cell_type": "code",
   "execution_count": 27,
   "id": "cd74e236",
   "metadata": {},
   "outputs": [
    {
     "name": "stdout",
     "output_type": "stream",
     "text": [
      "Chi-Square Test Statistik:  449.6713606103201\n",
      "P-Value:  5.115608104233124e-96\n"
     ]
    }
   ],
   "source": [
    "cross_tab = pd.crosstab(merged_df['land_surface_condition'], merged_df['damage_grade'])\n",
    "chi2, pval, dof, exp_freq = chi2_contingency(cross_tab)\n",
    "\n",
    "print(\"Chi-Square Test Statistik: \", chi2)\n",
    "print(\"P-Value: \", pval)"
   ]
  },
  {
   "attachments": {},
   "cell_type": "markdown",
   "id": "cb8f8b0f",
   "metadata": {},
   "source": [
    "There is a significant relationship between the land_surface_condition and the damage_grade. The chi-square test statistic value of 449.67 and the very small P value of 5.12e-96 indicate that the result is very significant and we can reject the null hypothesis. This means that the categorical feature is likely to have an effect on the target."
   ]
  },
  {
   "attachments": {},
   "cell_type": "markdown",
   "id": "e1a10409",
   "metadata": {},
   "source": [
    "## 8 Analysis for foundation_type\n",
    "Summary: Describes the type of foundations on which buildings were built. The feature is highly imbalanced. Seems like there is a relation betweem foundation_type and damage_grade."
   ]
  },
  {
   "attachments": {},
   "cell_type": "markdown",
   "id": "a005e6d9",
   "metadata": {},
   "source": [
    "### Distribution"
   ]
  },
  {
   "cell_type": "code",
   "execution_count": 36,
   "id": "93671129",
   "metadata": {},
   "outputs": [
    {
     "name": "stdout",
     "output_type": "stream",
     "text": [
      "Possible values are ['r' 'w' 'i' 'u' 'h']\n"
     ]
    },
    {
     "data": {
      "image/png": "[encoded data removed]",
      "text/plain": [
       "<Figure size 640x480 with 1 Axes>"
      ]
     },
     "metadata": {},
     "output_type": "display_data"
    },
    {
     "name": "stdout",
     "output_type": "stream",
     "text": [
      "r    219196\n",
      "w     15118\n",
      "u     14260\n",
      "i     10579\n",
      "h      1448\n",
      "Name: foundation_type, dtype: int64\n"
     ]
    }
   ],
   "source": [
    "print(f\"Possible values are {train_df['foundation_type'].unique()}\")\n",
    "train_df['foundation_type'].hist()\n",
    "plt.show()\n",
    "print(f\"{train_df['foundation_type'].value_counts()}\")"
   ]
  },
  {
   "attachments": {},
   "cell_type": "markdown",
   "id": "e8d64f60",
   "metadata": {},
   "source": [
    "foundation_type is highly imbalanced, 'r' is the most frequent value."
   ]
  },
  {
   "attachments": {},
   "cell_type": "markdown",
   "id": "a8256205",
   "metadata": {},
   "source": [
    "### Relation to the target value"
   ]
  },
  {
   "cell_type": "code",
   "execution_count": 37,
   "id": "db61b9d6",
   "metadata": {},
   "outputs": [
    {
     "data": {
      "text/plain": [
       "<Axes: xlabel='foundation_type', ylabel='count'>"
      ]
     },
     "execution_count": 37,
     "metadata": {},
     "output_type": "execute_result"
    },
    {
     "data": {
      "image/png": "[encoded data removed]",
      "text/plain": [
       "<Figure size 640x480 with 1 Axes>"
      ]
     },
     "metadata": {},
     "output_type": "display_data"
    }
   ],
   "source": [
    "merged_df = pd.merge(train_df, target_df, on='building_id')\n",
    "sns.countplot(x='foundation_type', hue='damage_grade', data=merged_df)"
   ]
  },
  {
   "cell_type": "code",
   "execution_count": 39,
   "id": "84ad03e3",
   "metadata": {},
   "outputs": [
    {
     "name": "stdout",
     "output_type": "stream",
     "text": [
      "Chi-Square Test Statistik:  48547.16073841265\n",
      "P-Value:  0.0\n"
     ]
    }
   ],
   "source": [
    "cross_tab = pd.crosstab(merged_df['foundation_type'], merged_df['damage_grade'])\n",
    "chi2, pval, dof, exp_freq = chi2_contingency(cross_tab)\n",
    "\n",
    "print(\"Chi-Square Test Statistik: \", chi2)\n",
    "print(\"P-Value: \", pval)"
   ]
  },
  {
   "attachments": {},
   "cell_type": "markdown",
   "id": "c6927a18",
   "metadata": {},
   "source": [
    "There is a significant relationship between foundation_type and damage_grade. The null hypothesis that the variables are independent can be rejected."
   ]
  },
  {
   "attachments": {},
   "cell_type": "markdown",
   "id": "29cff362",
   "metadata": {},
   "source": [
    "## 9 Analysis for roof_type\n",
    "Summary: Describes the type of the roof. The class is highly imbalanced. Seems like there is a relationship between roof_type and damage_grade."
   ]
  },
  {
   "attachments": {},
   "cell_type": "markdown",
   "id": "4f777052",
   "metadata": {},
   "source": [
    "### Distribution"
   ]
  },
  {
   "cell_type": "code",
   "execution_count": 40,
   "id": "1a2f4a77",
   "metadata": {},
   "outputs": [
    {
     "name": "stdout",
     "output_type": "stream",
     "text": [
      "Possible values are ['n' 'q' 'x']\n"
     ]
    },
    {
     "data": {
      "image/png": "[encoded data removed]",
      "text/plain": [
       "<Figure size 640x480 with 1 Axes>"
      ]
     },
     "metadata": {},
     "output_type": "display_data"
    },
    {
     "name": "stdout",
     "output_type": "stream",
     "text": [
      "n    182842\n",
      "q     61576\n",
      "x     16183\n",
      "Name: roof_type, dtype: int64\n"
     ]
    }
   ],
   "source": [
    "print(f\"Possible values are {train_df['roof_type'].unique()}\")\n",
    "train_df['roof_type'].hist()\n",
    "plt.show()\n",
    "print(f\"{train_df['roof_type'].value_counts()}\")"
   ]
  },
  {
   "attachments": {},
   "cell_type": "markdown",
   "id": "e7ba9b5a",
   "metadata": {},
   "source": [
    "roof_type is highly imbalanced, 'n' is the most frequent value"
   ]
  },
  {
   "attachments": {},
   "cell_type": "markdown",
   "id": "d07563b6",
   "metadata": {},
   "source": [
    "### Relation to the target value"
   ]
  },
  {
   "cell_type": "code",
   "execution_count": 41,
   "id": "e9bdd402",
   "metadata": {},
   "outputs": [
    {
     "data": {
      "text/plain": [
       "<Axes: xlabel='roof_type', ylabel='count'>"
      ]
     },
     "execution_count": 41,
     "metadata": {},
     "output_type": "execute_result"
    },
    {
     "data": {
      "image/png": "[encoded data removed]",
      "text/plain": [
       "<Figure size 640x480 with 1 Axes>"
      ]
     },
     "metadata": {},
     "output_type": "display_data"
    }
   ],
   "source": [
    "merged_df = pd.merge(train_df, target_df, on='building_id')\n",
    "sns.countplot(x='roof_type', hue='damage_grade', data=merged_df)"
   ]
  },
  {
   "cell_type": "code",
   "execution_count": 42,
   "id": "b4458a8c",
   "metadata": {},
   "outputs": [
    {
     "name": "stdout",
     "output_type": "stream",
     "text": [
      "Chi-Square Test Statistik:  30251.419274079504\n",
      "P-Value:  0.0\n"
     ]
    }
   ],
   "source": [
    "cross_tab = pd.crosstab(merged_df['roof_type'], merged_df['damage_grade'])\n",
    "chi2, pval, dof, exp_freq = chi2_contingency(cross_tab)\n",
    "\n",
    "print(\"Chi-Square Test Statistik: \", chi2)\n",
    "print(\"P-Value: \", pval)"
   ]
  },
  {
   "attachments": {},
   "cell_type": "markdown",
   "id": "12a2ee81",
   "metadata": {},
   "source": [
    "Chi-square test shows that there is a significant relationship between the feature \"roof_type\" and the target \"damage_grade\"."
   ]
  },
  {
   "attachments": {},
   "cell_type": "markdown",
   "id": "c8e08ae0",
   "metadata": {},
   "source": [
    "## 10 Analysis for ground_floor_type\n",
    "Summary: Describes the ground floor type. The class is highly imbalanced. There is a significant relationship between ground_floor_type and damage_grade."
   ]
  },
  {
   "attachments": {},
   "cell_type": "markdown",
   "id": "1481b0b1",
   "metadata": {},
   "source": [
    "### Distribution"
   ]
  },
  {
   "cell_type": "code",
   "execution_count": 45,
   "id": "9fb1da15",
   "metadata": {},
   "outputs": [
    {
     "name": "stdout",
     "output_type": "stream",
     "text": [
      "Possible values are ['f' 'x' 'v' 'z' 'm']\n"
     ]
    },
    {
     "data": {
      "image/png": "[encoded data removed]",
      "text/plain": [
       "<Figure size 640x480 with 1 Axes>"
      ]
     },
     "metadata": {},
     "output_type": "display_data"
    },
    {
     "name": "stdout",
     "output_type": "stream",
     "text": [
      "f    209619\n",
      "x     24877\n",
      "v     24593\n",
      "z      1004\n",
      "m       508\n",
      "Name: ground_floor_type, dtype: int64\n"
     ]
    }
   ],
   "source": [
    "print(f\"Possible values are {train_df['ground_floor_type'].unique()}\")\n",
    "train_df['ground_floor_type'].hist()\n",
    "plt.show()\n",
    "print(f\"{train_df['ground_floor_type'].value_counts()}\")"
   ]
  },
  {
   "attachments": {},
   "cell_type": "markdown",
   "id": "d731b956",
   "metadata": {},
   "source": [
    "ground_floor_type is highly imbalanced, 'f' is the most frequent value"
   ]
  },
  {
   "attachments": {},
   "cell_type": "markdown",
   "id": "3f0b175e",
   "metadata": {},
   "source": [
    "### Relation to the target value"
   ]
  },
  {
   "cell_type": "code",
   "execution_count": 46,
   "id": "228bdeec",
   "metadata": {},
   "outputs": [
    {
     "data": {
      "text/plain": [
       "<Axes: xlabel='ground_floor_type', ylabel='count'>"
      ]
     },
     "execution_count": 46,
     "metadata": {},
     "output_type": "execute_result"
    },
    {
     "data": {
      "image/png": "[encoded data removed]",
      "text/plain": [
       "<Figure size 640x480 with 1 Axes>"
      ]
     },
     "metadata": {},
     "output_type": "display_data"
    }
   ],
   "source": [
    "merged_df = pd.merge(train_df, target_df, on='building_id')\n",
    "sns.countplot(x='ground_floor_type', hue='damage_grade', data=merged_df)"
   ]
  },
  {
   "cell_type": "code",
   "execution_count": 48,
   "id": "4da7975e",
   "metadata": {},
   "outputs": [
    {
     "name": "stdout",
     "output_type": "stream",
     "text": [
      "Chi-Square Test Statistik:  36430.84896491971\n",
      "P-Value:  0.0\n"
     ]
    }
   ],
   "source": [
    "cross_tab = pd.crosstab(merged_df['ground_floor_type'], merged_df['damage_grade'])\n",
    "chi2, pval, dof, exp_freq = chi2_contingency(cross_tab)\n",
    "\n",
    "print(\"Chi-Square Test Statistik: \", chi2)\n",
    "print(\"P-Value: \", pval)"
   ]
  },
  {
   "attachments": {},
   "cell_type": "markdown",
   "id": "0ae37626",
   "metadata": {},
   "source": [
    "The P value is very small (0.0), indicating that there is a significant relationship between ground_floor_type and damage_grade. The null hypothesis should be rejected."
   ]
  },
  {
   "attachments": {},
   "cell_type": "markdown",
   "id": "7d5d8a95",
   "metadata": {},
   "source": [
    "## 11 Analysis for other_floor_type\n",
    "Summary: Describes the other floor type. The class is highly imbalanced. There is a significant relationship between other_floor_type and damage_grade."
   ]
  },
  {
   "attachments": {},
   "cell_type": "markdown",
   "id": "03ff7f8f",
   "metadata": {},
   "source": [
    "### Distribution"
   ]
  },
  {
   "cell_type": "code",
   "execution_count": 49,
   "id": "6eec5c13",
   "metadata": {},
   "outputs": [
    {
     "name": "stdout",
     "output_type": "stream",
     "text": [
      "Possible values are ['q' 'x' 'j' 's']\n"
     ]
    },
    {
     "data": {
      "image/png": "[encoded data removed]",
      "text/plain": [
       "<Figure size 640x480 with 1 Axes>"
      ]
     },
     "metadata": {},
     "output_type": "display_data"
    },
    {
     "name": "stdout",
     "output_type": "stream",
     "text": [
      "q    165282\n",
      "x     43448\n",
      "j     39843\n",
      "s     12028\n",
      "Name: other_floor_type, dtype: int64\n"
     ]
    }
   ],
   "source": [
    "print(f\"Possible values are {train_df['other_floor_type'].unique()}\")\n",
    "train_df['other_floor_type'].hist()\n",
    "plt.show()\n",
    "print(f\"{train_df['other_floor_type'].value_counts()}\")"
   ]
  },
  {
   "attachments": {},
   "cell_type": "markdown",
   "id": "138abaca",
   "metadata": {},
   "source": [
    "The class is highly imbalanced. The most frequent value is 'q'."
   ]
  },
  {
   "attachments": {},
   "cell_type": "markdown",
   "id": "a4c76fd3",
   "metadata": {},
   "source": [
    "### Relation to the target value"
   ]
  },
  {
   "cell_type": "code",
   "execution_count": 50,
   "id": "0664d4fc",
   "metadata": {},
   "outputs": [
    {
     "data": {
      "text/plain": [
       "<Axes: xlabel='other_floor_type', ylabel='count'>"
      ]
     },
     "execution_count": 50,
     "metadata": {},
     "output_type": "execute_result"
    },
    {
     "data": {
      "image/png": "[encoded data removed]",
      "text/plain": [
       "<Figure size 640x480 with 1 Axes>"
      ]
     },
     "metadata": {},
     "output_type": "display_data"
    }
   ],
   "source": [
    "merged_df = pd.merge(train_df, target_df, on='building_id')\n",
    "sns.countplot(x='other_floor_type', hue='damage_grade', data=merged_df)"
   ]
  },
  {
   "cell_type": "code",
   "execution_count": 51,
   "id": "18416807",
   "metadata": {},
   "outputs": [
    {
     "name": "stdout",
     "output_type": "stream",
     "text": [
      "Chi-Square Test Statistik:  31487.39192072909\n",
      "P-Value:  0.0\n"
     ]
    }
   ],
   "source": [
    "cross_tab = pd.crosstab(merged_df['other_floor_type'], merged_df['damage_grade'])\n",
    "chi2, pval, dof, exp_freq = chi2_contingency(cross_tab)\n",
    "\n",
    "print(\"Chi-Square Test Statistik: \", chi2)\n",
    "print(\"P-Value: \", pval)"
   ]
  },
  {
   "attachments": {},
   "cell_type": "markdown",
   "id": "8558272b",
   "metadata": {},
   "source": [
    "There is a significant relationship between other_floor_type and damage_grade."
   ]
  },
  {
   "cell_type": "markdown",
   "id": "6d78c561",
   "metadata": {},
   "source": [
    "## Analysis of target value\n",
    "---"
   ]
  },
  {
   "cell_type": "markdown",
   "id": "5349146e",
   "metadata": {},
   "source": [
    "Let us examine the target."
   ]
  },
  {
   "cell_type": "code",
   "execution_count": null,
   "id": "41862e1a",
   "metadata": {
    "scrolled": false
   },
   "outputs": [
    {
     "data": {
      "text/html": [
       "<div>\n",
       "<style scoped>\n",
       "    .dataframe tbody tr th:only-of-type {\n",
       "        vertical-align: middle;\n",
       "    }\n",
       "\n",
       "    .dataframe tbody tr th {\n",
       "        vertical-align: top;\n",
       "    }\n",
       "\n",
       "    .dataframe thead th {\n",
       "        text-align: right;\n",
       "    }\n",
       "</style>\n",
       "<table border=\"1\" class=\"dataframe\">\n",
       "  <thead>\n",
       "    <tr style=\"text-align: right;\">\n",
       "      <th></th>\n",
       "      <th>building_id</th>\n",
       "      <th>damage_grade</th>\n",
       "    </tr>\n",
       "  </thead>\n",
       "  <tbody>\n",
       "    <tr>\n",
       "      <th>0</th>\n",
       "      <td>802906</td>\n",
       "      <td>3</td>\n",
       "    </tr>\n",
       "    <tr>\n",
       "      <th>1</th>\n",
       "      <td>28830</td>\n",
       "      <td>2</td>\n",
       "    </tr>\n",
       "    <tr>\n",
       "      <th>2</th>\n",
       "      <td>94947</td>\n",
       "      <td>3</td>\n",
       "    </tr>\n",
       "    <tr>\n",
       "      <th>3</th>\n",
       "      <td>590882</td>\n",
       "      <td>2</td>\n",
       "    </tr>\n",
       "    <tr>\n",
       "      <th>4</th>\n",
       "      <td>201944</td>\n",
       "      <td>3</td>\n",
       "    </tr>\n",
       "    <tr>\n",
       "      <th>5</th>\n",
       "      <td>333020</td>\n",
       "      <td>2</td>\n",
       "    </tr>\n",
       "    <tr>\n",
       "      <th>6</th>\n",
       "      <td>728451</td>\n",
       "      <td>3</td>\n",
       "    </tr>\n",
       "    <tr>\n",
       "      <th>7</th>\n",
       "      <td>475515</td>\n",
       "      <td>1</td>\n",
       "    </tr>\n",
       "    <tr>\n",
       "      <th>8</th>\n",
       "      <td>441126</td>\n",
       "      <td>2</td>\n",
       "    </tr>\n",
       "    <tr>\n",
       "      <th>9</th>\n",
       "      <td>989500</td>\n",
       "      <td>1</td>\n",
       "    </tr>\n",
       "  </tbody>\n",
       "</table>\n",
       "</div>"
      ],
      "text/plain": [
       "   building_id  damage_grade\n",
       "0       802906             3\n",
       "1        28830             2\n",
       "2        94947             3\n",
       "3       590882             2\n",
       "4       201944             3\n",
       "5       333020             2\n",
       "6       728451             3\n",
       "7       475515             1\n",
       "8       441126             2\n",
       "9       989500             1"
      ]
     },
     "execution_count": 67,
     "metadata": {},
     "output_type": "execute_result"
    }
   ],
   "source": [
    "target_df.head(10)"
   ]
  },
  {
   "cell_type": "code",
   "execution_count": null,
   "id": "20b26182",
   "metadata": {},
   "outputs": [
    {
     "data": {
      "text/plain": [
       "2    148259\n",
       "3     87218\n",
       "1     25124\n",
       "Name: damage_grade, dtype: int64"
      ]
     },
     "execution_count": 68,
     "metadata": {},
     "output_type": "execute_result"
    }
   ],
   "source": [
    "target_df['damage_grade'].value_counts()"
   ]
  },
  {
   "cell_type": "markdown",
   "id": "61151d76",
   "metadata": {},
   "source": [
    "First off, there are three different damage_grades. Furthermore, we observe that the target is higly imbalanced."
   ]
  },
  {
   "cell_type": "markdown",
   "id": "92883cf3",
   "metadata": {},
   "source": [
    "### Analysis of missing and default values, as well as finding uninformative columns"
   ]
  },
  {
   "cell_type": "markdown",
   "id": "d27a4d9a",
   "metadata": {},
   "source": [
    "Let us examine if there are any missing values (NaN) and if there are duplicate rows."
   ]
  },
  {
   "cell_type": "code",
   "execution_count": null,
   "id": "39480b4e",
   "metadata": {},
   "outputs": [
    {
     "name": "stdout",
     "output_type": "stream",
     "text": [
      "missing values: False\n",
      "duplicate rows: False\n"
     ]
    }
   ],
   "source": [
    "print('missing values:', train_df.isnull().values.any())\n",
    "print('duplicate rows:', train_df.duplicated().any())"
   ]
  },
  {
   "cell_type": "markdown",
   "id": "0d410efd",
   "metadata": {},
   "source": [
    "Let us examine whether there are duplicate columns."
   ]
  },
  {
   "cell_type": "code",
   "execution_count": null,
   "id": "3d479ceb",
   "metadata": {},
   "outputs": [],
   "source": []
  },
  {
   "cell_type": "markdown",
   "id": "094330e5",
   "metadata": {},
   "source": [
    "Let us check if there are uninformative columns."
   ]
  },
  {
   "cell_type": "code",
   "execution_count": null,
   "id": "1717aeb4",
   "metadata": {},
   "outputs": [],
   "source": []
  },
  {
   "cell_type": "markdown",
   "id": "14697f6b",
   "metadata": {},
   "source": [
    "### Analysis of relationships between features"
   ]
  },
  {
   "cell_type": "markdown",
   "id": "ee784f17",
   "metadata": {},
   "source": [
    "#### Correlations between features"
   ]
  },
  {
   "cell_type": "code",
   "execution_count": null,
   "id": "6d8c26ee",
   "metadata": {},
   "outputs": [],
   "source": []
  },
  {
   "cell_type": "markdown",
   "id": "e0e21dd2",
   "metadata": {},
   "source": [
    "#### Analysis of potential one-hot encodings\n",
    "The dataset seems to contain features whose values are mutually exclusive. These are the `has_superstructure` features and the `has_secondary_use` features to be exact. We assume that they might be the results of one-hot encodings. Let us examine this."
   ]
  },
  {
   "cell_type": "code",
   "execution_count": null,
   "id": "91f9d736",
   "metadata": {},
   "outputs": [
    {
     "data": {
      "text/html": [
       "<div>\n",
       "<style scoped>\n",
       "    .dataframe tbody tr th:only-of-type {\n",
       "        vertical-align: middle;\n",
       "    }\n",
       "\n",
       "    .dataframe tbody tr th {\n",
       "        vertical-align: top;\n",
       "    }\n",
       "\n",
       "    .dataframe thead th {\n",
       "        text-align: right;\n",
       "    }\n",
       "</style>\n",
       "<table border=\"1\" class=\"dataframe\">\n",
       "  <thead>\n",
       "    <tr style=\"text-align: right;\">\n",
       "      <th></th>\n",
       "      <th>has_superstructure_adobe_mud</th>\n",
       "      <th>has_superstructure_mud_mortar_stone</th>\n",
       "      <th>has_superstructure_stone_flag</th>\n",
       "      <th>has_superstructure_cement_mortar_stone</th>\n",
       "      <th>has_superstructure_mud_mortar_brick</th>\n",
       "      <th>has_superstructure_cement_mortar_brick</th>\n",
       "      <th>has_superstructure_timber</th>\n",
       "      <th>has_superstructure_bamboo</th>\n",
       "      <th>has_superstructure_rc_non_engineered</th>\n",
       "      <th>has_superstructure_rc_engineered</th>\n",
       "      <th>has_superstructure_other</th>\n",
       "    </tr>\n",
       "  </thead>\n",
       "  <tbody>\n",
       "    <tr>\n",
       "      <th>0</th>\n",
       "      <td>1</td>\n",
       "      <td>1</td>\n",
       "      <td>0</td>\n",
       "      <td>0</td>\n",
       "      <td>0</td>\n",
       "      <td>0</td>\n",
       "      <td>0</td>\n",
       "      <td>0</td>\n",
       "      <td>0</td>\n",
       "      <td>0</td>\n",
       "      <td>0</td>\n",
       "    </tr>\n",
       "    <tr>\n",
       "      <th>1</th>\n",
       "      <td>0</td>\n",
       "      <td>1</td>\n",
       "      <td>0</td>\n",
       "      <td>0</td>\n",
       "      <td>0</td>\n",
       "      <td>0</td>\n",
       "      <td>0</td>\n",
       "      <td>0</td>\n",
       "      <td>0</td>\n",
       "      <td>0</td>\n",
       "      <td>0</td>\n",
       "    </tr>\n",
       "    <tr>\n",
       "      <th>2</th>\n",
       "      <td>0</td>\n",
       "      <td>1</td>\n",
       "      <td>0</td>\n",
       "      <td>0</td>\n",
       "      <td>0</td>\n",
       "      <td>0</td>\n",
       "      <td>0</td>\n",
       "      <td>0</td>\n",
       "      <td>0</td>\n",
       "      <td>0</td>\n",
       "      <td>0</td>\n",
       "    </tr>\n",
       "    <tr>\n",
       "      <th>3</th>\n",
       "      <td>0</td>\n",
       "      <td>1</td>\n",
       "      <td>0</td>\n",
       "      <td>0</td>\n",
       "      <td>0</td>\n",
       "      <td>0</td>\n",
       "      <td>1</td>\n",
       "      <td>1</td>\n",
       "      <td>0</td>\n",
       "      <td>0</td>\n",
       "      <td>0</td>\n",
       "    </tr>\n",
       "    <tr>\n",
       "      <th>4</th>\n",
       "      <td>1</td>\n",
       "      <td>0</td>\n",
       "      <td>0</td>\n",
       "      <td>0</td>\n",
       "      <td>0</td>\n",
       "      <td>0</td>\n",
       "      <td>0</td>\n",
       "      <td>0</td>\n",
       "      <td>0</td>\n",
       "      <td>0</td>\n",
       "      <td>0</td>\n",
       "    </tr>\n",
       "    <tr>\n",
       "      <th>5</th>\n",
       "      <td>0</td>\n",
       "      <td>1</td>\n",
       "      <td>0</td>\n",
       "      <td>0</td>\n",
       "      <td>0</td>\n",
       "      <td>0</td>\n",
       "      <td>0</td>\n",
       "      <td>0</td>\n",
       "      <td>0</td>\n",
       "      <td>0</td>\n",
       "      <td>0</td>\n",
       "    </tr>\n",
       "    <tr>\n",
       "      <th>6</th>\n",
       "      <td>0</td>\n",
       "      <td>1</td>\n",
       "      <td>0</td>\n",
       "      <td>0</td>\n",
       "      <td>0</td>\n",
       "      <td>0</td>\n",
       "      <td>0</td>\n",
       "      <td>0</td>\n",
       "      <td>0</td>\n",
       "      <td>0</td>\n",
       "      <td>0</td>\n",
       "    </tr>\n",
       "    <tr>\n",
       "      <th>7</th>\n",
       "      <td>0</td>\n",
       "      <td>0</td>\n",
       "      <td>0</td>\n",
       "      <td>0</td>\n",
       "      <td>0</td>\n",
       "      <td>1</td>\n",
       "      <td>1</td>\n",
       "      <td>0</td>\n",
       "      <td>0</td>\n",
       "      <td>0</td>\n",
       "      <td>0</td>\n",
       "    </tr>\n",
       "    <tr>\n",
       "      <th>8</th>\n",
       "      <td>0</td>\n",
       "      <td>1</td>\n",
       "      <td>0</td>\n",
       "      <td>0</td>\n",
       "      <td>0</td>\n",
       "      <td>0</td>\n",
       "      <td>1</td>\n",
       "      <td>0</td>\n",
       "      <td>0</td>\n",
       "      <td>0</td>\n",
       "      <td>0</td>\n",
       "    </tr>\n",
       "    <tr>\n",
       "      <th>9</th>\n",
       "      <td>0</td>\n",
       "      <td>0</td>\n",
       "      <td>0</td>\n",
       "      <td>0</td>\n",
       "      <td>0</td>\n",
       "      <td>1</td>\n",
       "      <td>0</td>\n",
       "      <td>0</td>\n",
       "      <td>0</td>\n",
       "      <td>0</td>\n",
       "      <td>0</td>\n",
       "    </tr>\n",
       "  </tbody>\n",
       "</table>\n",
       "</div>"
      ],
      "text/plain": [
       "   has_superstructure_adobe_mud  has_superstructure_mud_mortar_stone  \\\n",
       "0                             1                                    1   \n",
       "1                             0                                    1   \n",
       "2                             0                                    1   \n",
       "3                             0                                    1   \n",
       "4                             1                                    0   \n",
       "5                             0                                    1   \n",
       "6                             0                                    1   \n",
       "7                             0                                    0   \n",
       "8                             0                                    1   \n",
       "9                             0                                    0   \n",
       "\n",
       "   has_superstructure_stone_flag  has_superstructure_cement_mortar_stone  \\\n",
       "0                              0                                       0   \n",
       "1                              0                                       0   \n",
       "2                              0                                       0   \n",
       "3                              0                                       0   \n",
       "4                              0                                       0   \n",
       "5                              0                                       0   \n",
       "6                              0                                       0   \n",
       "7                              0                                       0   \n",
       "8                              0                                       0   \n",
       "9                              0                                       0   \n",
       "\n",
       "   has_superstructure_mud_mortar_brick  \\\n",
       "0                                    0   \n",
       "1                                    0   \n",
       "2                                    0   \n",
       "3                                    0   \n",
       "4                                    0   \n",
       "5                                    0   \n",
       "6                                    0   \n",
       "7                                    0   \n",
       "8                                    0   \n",
       "9                                    0   \n",
       "\n",
       "   has_superstructure_cement_mortar_brick  has_superstructure_timber  \\\n",
       "0                                       0                          0   \n",
       "1                                       0                          0   \n",
       "2                                       0                          0   \n",
       "3                                       0                          1   \n",
       "4                                       0                          0   \n",
       "5                                       0                          0   \n",
       "6                                       0                          0   \n",
       "7                                       1                          1   \n",
       "8                                       0                          1   \n",
       "9                                       1                          0   \n",
       "\n",
       "   has_superstructure_bamboo  has_superstructure_rc_non_engineered  \\\n",
       "0                          0                                     0   \n",
       "1                          0                                     0   \n",
       "2                          0                                     0   \n",
       "3                          1                                     0   \n",
       "4                          0                                     0   \n",
       "5                          0                                     0   \n",
       "6                          0                                     0   \n",
       "7                          0                                     0   \n",
       "8                          0                                     0   \n",
       "9                          0                                     0   \n",
       "\n",
       "   has_superstructure_rc_engineered  has_superstructure_other  \n",
       "0                                 0                         0  \n",
       "1                                 0                         0  \n",
       "2                                 0                         0  \n",
       "3                                 0                         0  \n",
       "4                                 0                         0  \n",
       "5                                 0                         0  \n",
       "6                                 0                         0  \n",
       "7                                 0                         0  \n",
       "8                                 0                         0  \n",
       "9                                 0                         0  "
      ]
     },
     "execution_count": 70,
     "metadata": {},
     "output_type": "execute_result"
    }
   ],
   "source": [
    "has_superstructure_columns = [\n",
    "    'has_superstructure_adobe_mud',\n",
    "    'has_superstructure_mud_mortar_stone', \n",
    "    'has_superstructure_stone_flag',\n",
    "    'has_superstructure_cement_mortar_stone',\n",
    "    'has_superstructure_mud_mortar_brick',\n",
    "    'has_superstructure_cement_mortar_brick', \n",
    "    'has_superstructure_timber',\n",
    "    'has_superstructure_bamboo', \n",
    "    'has_superstructure_rc_non_engineered',\n",
    "    'has_superstructure_rc_engineered', \n",
    "    'has_superstructure_other'\n",
    "]\n",
    "\n",
    "train_df[has_superstructure_columns].head(10)"
   ]
  },
  {
   "cell_type": "code",
   "execution_count": null,
   "id": "dfe9109a",
   "metadata": {},
   "outputs": [
    {
     "name": "stdout",
     "output_type": "stream",
     "text": [
      "train_df[has_superstructure_columns] is one-hot encoded: False\n"
     ]
    }
   ],
   "source": [
    "print('train_df[has_superstructure_columns] is one-hot encoded:', build_features.is_one_hot_encoded(train_df[has_superstructure_columns]))"
   ]
  },
  {
   "cell_type": "markdown",
   "id": "7e24e253",
   "metadata": {},
   "source": [
    "We see in the first sample, that the features `has_superstructure_adobe_mud` and `has_superstructure_mud_mortar_stone` both have the value 1. Therefore, our assumption that the `has_superstructure` features are one-hot encoded is false. This observation is supported by the result of the `is_one_hot_encoded` operation that checks whether each row contains exactly one 1 with the rest being 0. In conclusion, a building can have multiple superstructures."
   ]
  },
  {
   "cell_type": "code",
   "execution_count": null,
   "id": "166f2c61",
   "metadata": {},
   "outputs": [
    {
     "data": {
      "text/html": [
       "<div>\n",
       "<style scoped>\n",
       "    .dataframe tbody tr th:only-of-type {\n",
       "        vertical-align: middle;\n",
       "    }\n",
       "\n",
       "    .dataframe tbody tr th {\n",
       "        vertical-align: top;\n",
       "    }\n",
       "\n",
       "    .dataframe thead th {\n",
       "        text-align: right;\n",
       "    }\n",
       "</style>\n",
       "<table border=\"1\" class=\"dataframe\">\n",
       "  <thead>\n",
       "    <tr style=\"text-align: right;\">\n",
       "      <th></th>\n",
       "      <th>has_secondary_use</th>\n",
       "      <th>has_secondary_use_agriculture</th>\n",
       "      <th>has_secondary_use_hotel</th>\n",
       "      <th>has_secondary_use_rental</th>\n",
       "      <th>has_secondary_use_institution</th>\n",
       "      <th>has_secondary_use_school</th>\n",
       "      <th>has_secondary_use_industry</th>\n",
       "      <th>has_secondary_use_health_post</th>\n",
       "      <th>has_secondary_use_gov_office</th>\n",
       "      <th>has_secondary_use_use_police</th>\n",
       "      <th>has_secondary_use_other</th>\n",
       "    </tr>\n",
       "  </thead>\n",
       "  <tbody>\n",
       "    <tr>\n",
       "      <th>0</th>\n",
       "      <td>0</td>\n",
       "      <td>0</td>\n",
       "      <td>0</td>\n",
       "      <td>0</td>\n",
       "      <td>0</td>\n",
       "      <td>0</td>\n",
       "      <td>0</td>\n",
       "      <td>0</td>\n",
       "      <td>0</td>\n",
       "      <td>0</td>\n",
       "      <td>0</td>\n",
       "    </tr>\n",
       "    <tr>\n",
       "      <th>1</th>\n",
       "      <td>0</td>\n",
       "      <td>0</td>\n",
       "      <td>0</td>\n",
       "      <td>0</td>\n",
       "      <td>0</td>\n",
       "      <td>0</td>\n",
       "      <td>0</td>\n",
       "      <td>0</td>\n",
       "      <td>0</td>\n",
       "      <td>0</td>\n",
       "      <td>0</td>\n",
       "    </tr>\n",
       "    <tr>\n",
       "      <th>2</th>\n",
       "      <td>0</td>\n",
       "      <td>0</td>\n",
       "      <td>0</td>\n",
       "      <td>0</td>\n",
       "      <td>0</td>\n",
       "      <td>0</td>\n",
       "      <td>0</td>\n",
       "      <td>0</td>\n",
       "      <td>0</td>\n",
       "      <td>0</td>\n",
       "      <td>0</td>\n",
       "    </tr>\n",
       "    <tr>\n",
       "      <th>3</th>\n",
       "      <td>0</td>\n",
       "      <td>0</td>\n",
       "      <td>0</td>\n",
       "      <td>0</td>\n",
       "      <td>0</td>\n",
       "      <td>0</td>\n",
       "      <td>0</td>\n",
       "      <td>0</td>\n",
       "      <td>0</td>\n",
       "      <td>0</td>\n",
       "      <td>0</td>\n",
       "    </tr>\n",
       "    <tr>\n",
       "      <th>4</th>\n",
       "      <td>0</td>\n",
       "      <td>0</td>\n",
       "      <td>0</td>\n",
       "      <td>0</td>\n",
       "      <td>0</td>\n",
       "      <td>0</td>\n",
       "      <td>0</td>\n",
       "      <td>0</td>\n",
       "      <td>0</td>\n",
       "      <td>0</td>\n",
       "      <td>0</td>\n",
       "    </tr>\n",
       "    <tr>\n",
       "      <th>5</th>\n",
       "      <td>1</td>\n",
       "      <td>1</td>\n",
       "      <td>0</td>\n",
       "      <td>0</td>\n",
       "      <td>0</td>\n",
       "      <td>0</td>\n",
       "      <td>0</td>\n",
       "      <td>0</td>\n",
       "      <td>0</td>\n",
       "      <td>0</td>\n",
       "      <td>0</td>\n",
       "    </tr>\n",
       "    <tr>\n",
       "      <th>6</th>\n",
       "      <td>0</td>\n",
       "      <td>0</td>\n",
       "      <td>0</td>\n",
       "      <td>0</td>\n",
       "      <td>0</td>\n",
       "      <td>0</td>\n",
       "      <td>0</td>\n",
       "      <td>0</td>\n",
       "      <td>0</td>\n",
       "      <td>0</td>\n",
       "      <td>0</td>\n",
       "    </tr>\n",
       "    <tr>\n",
       "      <th>7</th>\n",
       "      <td>0</td>\n",
       "      <td>0</td>\n",
       "      <td>0</td>\n",
       "      <td>0</td>\n",
       "      <td>0</td>\n",
       "      <td>0</td>\n",
       "      <td>0</td>\n",
       "      <td>0</td>\n",
       "      <td>0</td>\n",
       "      <td>0</td>\n",
       "      <td>0</td>\n",
       "    </tr>\n",
       "    <tr>\n",
       "      <th>8</th>\n",
       "      <td>0</td>\n",
       "      <td>0</td>\n",
       "      <td>0</td>\n",
       "      <td>0</td>\n",
       "      <td>0</td>\n",
       "      <td>0</td>\n",
       "      <td>0</td>\n",
       "      <td>0</td>\n",
       "      <td>0</td>\n",
       "      <td>0</td>\n",
       "      <td>0</td>\n",
       "    </tr>\n",
       "    <tr>\n",
       "      <th>9</th>\n",
       "      <td>0</td>\n",
       "      <td>0</td>\n",
       "      <td>0</td>\n",
       "      <td>0</td>\n",
       "      <td>0</td>\n",
       "      <td>0</td>\n",
       "      <td>0</td>\n",
       "      <td>0</td>\n",
       "      <td>0</td>\n",
       "      <td>0</td>\n",
       "      <td>0</td>\n",
       "    </tr>\n",
       "  </tbody>\n",
       "</table>\n",
       "</div>"
      ],
      "text/plain": [
       "   has_secondary_use  has_secondary_use_agriculture  has_secondary_use_hotel  \\\n",
       "0                  0                              0                        0   \n",
       "1                  0                              0                        0   \n",
       "2                  0                              0                        0   \n",
       "3                  0                              0                        0   \n",
       "4                  0                              0                        0   \n",
       "5                  1                              1                        0   \n",
       "6                  0                              0                        0   \n",
       "7                  0                              0                        0   \n",
       "8                  0                              0                        0   \n",
       "9                  0                              0                        0   \n",
       "\n",
       "   has_secondary_use_rental  has_secondary_use_institution  \\\n",
       "0                         0                              0   \n",
       "1                         0                              0   \n",
       "2                         0                              0   \n",
       "3                         0                              0   \n",
       "4                         0                              0   \n",
       "5                         0                              0   \n",
       "6                         0                              0   \n",
       "7                         0                              0   \n",
       "8                         0                              0   \n",
       "9                         0                              0   \n",
       "\n",
       "   has_secondary_use_school  has_secondary_use_industry  \\\n",
       "0                         0                           0   \n",
       "1                         0                           0   \n",
       "2                         0                           0   \n",
       "3                         0                           0   \n",
       "4                         0                           0   \n",
       "5                         0                           0   \n",
       "6                         0                           0   \n",
       "7                         0                           0   \n",
       "8                         0                           0   \n",
       "9                         0                           0   \n",
       "\n",
       "   has_secondary_use_health_post  has_secondary_use_gov_office  \\\n",
       "0                              0                             0   \n",
       "1                              0                             0   \n",
       "2                              0                             0   \n",
       "3                              0                             0   \n",
       "4                              0                             0   \n",
       "5                              0                             0   \n",
       "6                              0                             0   \n",
       "7                              0                             0   \n",
       "8                              0                             0   \n",
       "9                              0                             0   \n",
       "\n",
       "   has_secondary_use_use_police  has_secondary_use_other  \n",
       "0                             0                        0  \n",
       "1                             0                        0  \n",
       "2                             0                        0  \n",
       "3                             0                        0  \n",
       "4                             0                        0  \n",
       "5                             0                        0  \n",
       "6                             0                        0  \n",
       "7                             0                        0  \n",
       "8                             0                        0  \n",
       "9                             0                        0  "
      ]
     },
     "execution_count": 72,
     "metadata": {},
     "output_type": "execute_result"
    }
   ],
   "source": [
    "has_secondary_use_columns = [\n",
    "    'has_secondary_use',\n",
    "    'has_secondary_use_agriculture', \n",
    "    'has_secondary_use_hotel',\n",
    "    'has_secondary_use_rental', \n",
    "    'has_secondary_use_institution',\n",
    "    'has_secondary_use_school', \n",
    "    'has_secondary_use_industry',\n",
    "    'has_secondary_use_health_post', \n",
    "    'has_secondary_use_gov_office',\n",
    "    'has_secondary_use_use_police', \n",
    "    'has_secondary_use_other'\n",
    "]\n",
    "\n",
    "train_df[has_secondary_use_columns].head(10)"
   ]
  },
  {
   "cell_type": "markdown",
   "id": "1f9ebc3f",
   "metadata": {},
   "source": [
    "We observe in the first sample, that there is not a single occurence of 1. Furthermore, in the sixth sample both `has_secondary_use` and `has_secondary_use_agriculture` are both 1. From this we could conclude, that this also is not a one-hot encoding. But we also observe, that `has_secondary_use` only is 1 if one of the other values is 1. Let us replace this feature with its complement `has_no_secondary_use`. The information in the dataset stays the same."
   ]
  },
  {
   "cell_type": "code",
   "execution_count": null,
   "id": "a55e77a1",
   "metadata": {},
   "outputs": [
    {
     "data": {
      "text/html": [
       "<div>\n",
       "<style scoped>\n",
       "    .dataframe tbody tr th:only-of-type {\n",
       "        vertical-align: middle;\n",
       "    }\n",
       "\n",
       "    .dataframe tbody tr th {\n",
       "        vertical-align: top;\n",
       "    }\n",
       "\n",
       "    .dataframe thead th {\n",
       "        text-align: right;\n",
       "    }\n",
       "</style>\n",
       "<table border=\"1\" class=\"dataframe\">\n",
       "  <thead>\n",
       "    <tr style=\"text-align: right;\">\n",
       "      <th></th>\n",
       "      <th>has_secondary_use_agriculture</th>\n",
       "      <th>has_secondary_use_hotel</th>\n",
       "      <th>has_secondary_use_rental</th>\n",
       "      <th>has_secondary_use_institution</th>\n",
       "      <th>has_secondary_use_school</th>\n",
       "      <th>has_secondary_use_industry</th>\n",
       "      <th>has_secondary_use_health_post</th>\n",
       "      <th>has_secondary_use_gov_office</th>\n",
       "      <th>has_secondary_use_use_police</th>\n",
       "      <th>has_secondary_use_other</th>\n",
       "      <th>has_no_secondary_use</th>\n",
       "    </tr>\n",
       "  </thead>\n",
       "  <tbody>\n",
       "    <tr>\n",
       "      <th>0</th>\n",
       "      <td>0</td>\n",
       "      <td>0</td>\n",
       "      <td>0</td>\n",
       "      <td>0</td>\n",
       "      <td>0</td>\n",
       "      <td>0</td>\n",
       "      <td>0</td>\n",
       "      <td>0</td>\n",
       "      <td>0</td>\n",
       "      <td>0</td>\n",
       "      <td>1</td>\n",
       "    </tr>\n",
       "    <tr>\n",
       "      <th>1</th>\n",
       "      <td>0</td>\n",
       "      <td>0</td>\n",
       "      <td>0</td>\n",
       "      <td>0</td>\n",
       "      <td>0</td>\n",
       "      <td>0</td>\n",
       "      <td>0</td>\n",
       "      <td>0</td>\n",
       "      <td>0</td>\n",
       "      <td>0</td>\n",
       "      <td>1</td>\n",
       "    </tr>\n",
       "    <tr>\n",
       "      <th>2</th>\n",
       "      <td>0</td>\n",
       "      <td>0</td>\n",
       "      <td>0</td>\n",
       "      <td>0</td>\n",
       "      <td>0</td>\n",
       "      <td>0</td>\n",
       "      <td>0</td>\n",
       "      <td>0</td>\n",
       "      <td>0</td>\n",
       "      <td>0</td>\n",
       "      <td>1</td>\n",
       "    </tr>\n",
       "    <tr>\n",
       "      <th>3</th>\n",
       "      <td>0</td>\n",
       "      <td>0</td>\n",
       "      <td>0</td>\n",
       "      <td>0</td>\n",
       "      <td>0</td>\n",
       "      <td>0</td>\n",
       "      <td>0</td>\n",
       "      <td>0</td>\n",
       "      <td>0</td>\n",
       "      <td>0</td>\n",
       "      <td>1</td>\n",
       "    </tr>\n",
       "    <tr>\n",
       "      <th>4</th>\n",
       "      <td>0</td>\n",
       "      <td>0</td>\n",
       "      <td>0</td>\n",
       "      <td>0</td>\n",
       "      <td>0</td>\n",
       "      <td>0</td>\n",
       "      <td>0</td>\n",
       "      <td>0</td>\n",
       "      <td>0</td>\n",
       "      <td>0</td>\n",
       "      <td>1</td>\n",
       "    </tr>\n",
       "    <tr>\n",
       "      <th>5</th>\n",
       "      <td>1</td>\n",
       "      <td>0</td>\n",
       "      <td>0</td>\n",
       "      <td>0</td>\n",
       "      <td>0</td>\n",
       "      <td>0</td>\n",
       "      <td>0</td>\n",
       "      <td>0</td>\n",
       "      <td>0</td>\n",
       "      <td>0</td>\n",
       "      <td>0</td>\n",
       "    </tr>\n",
       "    <tr>\n",
       "      <th>6</th>\n",
       "      <td>0</td>\n",
       "      <td>0</td>\n",
       "      <td>0</td>\n",
       "      <td>0</td>\n",
       "      <td>0</td>\n",
       "      <td>0</td>\n",
       "      <td>0</td>\n",
       "      <td>0</td>\n",
       "      <td>0</td>\n",
       "      <td>0</td>\n",
       "      <td>1</td>\n",
       "    </tr>\n",
       "    <tr>\n",
       "      <th>7</th>\n",
       "      <td>0</td>\n",
       "      <td>0</td>\n",
       "      <td>0</td>\n",
       "      <td>0</td>\n",
       "      <td>0</td>\n",
       "      <td>0</td>\n",
       "      <td>0</td>\n",
       "      <td>0</td>\n",
       "      <td>0</td>\n",
       "      <td>0</td>\n",
       "      <td>1</td>\n",
       "    </tr>\n",
       "    <tr>\n",
       "      <th>8</th>\n",
       "      <td>0</td>\n",
       "      <td>0</td>\n",
       "      <td>0</td>\n",
       "      <td>0</td>\n",
       "      <td>0</td>\n",
       "      <td>0</td>\n",
       "      <td>0</td>\n",
       "      <td>0</td>\n",
       "      <td>0</td>\n",
       "      <td>0</td>\n",
       "      <td>1</td>\n",
       "    </tr>\n",
       "    <tr>\n",
       "      <th>9</th>\n",
       "      <td>0</td>\n",
       "      <td>0</td>\n",
       "      <td>0</td>\n",
       "      <td>0</td>\n",
       "      <td>0</td>\n",
       "      <td>0</td>\n",
       "      <td>0</td>\n",
       "      <td>0</td>\n",
       "      <td>0</td>\n",
       "      <td>0</td>\n",
       "      <td>1</td>\n",
       "    </tr>\n",
       "  </tbody>\n",
       "</table>\n",
       "</div>"
      ],
      "text/plain": [
       "   has_secondary_use_agriculture  has_secondary_use_hotel  \\\n",
       "0                              0                        0   \n",
       "1                              0                        0   \n",
       "2                              0                        0   \n",
       "3                              0                        0   \n",
       "4                              0                        0   \n",
       "5                              1                        0   \n",
       "6                              0                        0   \n",
       "7                              0                        0   \n",
       "8                              0                        0   \n",
       "9                              0                        0   \n",
       "\n",
       "   has_secondary_use_rental  has_secondary_use_institution  \\\n",
       "0                         0                              0   \n",
       "1                         0                              0   \n",
       "2                         0                              0   \n",
       "3                         0                              0   \n",
       "4                         0                              0   \n",
       "5                         0                              0   \n",
       "6                         0                              0   \n",
       "7                         0                              0   \n",
       "8                         0                              0   \n",
       "9                         0                              0   \n",
       "\n",
       "   has_secondary_use_school  has_secondary_use_industry  \\\n",
       "0                         0                           0   \n",
       "1                         0                           0   \n",
       "2                         0                           0   \n",
       "3                         0                           0   \n",
       "4                         0                           0   \n",
       "5                         0                           0   \n",
       "6                         0                           0   \n",
       "7                         0                           0   \n",
       "8                         0                           0   \n",
       "9                         0                           0   \n",
       "\n",
       "   has_secondary_use_health_post  has_secondary_use_gov_office  \\\n",
       "0                              0                             0   \n",
       "1                              0                             0   \n",
       "2                              0                             0   \n",
       "3                              0                             0   \n",
       "4                              0                             0   \n",
       "5                              0                             0   \n",
       "6                              0                             0   \n",
       "7                              0                             0   \n",
       "8                              0                             0   \n",
       "9                              0                             0   \n",
       "\n",
       "   has_secondary_use_use_police  has_secondary_use_other  has_no_secondary_use  \n",
       "0                             0                        0                     1  \n",
       "1                             0                        0                     1  \n",
       "2                             0                        0                     1  \n",
       "3                             0                        0                     1  \n",
       "4                             0                        0                     1  \n",
       "5                             0                        0                     0  \n",
       "6                             0                        0                     1  \n",
       "7                             0                        0                     1  \n",
       "8                             0                        0                     1  \n",
       "9                             0                        0                     1  "
      ]
     },
     "execution_count": 73,
     "metadata": {},
     "output_type": "execute_result"
    }
   ],
   "source": [
    "has_secondary_use_df = pd.DataFrame(train_df[has_secondary_use_columns])\n",
    "\n",
    "has_secondary_use_df['has_no_secondary_use'] = has_secondary_use_df['has_secondary_use'].replace({0:1, 1:0})\n",
    "has_secondary_use_df = has_secondary_use_df.drop(columns=['has_secondary_use'])\n",
    "\n",
    "has_secondary_use_df.head(10)"
   ]
  },
  {
   "cell_type": "code",
   "execution_count": null,
   "id": "6ab8a8ed",
   "metadata": {},
   "outputs": [
    {
     "name": "stdout",
     "output_type": "stream",
     "text": [
      "has_secondary_use_df is one-hot encoded: False\n"
     ]
    }
   ],
   "source": [
    "print('has_secondary_use_df is one-hot encoded:', build_features.is_one_hot_encoded(has_secondary_use_df))"
   ]
  },
  {
   "cell_type": "markdown",
   "id": "cf1c8c69",
   "metadata": {},
   "source": [
    "Although the presented section of the dataframe shows a one-hot encoding, our `is_one_hot_encoded` function returns that the whole dataframe is not one-hot encoded. Let us examine the rows where this is not the case."
   ]
  },
  {
   "cell_type": "code",
   "execution_count": null,
   "id": "4c37e40e",
   "metadata": {},
   "outputs": [
    {
     "name": "stdout",
     "output_type": "stream",
     "text": [
      "number of not one-hot encoded rows: 557\n",
      "values of 1    557\n",
      "Name: has_secondary_use_other, dtype: int64\n"
     ]
    },
    {
     "data": {
      "text/html": [
       "<div>\n",
       "<style scoped>\n",
       "    .dataframe tbody tr th:only-of-type {\n",
       "        vertical-align: middle;\n",
       "    }\n",
       "\n",
       "    .dataframe tbody tr th {\n",
       "        vertical-align: top;\n",
       "    }\n",
       "\n",
       "    .dataframe thead th {\n",
       "        text-align: right;\n",
       "    }\n",
       "</style>\n",
       "<table border=\"1\" class=\"dataframe\">\n",
       "  <thead>\n",
       "    <tr style=\"text-align: right;\">\n",
       "      <th></th>\n",
       "      <th>has_secondary_use_agriculture</th>\n",
       "      <th>has_secondary_use_hotel</th>\n",
       "      <th>has_secondary_use_rental</th>\n",
       "      <th>has_secondary_use_institution</th>\n",
       "      <th>has_secondary_use_school</th>\n",
       "      <th>has_secondary_use_industry</th>\n",
       "      <th>has_secondary_use_health_post</th>\n",
       "      <th>has_secondary_use_gov_office</th>\n",
       "      <th>has_secondary_use_use_police</th>\n",
       "      <th>has_secondary_use_other</th>\n",
       "      <th>has_no_secondary_use</th>\n",
       "    </tr>\n",
       "  </thead>\n",
       "  <tbody>\n",
       "    <tr>\n",
       "      <th>304</th>\n",
       "      <td>1</td>\n",
       "      <td>0</td>\n",
       "      <td>0</td>\n",
       "      <td>0</td>\n",
       "      <td>0</td>\n",
       "      <td>0</td>\n",
       "      <td>0</td>\n",
       "      <td>0</td>\n",
       "      <td>0</td>\n",
       "      <td>1</td>\n",
       "      <td>0</td>\n",
       "    </tr>\n",
       "    <tr>\n",
       "      <th>1408</th>\n",
       "      <td>1</td>\n",
       "      <td>0</td>\n",
       "      <td>0</td>\n",
       "      <td>0</td>\n",
       "      <td>0</td>\n",
       "      <td>0</td>\n",
       "      <td>0</td>\n",
       "      <td>0</td>\n",
       "      <td>0</td>\n",
       "      <td>1</td>\n",
       "      <td>0</td>\n",
       "    </tr>\n",
       "    <tr>\n",
       "      <th>1593</th>\n",
       "      <td>1</td>\n",
       "      <td>0</td>\n",
       "      <td>0</td>\n",
       "      <td>0</td>\n",
       "      <td>0</td>\n",
       "      <td>0</td>\n",
       "      <td>0</td>\n",
       "      <td>0</td>\n",
       "      <td>0</td>\n",
       "      <td>1</td>\n",
       "      <td>0</td>\n",
       "    </tr>\n",
       "    <tr>\n",
       "      <th>2329</th>\n",
       "      <td>1</td>\n",
       "      <td>0</td>\n",
       "      <td>0</td>\n",
       "      <td>0</td>\n",
       "      <td>0</td>\n",
       "      <td>0</td>\n",
       "      <td>0</td>\n",
       "      <td>0</td>\n",
       "      <td>0</td>\n",
       "      <td>1</td>\n",
       "      <td>0</td>\n",
       "    </tr>\n",
       "    <tr>\n",
       "      <th>3704</th>\n",
       "      <td>0</td>\n",
       "      <td>1</td>\n",
       "      <td>0</td>\n",
       "      <td>0</td>\n",
       "      <td>0</td>\n",
       "      <td>0</td>\n",
       "      <td>0</td>\n",
       "      <td>0</td>\n",
       "      <td>0</td>\n",
       "      <td>1</td>\n",
       "      <td>0</td>\n",
       "    </tr>\n",
       "    <tr>\n",
       "      <th>4662</th>\n",
       "      <td>1</td>\n",
       "      <td>0</td>\n",
       "      <td>0</td>\n",
       "      <td>0</td>\n",
       "      <td>0</td>\n",
       "      <td>0</td>\n",
       "      <td>0</td>\n",
       "      <td>0</td>\n",
       "      <td>0</td>\n",
       "      <td>1</td>\n",
       "      <td>0</td>\n",
       "    </tr>\n",
       "    <tr>\n",
       "      <th>4785</th>\n",
       "      <td>1</td>\n",
       "      <td>0</td>\n",
       "      <td>0</td>\n",
       "      <td>0</td>\n",
       "      <td>0</td>\n",
       "      <td>0</td>\n",
       "      <td>0</td>\n",
       "      <td>0</td>\n",
       "      <td>0</td>\n",
       "      <td>1</td>\n",
       "      <td>0</td>\n",
       "    </tr>\n",
       "    <tr>\n",
       "      <th>4972</th>\n",
       "      <td>1</td>\n",
       "      <td>0</td>\n",
       "      <td>0</td>\n",
       "      <td>0</td>\n",
       "      <td>0</td>\n",
       "      <td>0</td>\n",
       "      <td>0</td>\n",
       "      <td>0</td>\n",
       "      <td>0</td>\n",
       "      <td>1</td>\n",
       "      <td>0</td>\n",
       "    </tr>\n",
       "    <tr>\n",
       "      <th>5002</th>\n",
       "      <td>1</td>\n",
       "      <td>0</td>\n",
       "      <td>0</td>\n",
       "      <td>0</td>\n",
       "      <td>0</td>\n",
       "      <td>0</td>\n",
       "      <td>0</td>\n",
       "      <td>0</td>\n",
       "      <td>0</td>\n",
       "      <td>1</td>\n",
       "      <td>0</td>\n",
       "    </tr>\n",
       "    <tr>\n",
       "      <th>5359</th>\n",
       "      <td>1</td>\n",
       "      <td>0</td>\n",
       "      <td>0</td>\n",
       "      <td>0</td>\n",
       "      <td>0</td>\n",
       "      <td>0</td>\n",
       "      <td>0</td>\n",
       "      <td>0</td>\n",
       "      <td>0</td>\n",
       "      <td>1</td>\n",
       "      <td>0</td>\n",
       "    </tr>\n",
       "  </tbody>\n",
       "</table>\n",
       "</div>"
      ],
      "text/plain": [
       "      has_secondary_use_agriculture  has_secondary_use_hotel  \\\n",
       "304                               1                        0   \n",
       "1408                              1                        0   \n",
       "1593                              1                        0   \n",
       "2329                              1                        0   \n",
       "3704                              0                        1   \n",
       "4662                              1                        0   \n",
       "4785                              1                        0   \n",
       "4972                              1                        0   \n",
       "5002                              1                        0   \n",
       "5359                              1                        0   \n",
       "\n",
       "      has_secondary_use_rental  has_secondary_use_institution  \\\n",
       "304                          0                              0   \n",
       "1408                         0                              0   \n",
       "1593                         0                              0   \n",
       "2329                         0                              0   \n",
       "3704                         0                              0   \n",
       "4662                         0                              0   \n",
       "4785                         0                              0   \n",
       "4972                         0                              0   \n",
       "5002                         0                              0   \n",
       "5359                         0                              0   \n",
       "\n",
       "      has_secondary_use_school  has_secondary_use_industry  \\\n",
       "304                          0                           0   \n",
       "1408                         0                           0   \n",
       "1593                         0                           0   \n",
       "2329                         0                           0   \n",
       "3704                         0                           0   \n",
       "4662                         0                           0   \n",
       "4785                         0                           0   \n",
       "4972                         0                           0   \n",
       "5002                         0                           0   \n",
       "5359                         0                           0   \n",
       "\n",
       "      has_secondary_use_health_post  has_secondary_use_gov_office  \\\n",
       "304                               0                             0   \n",
       "1408                              0                             0   \n",
       "1593                              0                             0   \n",
       "2329                              0                             0   \n",
       "3704                              0                             0   \n",
       "4662                              0                             0   \n",
       "4785                              0                             0   \n",
       "4972                              0                             0   \n",
       "5002                              0                             0   \n",
       "5359                              0                             0   \n",
       "\n",
       "      has_secondary_use_use_police  has_secondary_use_other  \\\n",
       "304                              0                        1   \n",
       "1408                             0                        1   \n",
       "1593                             0                        1   \n",
       "2329                             0                        1   \n",
       "3704                             0                        1   \n",
       "4662                             0                        1   \n",
       "4785                             0                        1   \n",
       "4972                             0                        1   \n",
       "5002                             0                        1   \n",
       "5359                             0                        1   \n",
       "\n",
       "      has_no_secondary_use  \n",
       "304                      0  \n",
       "1408                     0  \n",
       "1593                     0  \n",
       "2329                     0  \n",
       "3704                     0  \n",
       "4662                     0  \n",
       "4785                     0  \n",
       "4972                     0  \n",
       "5002                     0  \n",
       "5359                     0  "
      ]
     },
     "execution_count": 75,
     "metadata": {},
     "output_type": "execute_result"
    }
   ],
   "source": [
    "not_one_hot_encoded_rows = has_secondary_use_df[has_secondary_use_df.sum(axis=1) >= 2]\n",
    "\n",
    "print('number of not one-hot encoded rows:', len(not_one_hot_encoded_rows))\n",
    "print('values of', not_one_hot_encoded_rows['has_secondary_use_other'].value_counts())\n",
    "not_one_hot_encoded_rows.head(10)"
   ]
  },
  {
   "cell_type": "markdown",
   "id": "7ebaf56c",
   "metadata": {},
   "source": [
    "We see, that the rows that are not one-hot encoded always have the flag `has_secondary_use_other` set to 1, while the remaining features represent a valid one-hot encoding. In later preprocessing steps, we could think about ignoring the `has_secondary_use_other` flag for these rows (i.e. setting it to 0) and decode this otherwise valid one-hot encoding."
   ]
  },
  {
   "cell_type": "markdown",
   "id": "aec0c037",
   "metadata": {},
   "source": [
    "### Conclusions"
   ]
  },
  {
   "cell_type": "markdown",
   "id": "7eac47d1",
   "metadata": {},
   "source": []
  }
 ],
 "metadata": {
  "kernelspec": {
   "display_name": "DS",
   "language": "python",
   "name": "python3"
  },
  "language_info": {
   "codemirror_mode": {
    "name": "ipython",
    "version": 3
   },
   "file_extension": ".py",
   "mimetype": "text/x-python",
   "name": "python",
   "nbconvert_exporter": "python",
   "pygments_lexer": "ipython3",
   "version": "3.10.10"
  },
  "vscode": {
   "interpreter": {
    "hash": "e2bb05ca3f95fdb4f6c357f943a239038cc50332238838c091eef50ee68f18f6"
   }
  }
 },
 "nbformat": 4,
 "nbformat_minor": 5
}
