{
 "cells": [
  {
   "attachments": {},
   "cell_type": "markdown",
   "metadata": {},
   "source": [
    "# Data Cleaning\n",
    "This notebook includes analysis with regards to the data cleaning step that is taken for the earthquake damage dataset."
   ]
  },
  {
   "cell_type": "code",
   "execution_count": 1,
   "metadata": {},
   "outputs": [],
   "source": [
    "# enables referencing modules in repository\n",
    "import os\n",
    "import sys\n",
    "module_path = os.path.abspath(os.path.join('..'))\n",
    "if module_path not in sys.path:\n",
    "    sys.path.append(module_path)\n",
    "\n",
    "import numpy as np\n",
    "import pandas as pd\n",
    "import sklearn\n",
    "import matplotlib.pyplot as plt\n",
    "import seaborn as sns\n",
    "import statistics as stat\n",
    "\n",
    "from scipy.stats import chi2_contingency\n",
    "\n",
    "from src.features import build_features\n",
    "# from src.data import make_dataset \n",
    "# commented out because: there seems to be an issue at the moment with the initial method from make_dataset\n",
    "from src.models import train_model\n",
    "from src.models import predict_model\n",
    "from src.visualization import visualize\n",
    "from tabulate import tabulate\n",
    "from scipy import stats"
   ]
  },
  {
   "cell_type": "code",
   "execution_count": 2,
   "metadata": {},
   "outputs": [],
   "source": [
    "# Loading the data\n",
    "train_df = pd.read_csv('../data/raw/train_values.csv')"
   ]
  },
  {
   "attachments": {},
   "cell_type": "markdown",
   "metadata": {},
   "source": [
    "## Determining the type of features\n",
    "---\n",
    "From the exploratory data analysis the following descriptions of the features have been derived:\n",
    "\n",
    "1. `building_id` seems to be used to identify each unique building.\n",
    "2. `geo_level_1_id`, `geo_level_2_id`, `geo_level_3_id` these features seem to describe the location the building is located in.\n",
    "3. `count_floors_pre_eq` seems to be the number of floors the building had before the earthquake happend\n",
    "4. `age` seems to be the age of the building before it was destroyed\n",
    "5. `area_percentage` maybe the amount of buildings in an area \n",
    "6. `height_percentage` likely the height of the building before it was destroyed\n",
    "7. `land_surface_condition` likely the condition the surface of the ground of the building had before the earthquake\n",
    "8. `foundation_type` as the name suggests this seems to be the type of the foundation the building was built \n",
    "9. `roof_type`, `ground_floor_type`, `other_floor_type` as the name suggest this seems to be the type of the roof and floors the building had. It seems like only to types of floors where recorded\n",
    "10. `position` (unkown)\n",
    "11. `plan_configuration` likely class of building structure\n",
    "12. `has_superstructure..` likely a one hot encoded feature that represents the type of used superstructure\n",
    "13. `legal_ownership_status` likely who the building belongs to\n",
    "14. `count_families` seems to be the amount of families that lived in the building\n",
    "15. `has_secondary_use..` seems to describe whether the building had an additional purpose than living in it"
   ]
  },
  {
   "cell_type": "code",
   "execution_count": 3,
   "metadata": {},
   "outputs": [
    {
     "name": "stdout",
     "output_type": "stream",
     "text": [
      "Data Types:\n",
      "building_id                                int64\n",
      "geo_level_1_id                             int64\n",
      "geo_level_2_id                             int64\n",
      "geo_level_3_id                             int64\n",
      "count_floors_pre_eq                        int64\n",
      "age                                        int64\n",
      "area_percentage                            int64\n",
      "height_percentage                          int64\n",
      "land_surface_condition                    object\n",
      "foundation_type                           object\n",
      "roof_type                                 object\n",
      "ground_floor_type                         object\n",
      "other_floor_type                          object\n",
      "position                                  object\n",
      "plan_configuration                        object\n",
      "has_superstructure_adobe_mud               int64\n",
      "has_superstructure_mud_mortar_stone        int64\n",
      "has_superstructure_stone_flag              int64\n",
      "has_superstructure_cement_mortar_stone     int64\n",
      "has_superstructure_mud_mortar_brick        int64\n",
      "has_superstructure_cement_mortar_brick     int64\n",
      "has_superstructure_timber                  int64\n",
      "has_superstructure_bamboo                  int64\n",
      "has_superstructure_rc_non_engineered       int64\n",
      "has_superstructure_rc_engineered           int64\n",
      "has_superstructure_other                   int64\n",
      "legal_ownership_status                    object\n",
      "count_families                             int64\n",
      "has_secondary_use                          int64\n",
      "has_secondary_use_agriculture              int64\n",
      "has_secondary_use_hotel                    int64\n",
      "has_secondary_use_rental                   int64\n",
      "has_secondary_use_institution              int64\n",
      "has_secondary_use_school                   int64\n",
      "has_secondary_use_industry                 int64\n",
      "has_secondary_use_health_post              int64\n",
      "has_secondary_use_gov_office               int64\n",
      "has_secondary_use_use_police               int64\n",
      "has_secondary_use_other                    int64\n"
     ]
    }
   ],
   "source": [
    "# get the data types as a string\n",
    "dtypes_str = train_df.dtypes.to_string()\n",
    "\n",
    "# print the data types string\n",
    "print(\"Data Types:\")\n",
    "print(dtypes_str)"
   ]
  },
  {
   "attachments": {},
   "cell_type": "markdown",
   "metadata": {},
   "source": [
    "Although most features have the int64 datatype which could suggest that these features are numerical, judging by the meaning and values from the exploratory data analysis there are features that are numerically encoded but have a categorical meaning. \n",
    "\n",
    "Therefore for the future analysis we categorize the features by `categorical` and `numerical` by hand. The following lists are created with regard to the feature analysis done in the exploration step."
   ]
  },
  {
   "cell_type": "code",
   "execution_count": 4,
   "metadata": {},
   "outputs": [],
   "source": [
    "categorical_columns = [\n",
    "        'building_id',\n",
    "        'geo_level_1_id',\n",
    "        'geo_level_2_id',\n",
    "        'geo_level_3_id',\n",
    "        'land_surface_condition',\n",
    "        'foundation_type',\n",
    "        'roof_type',\n",
    "        'ground_floor_type',\n",
    "        'other_floor_type',\n",
    "        'position',\n",
    "        'plan_configuration',\n",
    "        'has_superstructure_adobe_mud',\n",
    "        'has_superstructure_mud_mortar_stone',\n",
    "        'has_superstructure_stone_flag',\n",
    "        'has_superstructure_cement_mortar_stone',\n",
    "        'has_superstructure_mud_mortar_brick',\n",
    "        'has_superstructure_cement_mortar_brick',\n",
    "        'has_superstructure_timber',\n",
    "        'has_superstructure_bamboo',\n",
    "        'has_superstructure_rc_non_engineered',\n",
    "        'has_superstructure_rc_engineered',\n",
    "        'has_superstructure_other',\n",
    "        'legal_ownership_status',\n",
    "        'has_secondary_use',\n",
    "        'has_secondary_use_agriculture',\n",
    "        'has_secondary_use_hotel',\n",
    "        'has_secondary_use_rental',\n",
    "        'has_secondary_use_institution',\n",
    "        'has_secondary_use_school',\n",
    "        'has_secondary_use_industry',\n",
    "        'has_secondary_use_health_post',\n",
    "        'has_secondary_use_gov_office',\n",
    "        'has_secondary_use_use_police',\n",
    "        'has_secondary_use_other'\n",
    "    ]\n",
    "\n",
    "numerical_columns = [\n",
    "    'count_floors_pre_eq',\n",
    "    'age',\n",
    "    'area_percentage',\n",
    "    'height_percentage',\n",
    "    'count_families'\n",
    "    ]"
   ]
  },
  {
   "attachments": {},
   "cell_type": "markdown",
   "metadata": {},
   "source": [
    "## Filtering out uninformative features\n",
    "---"
   ]
  },
  {
   "attachments": {},
   "cell_type": "markdown",
   "metadata": {},
   "source": [
    "The 'building_id' feature describes the unique id for each building. For this reason it provides no further information for the predicion model and can be dropped from further analysis\n",
    "\n",
    "has_superstructure"
   ]
  },
  {
   "cell_type": "code",
   "execution_count": 5,
   "metadata": {},
   "outputs": [],
   "source": [
    "categorical_columns.remove('building_id')\n",
    "train_df = train_df.drop('building_id', axis=1)"
   ]
  },
  {
   "attachments": {},
   "cell_type": "markdown",
   "metadata": {},
   "source": [
    "## Finding Outliers in the dataset\n",
    "---"
   ]
  },
  {
   "attachments": {},
   "cell_type": "markdown",
   "metadata": {},
   "source": [
    "### Strategies for finding Outliers\n",
    "The following strategies are used for outlier analysis in this notebook.\n",
    "#### 1. interquartile range (IQR)\n",
    "IQR is the difference between the 75th percentile (Q3) and the 25th percentile (Q1). Using the IQR, the outlier data points are the ones falling below Q1–1.5 IQR or above Q3 + 1.5 IQR. \n",
    "\n",
    "Where Q1 is the 25th percentile and Q3 is the 75th percentile of the dataset, and IQR represents the interquartile range calculated by Q3 minus Q1 (Q3–Q1). \n",
    "\n",
    "#### 2. Boxplot\n",
    "With the help of a boxplot it is possible to visually inspect the data for the presence of outliers. If there are outliers in the data, they will be represented as points outside the whiskers of the box plot.\n",
    "\n",
    "### 3. Z-Score\n",
    "The Z-Score helps to understand whether a data value is greater or smaller than the mean and how far away it is from the mean."
   ]
  },
  {
   "attachments": {},
   "cell_type": "markdown",
   "metadata": {},
   "source": [
    "### Strategies for handeling outliers\n",
    "The following strategies are used for handling the outliers that have been found.\n",
    "#### 1. Dropping the data row including the outlier\n",
    "With this method all data rows are dropped that include values that have been marked as outliers.\n",
    "#### 2. Capping the outlier\n",
    "With this method a min and max value is set. Every value that is above or below the cap gets set to the capped value."
   ]
  },
  {
   "attachments": {},
   "cell_type": "markdown",
   "metadata": {},
   "source": [
    "### Analysing the numerical features"
   ]
  },
  {
   "attachments": {},
   "cell_type": "markdown",
   "metadata": {},
   "source": [
    "Using IQR we calculate whether the numerical features classified as such above contain outliers. The function below reports a dataframe that contains the amount of outliers that have been calculated for that particular feature and the min and max value of the feature.\n",
    "\n",
    "The data table below shows us, that for every numerical feature, outliers have been found with the IQR method."
   ]
  },
  {
   "cell_type": "code",
   "execution_count": 6,
   "metadata": {},
   "outputs": [
    {
     "name": "stdout",
     "output_type": "stream",
     "text": [
      "+----+---------------------+-----------------+-------------------+-------------------+-----------+----------+--------+\n",
      "|    | featureName         |   outlierAmount |   minOutlierValue |   maxOutlierValue |      mean |   median |   mode |\n",
      "|----+---------------------+-----------------+-------------------+-------------------+-----------+----------+--------|\n",
      "|  0 | count_floors_pre_eq |          103978 |                 1 |                 9 |  2.12972  |        2 |      2 |\n",
      "|  1 | age                 |           12499 |                65 |               995 | 26.535    |       15 |     10 |\n",
      "|  2 | area_percentage     |           13557 |                16 |               100 |  8.01805  |        7 |      6 |\n",
      "|  3 | height_percentage   |            7843 |                10 |                32 |  5.43437  |        5 |      5 |\n",
      "|  4 | count_families      |           34486 |                 0 |                 9 |  0.983949 |        1 |      1 |\n",
      "+----+---------------------+-----------------+-------------------+-------------------+-----------+----------+--------+\n"
     ]
    }
   ],
   "source": [
    "# Using IQR zu calculate which numerical features have outliers\n",
    "outliers_IQR = {}\n",
    "for feature in train_df[numerical_columns]:\n",
    "    outliers_IQR[feature] = build_features.find_outliers_IQR(train_df[feature])\n",
    "\n",
    "outlier_IQR_df = pd.DataFrame(columns=['featureName', 'outlierAmount', 'minOutlierValue', 'maxOutlierValue', 'mean', 'median', 'mode'])\n",
    "for feature in outliers_IQR:\n",
    "    amount = str(len(outliers_IQR[feature]))\n",
    "    min = str(outliers_IQR[feature].min())\n",
    "    max = str(outliers_IQR[feature].max())\n",
    "    mean = stat.mean(train_df[feature])\n",
    "    median = stat.median(train_df[feature])\n",
    "    mode = stat.mode(train_df[feature])\n",
    "    outlier_IQR_df.loc[len(outlier_IQR_df)] = [feature, amount, min, max, mean, median, mode]\n",
    "\n",
    "print(tabulate(outlier_IQR_df, headers='keys', tablefmt='psql'))"
   ]
  },
  {
   "attachments": {},
   "cell_type": "markdown",
   "metadata": {},
   "source": [
    "Next the Z-Score is used as an alternative method for calculating the outliers for the numerically classified features. The Z-Score also shows that every numerical feature has outliers even though it shows a lot less outliers compared to the IQR method. "
   ]
  },
  {
   "cell_type": "code",
   "execution_count": 7,
   "metadata": {},
   "outputs": [
    {
     "name": "stdout",
     "output_type": "stream",
     "text": [
      "+----+---------------------+-----------------+-------------------+-------------------+----------+----------+--------+\n",
      "|    | featureName         |   outlierAmount |   minOutlierValue |   maxOutlierValue |     mean |   median |   mode |\n",
      "|----+---------------------+-----------------+-------------------+-------------------+----------+----------+--------|\n",
      "|  0 | count_floors_pre_eq |            7920 |                 4 |                 9 |  2.06006 |        2 |      2 |\n",
      "|  1 | age                 |            1514 |               175 |               995 | 21.2574  |       15 |     10 |\n",
      "|  2 | area_percentage     |           10951 |                17 |               100 |  7.39913 |        7 |      6 |\n",
      "|  3 | height_percentage   |            7843 |                10 |                32 |  5.24935 |        5 |      5 |\n",
      "|  4 | count_families      |           34486 |                 0 |                 9 |  1       |        1 |      1 |\n",
      "+----+---------------------+-----------------+-------------------+-------------------+----------+----------+--------+\n"
     ]
    }
   ],
   "source": [
    "outliers_Z = {}\n",
    "for feature in train_df[numerical_columns]:\n",
    "    outliers_Z[feature] = np.abs(stats.zscore(train_df[feature]))\n",
    "    \n",
    "outlier_Z__df = pd.DataFrame(columns=['featureName', 'outlierAmount', 'minOutlierValue', 'maxOutlierValue', 'mean', 'median', 'mode'])\n",
    "for feature in outliers_Z:\n",
    "    outliers_idx = (outliers_Z[feature] >= 2) | (outliers_Z[feature] <= -2)\n",
    "    outlier_amount = outliers_idx.sum()\n",
    "    outlier_min = train_df[feature][outliers_idx].min()\n",
    "    outlier_max = train_df[feature][outliers_idx].max()\n",
    "    outlier_mean = train_df[feature][~outliers_idx].mean()\n",
    "    outlier_median = train_df[feature][~outliers_idx].median()\n",
    "    outlier_mode = train_df[feature][~outliers_idx].mode()[0]\n",
    "    outlier_Z__df.loc[len(outlier_Z__df)]  = {'featureName': feature, 'outlierAmount': outlier_amount, 'minOutlierValue': outlier_min, 'maxOutlierValue': outlier_max, 'mean': outlier_mean, 'median': outlier_median, 'mode': outlier_mode}\n",
    "\n",
    "print(tabulate(outlier_Z__df, headers='keys', tablefmt='psql'))"
   ]
  },
  {
   "attachments": {},
   "cell_type": "markdown",
   "metadata": {},
   "source": [
    "#### Analysis for `age`\n",
    "The IQR method is showing a lot more outliers compared to the Z-Score method. This could be explained be the difference in the min-value. With IQR the lowest outlier value is at the age of 65 which means that starting from age 65 to age 995 all buildings are marked as outliers. With regard to the Z-Score the minimum outlier age starts at the age of 175."
   ]
  },
  {
   "cell_type": "code",
   "execution_count": 8,
   "metadata": {},
   "outputs": [
    {
     "name": "stdout",
     "output_type": "stream",
     "text": [
      "IQR Value\n",
      "+----+---------------+-----------------+-------------------+-------------------+--------+----------+--------+\n",
      "|    | featureName   |   outlierAmount |   minOutlierValue |   maxOutlierValue |   mean |   median |   mode |\n",
      "|----+---------------+-----------------+-------------------+-------------------+--------+----------+--------|\n",
      "|  1 | age           |           12499 |                65 |               995 | 26.535 |       15 |     10 |\n",
      "+----+---------------+-----------------+-------------------+-------------------+--------+----------+--------+\n",
      "Z Value\n",
      "+----+---------------+-----------------+-------------------+-------------------+---------+----------+--------+\n",
      "|    | featureName   |   outlierAmount |   minOutlierValue |   maxOutlierValue |    mean |   median |   mode |\n",
      "|----+---------------+-----------------+-------------------+-------------------+---------+----------+--------|\n",
      "|  1 | age           |            1514 |               175 |               995 | 21.2574 |       15 |     10 |\n",
      "+----+---------------+-----------------+-------------------+-------------------+---------+----------+--------+\n"
     ]
    }
   ],
   "source": [
    "fromIQR_df = outlier_IQR_df[outlier_IQR_df['featureName'] == 'age']\n",
    "fromZ_df = outlier_Z__df[outlier_Z__df['featureName'] == 'age']\n",
    "\n",
    "print('IQR Value')\n",
    "print(tabulate(fromIQR_df, headers='keys', tablefmt='psql'))\n",
    "print('Z Value')\n",
    "print(tabulate(fromZ_df, headers='keys', tablefmt='psql'))"
   ]
  },
  {
   "attachments": {},
   "cell_type": "markdown",
   "metadata": {},
   "source": [
    "Judging by the plot below"
   ]
  },
  {
   "cell_type": "code",
   "execution_count": 9,
   "metadata": {},
   "outputs": [
    {
     "data": {
      "image/png": "[encoded data removed]",
      "text/plain": [
       "<Figure size 1600x600 with 1 Axes>"
      ]
     },
     "metadata": {},
     "output_type": "display_data"
    }
   ],
   "source": [
    "# Plotting the distribution\n",
    "plt.figure(figsize=(16,6))\n",
    "sns.countplot(data=train_df, x='age')\n",
    "plt.title(\"Distribution of age\")\n",
    "# set the x and y limits\n",
    "plt.ylim(0, 6000)\n",
    "plt.savefig('../reports/figures/age_distribution.svg')\n",
    "plt.show()"
   ]
  },
  {
   "attachments": {},
   "cell_type": "markdown",
   "metadata": {},
   "source": [
    "### Analysing the categorical features\n",
    "With regard to the outlier detection of categorical features we are looking for features that are rare or occur with an unusually low frequency. To find outliers we conduct a frequency analysis. With this analysis a percentage threshold is set. All values that occur less times than the threshold are marked as outliers.\n",
    "\n",
    "The analysis with a threshold of 2% shows that the following features have no outliers:\n",
    "* 'land_surface_condition'\n",
    "* 'roof_type' \n",
    "* 'other_floor_type'"
   ]
  },
  {
   "cell_type": "code",
   "execution_count": 10,
   "metadata": {},
   "outputs": [
    {
     "name": "stdout",
     "output_type": "stream",
     "text": [
      "Start: filtering out outliers with threshold 0.98\n",
      "Features that have no outliers are: ['land_surface_condition', 'roof_type', 'other_floor_type', 'has_superstructure_adobe_mud', 'has_superstructure_mud_mortar_stone', 'has_superstructure_stone_flag', 'has_superstructure_mud_mortar_brick', 'has_superstructure_cement_mortar_brick', 'has_superstructure_timber', 'has_superstructure_bamboo', 'has_superstructure_rc_non_engineered', 'has_secondary_use', 'has_secondary_use_agriculture', 'has_secondary_use_hotel']\n",
      "Features with outliers:\n",
      "Outliers for feature: geo_level_1_id\n",
      "    0: 24\n",
      "    1: 23\n",
      "    2: 2\n",
      "    3: 29\n",
      "    4: 19\n",
      "    5: 28\n",
      "Outliers for feature: geo_level_2_id\n",
      "    0: 465\n",
      "    1: 1167\n",
      "    2: 1143\n",
      "    3: 764\n",
      "    4: 1223\n",
      "    5: 425\n",
      "    6: 386\n",
      "    7: 467\n",
      "    8: 993\n",
      "    9: 822\n",
      ".. 380 more outliers were found\n",
      "Outliers for feature: geo_level_3_id\n",
      "    0: 9738\n",
      "    1: 3750\n",
      "    2: 4197\n",
      "    3: 6355\n",
      "    4: 1283\n",
      "    5: 2365\n",
      "    6: 2108\n",
      "    7: 8982\n",
      "    8: 7605\n",
      "    9: 1288\n",
      ".. 2541 more outliers were found\n",
      "Outliers for feature: foundation_type\n",
      "    0: h\n",
      "Outliers for feature: ground_floor_type\n",
      "    0: z\n",
      "    1: m\n",
      "Outliers for feature: position\n",
      "    0: o\n",
      "Outliers for feature: plan_configuration\n",
      "    0: u\n",
      "    1: s\n",
      "    2: c\n",
      "    3: a\n",
      "    4: o\n",
      "    5: m\n",
      "    6: n\n",
      "    7: f\n",
      "Outliers for feature: has_superstructure_cement_mortar_stone\n",
      "    0: 1\n",
      "Outliers for feature: has_superstructure_rc_engineered\n",
      "    0: 1\n",
      "Outliers for feature: has_superstructure_other\n",
      "    0: 1\n",
      "Outliers for feature: legal_ownership_status\n",
      "    0: w\n",
      "    1: r\n",
      "Outliers for feature: has_secondary_use_rental\n",
      "    0: 1\n",
      "Outliers for feature: has_secondary_use_institution\n",
      "    0: 1\n",
      "Outliers for feature: has_secondary_use_school\n",
      "    0: 1\n",
      "Outliers for feature: has_secondary_use_industry\n",
      "    0: 1\n",
      "Outliers for feature: has_secondary_use_health_post\n",
      "    0: 1\n",
      "Outliers for feature: has_secondary_use_gov_office\n",
      "    0: 1\n",
      "Outliers for feature: has_secondary_use_use_police\n",
      "    0: 1\n",
      "Outliers for feature: has_secondary_use_other\n",
      "    0: 1\n"
     ]
    }
   ],
   "source": [
    "threshold = 0.02 # the threshold percentage after which values are marked as outliers\n",
    "cat_outliers = build_features.find_outliers_by_threshold(train_df[categorical_columns], threshold, True)"
   ]
  },
  {
   "cell_type": "code",
   "execution_count": 11,
   "metadata": {},
   "outputs": [
    {
     "name": "stdout",
     "output_type": "stream",
     "text": [
      "has_secondary_use_agriculture\n",
      "0    243824\n",
      "1     16777\n",
      "Name: count, dtype: int64\n",
      "Percentage1 93.56218894018058\n",
      "Percentage1 6.437811059819418\n"
     ]
    }
   ],
   "source": [
    "data = train_df.has_secondary_use_agriculture.value_counts()\n",
    "overall = data[0] + data[1]\n",
    "print(data)\n",
    "print(f'Percentage1 {data[0]/overall * 100}')\n",
    "print(f'Percentage1 {data[1]/overall * 100}')"
   ]
  },
  {
   "attachments": {},
   "cell_type": "markdown",
   "metadata": {},
   "source": [
    "-------------"
   ]
  },
  {
   "cell_type": "code",
   "execution_count": 12,
   "metadata": {},
   "outputs": [
    {
     "data": {
      "image/png": "[encoded data removed]",
      "text/plain": [
       "<Figure size 640x480 with 1 Axes>"
      ]
     },
     "metadata": {},
     "output_type": "display_data"
    }
   ],
   "source": [
    "cumulative_sum = train_df['count_floors_pre_eq'].value_counts().sort_values(ascending=False).cumsum()\n",
    "\n",
    "cumulative_percentage = 100 * cumulative_sum / cumulative_sum.max()\n",
    "\n",
    "# plot the cumulative percentage\n",
    "plt.plot(cumulative_percentage.index, cumulative_percentage)\n",
    "\n",
    "# set the plot title and axis labels\n",
    "plt.title('Cumulative Percentage Plot')\n",
    "plt.xlabel('Category')\n",
    "plt.ylabel('Cumulative Percentage')\n",
    "yticks = np.arange(90, 102,2)\n",
    "ylabels = [f\"{y:.0f}%\" for y in yticks]\n",
    "plt.yticks(yticks)\n",
    "# show the plot\n",
    "plt.show()"
   ]
  }
 ],
 "metadata": {
  "kernelspec": {
   "display_name": "Python 3",
   "language": "python",
   "name": "python3"
  },
  "language_info": {
   "codemirror_mode": {
    "name": "ipython",
    "version": 3
   },
   "file_extension": ".py",
   "mimetype": "text/x-python",
   "name": "python",
   "nbconvert_exporter": "python",
   "pygments_lexer": "ipython3",
   "version": "3.11.3"
  },
  "orig_nbformat": 4
 },
 "nbformat": 4,
 "nbformat_minor": 2
}
