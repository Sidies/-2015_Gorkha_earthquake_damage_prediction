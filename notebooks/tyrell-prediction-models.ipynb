{
 "cells": [
  {
   "attachments": {},
   "cell_type": "markdown",
   "metadata": {},
   "source": [
    "# Prediction Models\n",
    "\n",
    "Später dann zum zusammenführen\n",
    "•\tVotingClassifier  \n",
    "•\tStackingClassifier   \n",
    "•\tBaggingClassifier \n",
    "•\tAdaBoostClassifier\n",
    "\n",
    "Lineare Modelle:  Marco  \n",
    "•   LinearRegression/Ridge  \n",
    "•\tLasso*    \n",
    "•\tElasticNet*   \n",
    "•\tOrthogonalMatchingPursuit*  \n",
    "\n",
    "Naive Bayes:  Patrick\n",
    "•\tBernoulliNB  \n",
    "•\tComplementNB  \n",
    "•\tGaussianNB  \n",
    "•\tMultinomialNB  \n",
    "\n",
    "Nearest Neighbors:  Marco  \n",
    "•\tKNeighborsClassifier  \n",
    "•\tRadiusNeighborsClassifier   \n",
    "\n",
    "Decision Trees:  Thomas  \n",
    "•\tDecisionTreeClassifier  \n",
    "•\tExtraTreeClassifier \n",
    "•   LGBMClassifier       \n",
    "•\tRandomForestClassifier \n",
    "\n",
    "Support Vector Machines:  Patrick  \n",
    "•\tLinearSVC  \n",
    "•\tLinearSVR  \n",
    "•\tNuSVC  \n",
    "•\tNuSVR  \n",
    "•\tOneClassSVM  \n",
    "•\tSVC  \n",
    "•\tSVR  \n",
    "\n",
    "Neural Networks:  Thomas  \n",
    "•\tMLPClassifier  \n",
    "•\tMLPRegressor  "
   ]
  }
 ],
 "metadata": {
  "language_info": {
   "name": "python"
  },
  "orig_nbformat": 4
 },
 "nbformat": 4,
 "nbformat_minor": 2
}
