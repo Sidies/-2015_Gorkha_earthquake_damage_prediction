{
 "cells": [
  {
   "attachments": {},
   "cell_type": "markdown",
   "metadata": {},
   "source": [
    "# Prediction Models\n",
    "\n",
    "Später dann zum zusammenführen  \n",
    "•\tVotingClassifier  \n",
    "•\tStackingClassifier   \n",
    "•\tBaggingClassifier  \n",
    "•\tAdaBoostClassifier\n",
    "\n",
    "Lineare Modelle:  Marco  \n",
    "•   LinearRegression/Ridge  \n",
    "•\tLasso*    \n",
    "•\tElasticNet*   \n",
    "•\tOrthogonalMatchingPursuit*  \n",
    "\n",
    "Naive Bayes:  Patrick  \n",
    "•\tBernoulliNB  \n",
    "•\tComplementNB  \n",
    "•\tGaussianNB  \n",
    "•\tMultinomialNB  \n",
    "\n",
    "Nearest Neighbors:  Marco  \n",
    "•\tKNeighborsClassifier  \n",
    "•\tRadiusNeighborsClassifier   \n",
    "\n",
    "Decision Trees:  Thomas  \n",
    "•\tDecisionTreeClassifier  \n",
    "•\tExtraTreeClassifier  \n",
    "•   LGBMClassifier       \n",
    "•\tRandomForestClassifier  \n",
    "\n",
    "Support Vector Machines:  Patrick  \n",
    "•\tLinearSVC  \n",
    "•\tLinearSVR  \n",
    "•\tNuSVC  \n",
    "•\tNuSVR  \n",
    "•\tOneClassSVM  \n",
    "•\tSVC  \n",
    "•\tSVR  \n",
    "\n",
    "Neural Networks:  Thomas  \n",
    "•\tMLPClassifier  \n",
    "•\tMLPRegressor  "
   ]
  },
  {
   "cell_type": "code",
   "execution_count": 30,
   "metadata": {},
   "outputs": [],
   "source": [
    "import numpy as np\n",
    "import pipeline as pipe\n",
    "\n",
    "from src.pipelines.build_pipelines import CustomPipeline, get_best_steps\n",
    "from src.features import build_features\n",
    "from src.features.build_features import *\n",
    "from src.data import configuration as config"
   ]
  },
  {
   "attachments": {},
   "cell_type": "markdown",
   "metadata": {},
   "source": [
    "## Baseline\n",
    "For our baseline we use a dummy classifier"
   ]
  },
  {
   "cell_type": "code",
   "execution_count": 31,
   "metadata": {},
   "outputs": [
    {
     "name": "stdout",
     "output_type": "stream",
     "text": [
      "loading data\n",
      "preparing data\n",
      "running pipeline\n",
      "evaluating pipeline\n",
      "    fit_time: 0.08106112480163574\n",
      "    score_time: 0.019800806045532228\n",
      "    test_accuracy: 0.5240650475901691\n",
      "    test_f1-score: 0.22924001725660642\n",
      "    test_mcc: 0.0\n",
      "storing model and prediction\n"
     ]
    }
   ],
   "source": [
    "from sklearn.dummy import DummyClassifier\n",
    "\n",
    "# create a dummy classifier that predicts the most frequent class\n",
    "estimator = DummyClassifier(strategy='constant', constant=1)\n",
    "baseline_pipe = CustomPipeline(get_best_steps(customEstimator=estimator), skip_feature_evaluation=True)\n",
    "baseline_pipe.run()"
   ]
  },
  {
   "attachments": {},
   "cell_type": "markdown",
   "metadata": {},
   "source": [
    "## Linear Models\n",
    "Linear regression is used to predict a continuous variable. In our case we have a categorical variable with the values 1, 2 or 3. Therefore linear regression is not suitable.\n",
    "\n",
    "Logistic Regression is a Machine Learning classification algorithm that is used to predict the probability of a categorical dependent variable. In the following we try out this model"
   ]
  },
  {
   "cell_type": "code",
   "execution_count": 32,
   "metadata": {},
   "outputs": [
    {
     "name": "stdout",
     "output_type": "stream",
     "text": [
      "loading data\n",
      "preparing data\n",
      "running pipeline\n",
      "evaluating pipeline\n",
      "    fit_time: 0.8765987873077392\n",
      "    score_time: 0.024641036987304688\n",
      "    test_accuracy: 0.5395445695991647\n",
      "    test_f1-score: 0.34493203720478044\n",
      "    test_mcc: 0.0786119082964518\n",
      "storing model and prediction\n"
     ]
    }
   ],
   "source": [
    "from sklearn.linear_model import LogisticRegression\n",
    "\n",
    "# create an instance of the model\n",
    "estimator = LogisticRegression(multi_class='auto')\n",
    "\n",
    "testpip = CustomPipeline(get_best_steps(customEstimator=estimator))\n",
    "testpip.run()"
   ]
  },
  {
   "attachments": {},
   "cell_type": "markdown",
   "metadata": {},
   "source": [
    "An accuracy of 0.539 and an F1-score of 0.345 indicate that the model is not able to make accurate predictions, and an MCC of 0.078 suggests that the model's performance is only slightly better than random guessing."
   ]
  },
  {
   "cell_type": "code",
   "execution_count": 33,
   "metadata": {},
   "outputs": [
    {
     "name": "stdout",
     "output_type": "stream",
     "text": [
      "loading data\n",
      "preparing data\n",
      "running pipeline\n",
      "evaluating pipeline\n",
      "    fit_time: 0.5401473999023437\n",
      "    score_time: 0.008696603775024413\n",
      "    test_accuracy: 0.5445102481352101\n",
      "    test_f1-score: 0.34635715199848016\n",
      "    test_mcc: 0.08864539493241383\n",
      "storing model and prediction\n"
     ]
    }
   ],
   "source": [
    "# try out with only the numerical values\n",
    "estimator = LogisticRegression(multi_class='auto')\n",
    "\n",
    "feature_remover = RemoveFeatureTransformer(config.categorical_columns)\n",
    "\n",
    "testpip = CustomPipeline([\n",
    "    ('feature_remover', feature_remover),\n",
    "    ('estimator', estimator)\n",
    "])\n",
    "testpip.run()"
   ]
  },
  {
   "attachments": {},
   "cell_type": "markdown",
   "metadata": {},
   "source": [
    "Dropping the categorical columns improved the score only very slightly. We conclude that using a linear model is not suitable for our data task."
   ]
  },
  {
   "attachments": {},
   "cell_type": "markdown",
   "metadata": {},
   "source": [
    "## Nearest Neighboor"
   ]
  },
  {
   "cell_type": "code",
   "execution_count": 39,
   "metadata": {},
   "outputs": [
    {
     "name": "stdout",
     "output_type": "stream",
     "text": [
      "loading data\n",
      "preparing data\n",
      "running pipeline\n",
      "evaluating pipeline\n",
      "loading data\n",
      "preparing data\n",
      "running pipeline\n",
      "evaluating pipeline\n",
      "loading data\n",
      "preparing data\n",
      "running pipeline\n",
      "evaluating pipeline\n",
      "loading data\n",
      "preparing data\n",
      "running pipeline\n",
      "evaluating pipeline\n",
      "loading data\n",
      "preparing data\n",
      "running pipeline\n",
      "evaluating pipeline\n",
      "loading data\n",
      "preparing data\n",
      "running pipeline\n",
      "evaluating pipeline\n",
      "loading data\n",
      "preparing data\n",
      "running pipeline\n",
      "evaluating pipeline\n",
      "loading data\n",
      "preparing data\n",
      "running pipeline\n",
      "evaluating pipeline\n",
      "The best score was achieved with k of 5:\n",
      "    fit_time: 0.16252760887145995\n",
      "    score_time: 1.1579453468322753\n",
      "    test_accuracy: 0.6698922589734975\n",
      "    test_f1-score: 0.5677577641385602\n",
      "    test_mcc: 0.3612988871356594\n"
     ]
    }
   ],
   "source": [
    "from sklearn.neighbors import KNeighborsClassifier\n",
    "\n",
    "# trains and predicts on the transformed data\n",
    "\n",
    "bestScore = {}\n",
    "bestK = 0\n",
    "for k in range(2,10):    \n",
    "    estimator = KNeighborsClassifier(n_neighbors=k)\n",
    "    testpip = CustomPipeline(\n",
    "        get_best_steps(customEstimator=estimator),\n",
    "        skip_evaluation=False,\n",
    "        print_evaluation=False,\n",
    "        skip_storing_prediction=True)\n",
    "    testpip.run()\n",
    "    \n",
    "    if len(bestScore) <= 0:\n",
    "        bestScore = testpip.evaluation_scoring\n",
    "        bestK = k\n",
    "        \n",
    "    elif bestScore['test_mcc'].mean() < testpip.evaluation_scoring['test_mcc'].mean():\n",
    "        bestScore = testpip.evaluation_scoring\n",
    "        bestK = k\n",
    "\n",
    "print(f'The best score was achieved with k of {bestK}:')\n",
    "for score in bestScore:\n",
    "    print('    ' + score + ':', bestScore[score].mean())"
   ]
  }
 ],
 "metadata": {
  "kernelspec": {
   "display_name": "Python 3",
   "language": "python",
   "name": "python3"
  },
  "language_info": {
   "codemirror_mode": {
    "name": "ipython",
    "version": 3
   },
   "file_extension": ".py",
   "mimetype": "text/x-python",
   "name": "python",
   "nbconvert_exporter": "python",
   "pygments_lexer": "ipython3",
   "version": "3.11.3"
  },
  "orig_nbformat": 4
 },
 "nbformat": 4,
 "nbformat_minor": 2
}
