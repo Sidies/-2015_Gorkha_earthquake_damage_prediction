{
 "cells": [
  {
   "cell_type": "code",
   "execution_count": 2,
   "metadata": {},
   "outputs": [],
   "source": [
    "import numpy as np\n",
    "import pipeline as pipe\n",
    "\n",
    "from src.pipelines.build_pipelines import CustomPipeline, get_best_steps\n",
    "from src.features import build_features\n",
    "from src.features.build_features import *\n",
    "from src.data import configuration as config\n",
    "from sklearn.ensemble import BaggingClassifier\n",
    "from sklearn.neighbors import KNeighborsClassifier\n",
    "from sklearn.ensemble import AdaBoostClassifier"
   ]
  },
  {
   "cell_type": "markdown",
   "metadata": {},
   "source": [
    "# Prediction Models\n",
    "\n",
    "Später dann zum zusammenführen  \n",
    "•\tVotingClassifier  \n",
    "•\tStackingClassifier   \n",
    "•\tBaggingClassifier  \n",
    "•\tAdaBoostClassifier\n",
    "\n",
    "Lineare Modelle:  Marco  \n",
    "•   LinearRegression/Ridge  \n",
    "•\tLasso*    \n",
    "•\tElasticNet*   \n",
    "•\tOrthogonalMatchingPursuit*  \n",
    "\n",
    "Naive Bayes:  Patrick  \n",
    "•\tBernoulliNB  \n",
    "•\tComplementNB  \n",
    "•\tGaussianNB  \n",
    "•\tMultinomialNB  \n",
    "\n",
    "Nearest Neighbors:  Marco  \n",
    "•\tKNeighborsClassifier  \n",
    "•\tRadiusNeighborsClassifier   \n",
    "\n",
    "Decision Trees:  Thomas  \n",
    "•\tDecisionTreeClassifier  \n",
    "•\tExtraTreeClassifier  \n",
    "•   LGBMClassifier       \n",
    "•\tRandomForestClassifier  \n",
    "\n",
    "Support Vector Machines:  Patrick  \n",
    "•\tLinearSVC  \n",
    "•\tLinearSVR  \n",
    "•\tNuSVC  \n",
    "•\tNuSVR  \n",
    "•\tOneClassSVM  \n",
    "•\tSVC  \n",
    "•\tSVR  \n",
    "\n",
    "Neural Networks:  Thomas  \n",
    "•\tMLPClassifier  \n",
    "•\tMLPRegressor  "
   ]
  },
  {
   "cell_type": "markdown",
   "metadata": {},
   "source": [
    "## Baseline\n",
    "For our baseline we use a dummy classifier"
   ]
  },
  {
   "cell_type": "code",
   "execution_count": 10,
   "metadata": {},
   "outputs": [
    {
     "name": "stdout",
     "output_type": "stream",
     "text": [
      "loading data\n",
      "preparing data\n",
      "running pipeline\n",
      "evaluating pipeline\n",
      "    fit_time: 2.978378915786743\n",
      "    score_time: 0.2813164234161377\n",
      "    test_accuracy: 0.5253234821387688\n",
      "    test_f1-score: 0.22960090661128757\n",
      "    test_mcc: 0.0\n",
      "storing model and prediction\n"
     ]
    }
   ],
   "source": [
    "from sklearn.dummy import DummyClassifier\n",
    "\n",
    "# create a dummy classifier that predicts the most frequent class\n",
    "estimator = DummyClassifier(strategy='most_frequent')\n",
    "baseline_pipe = CustomPipeline(get_best_steps(customEstimator=estimator), skip_feature_evaluation=True)\n",
    "baseline_pipe.run()"
   ]
  },
  {
   "cell_type": "markdown",
   "metadata": {},
   "source": [
    "The dummy classifier scores an accuracy score of 0.525, an f1-score of 0.229 and an mcc score of 0"
   ]
  },
  {
   "cell_type": "markdown",
   "metadata": {},
   "source": [
    "## Linear Models\n",
    "Linear regression is used to predict a continuous variable. In our case we have a categorical variable with the values 1, 2 or 3. Therefore linear regression is not suitable.\n",
    "\n",
    "Logistic Regression is a Machine Learning classification algorithm that is used to predict the probability of a categorical dependent variable. In the following we try out this model"
   ]
  },
  {
   "cell_type": "code",
   "execution_count": 17,
   "metadata": {},
   "outputs": [
    {
     "name": "stdout",
     "output_type": "stream",
     "text": [
      "loading data\n",
      "preparing data\n",
      "running pipeline\n",
      "evaluating pipeline\n",
      "    fit_time: 4.572189617156982\n",
      "    score_time: 0.30075798034667967\n",
      "    test_accuracy: 0.6142060896201024\n",
      "    test_f1-score: 0.4446026802480995\n",
      "    test_mcc: 0.23982440663111518\n",
      "storing model and prediction\n"
     ]
    }
   ],
   "source": [
    "from sklearn.linear_model import LogisticRegression\n",
    "\n",
    "# create an instance of the model\n",
    "estimator = LogisticRegression(multi_class='auto')\n",
    "\n",
    "testpip = CustomPipeline(get_best_steps(customEstimator=estimator))\n",
    "testpip.run()"
   ]
  },
  {
   "cell_type": "markdown",
   "metadata": {},
   "source": [
    "An accuracy of 0.539 and an F1-score of 0.345 indicate that the model is not able to make accurate predictions, and an MCC of 0.078 suggests that the model's performance is only slightly better than random guessing."
   ]
  },
  {
   "cell_type": "code",
   "execution_count": 18,
   "metadata": {},
   "outputs": [
    {
     "name": "stdout",
     "output_type": "stream",
     "text": [
      "loading data\n",
      "preparing data\n",
      "running pipeline\n",
      "evaluating pipeline\n",
      "    fit_time: 2.0311621189117433\n",
      "    score_time: 0.03686342239379883\n",
      "    test_accuracy: 0.5450873174440053\n",
      "    test_f1-score: 0.34585481193609197\n",
      "    test_mcc: 0.08855250469203477\n",
      "storing model and prediction\n"
     ]
    }
   ],
   "source": [
    "# try out with only the numerical values\n",
    "estimator = LogisticRegression(multi_class='auto')\n",
    "\n",
    "feature_remover = RemoveFeatureTransformer(config.categorical_columns)\n",
    "\n",
    "testpip = CustomPipeline([\n",
    "    ('feature_remover', feature_remover),\n",
    "    ('estimator', estimator)\n",
    "])\n",
    "testpip.run()"
   ]
  },
  {
   "cell_type": "markdown",
   "metadata": {},
   "source": [
    "Dropping the categorical columns improved the score only very slightly. We conclude that using a linear model is not suitable for our data task."
   ]
  },
  {
   "cell_type": "markdown",
   "metadata": {},
   "source": [
    "## Nearest Neighboor"
   ]
  },
  {
   "cell_type": "markdown",
   "metadata": {},
   "source": [
    "### k-Nearest Neighboor\n",
    "k-Nearest neighbor is a type of machine learning algorithm used for classification tasks. In the case of classification, the algorithm works by comparing an input sample to the training samples and finding the k-nearest neighbors based on a distance metric. The algorithm then classifies the input sample based on the most common class among its k-nearest neighbors. Nearest neighbor is a non-parametric algorithm, meaning it does not make any assumptions about the underlying distribution of the data. The number of neighbors k is a hyperparameter that can be tuned to optimize the algorithm's performance on a given dataset.\n",
    "In the following we try out the algorithm with different k's to find out the best k for our task."
   ]
  },
  {
   "cell_type": "markdown",
   "metadata": {},
   "source": [
    "Knn requires the data to be fully numerical to calculate a distance metric. First we check whether this is fullfilled with our current transformations in the pipeline."
   ]
  },
  {
   "cell_type": "code",
   "execution_count": 19,
   "metadata": {},
   "outputs": [
    {
     "name": "stdout",
     "output_type": "stream",
     "text": [
      "count_floors_pre_eq_0                       int64\n",
      "count_floors_pre_eq_1                       int64\n",
      "area_percentage_0                           int64\n",
      "area_percentage_1                           int64\n",
      "height_percentage_0                         int64\n",
      "height_percentage_1                         int64\n",
      "count_families_0                            int64\n",
      "geo_level_1_id_0                            int64\n",
      "geo_level_1_id_1                            int64\n",
      "geo_level_1_id_2                            int64\n",
      "geo_level_1_id_3                            int64\n",
      "geo_level_2_id_0                            int64\n",
      "geo_level_2_id_1                            int64\n",
      "geo_level_2_id_2                            int64\n",
      "geo_level_2_id_3                            int64\n",
      "geo_level_2_id_4                            int64\n",
      "geo_level_2_id_5                            int64\n",
      "geo_level_2_id_6                            int64\n",
      "geo_level_2_id_7                            int64\n",
      "geo_level_2_id_8                            int64\n",
      "geo_level_3_id_0                            int64\n",
      "geo_level_3_id_1                            int64\n",
      "geo_level_3_id_2                            int64\n",
      "geo_level_3_id_3                            int64\n",
      "geo_level_3_id_4                            int64\n",
      "geo_level_3_id_5                            int64\n",
      "geo_level_3_id_6                            int64\n",
      "geo_level_3_id_7                            int64\n",
      "geo_level_3_id_8                            int64\n",
      "geo_level_3_id_9                            int64\n",
      "geo_level_3_id_10                           int64\n",
      "geo_level_3_id_11                           int64\n",
      "land_surface_condition_0                    int64\n",
      "foundation_type_0                           int64\n",
      "roof_type_0                                 int64\n",
      "roof_type_1                                 int64\n",
      "ground_floor_type_0                         int64\n",
      "other_floor_type_0                          int64\n",
      "other_floor_type_1                          int64\n",
      "position_0                                  int64\n",
      "position_1                                  int64\n",
      "has_superstructure_adobe_mud_0              int64\n",
      "has_superstructure_adobe_mud_1              int64\n",
      "has_superstructure_mud_mortar_stone_0       int64\n",
      "has_superstructure_mud_mortar_stone_1       int64\n",
      "has_superstructure_cement_mortar_stone_0    int64\n",
      "has_superstructure_cement_mortar_stone_1    int64\n",
      "has_superstructure_cement_mortar_brick_0    int64\n",
      "has_superstructure_cement_mortar_brick_1    int64\n",
      "has_superstructure_timber_0                 int64\n",
      "has_superstructure_timber_1                 int64\n",
      "has_superstructure_bamboo_0                 int64\n",
      "has_superstructure_bamboo_1                 int64\n",
      "has_secondary_use_0                         int64\n",
      "has_secondary_use_1                         int64\n",
      "has_secondary_use_2                         int64\n",
      "has_secondary_use_3                         int64\n",
      "dtype: object\n"
     ]
    }
   ],
   "source": [
    "# check whether all columns are numerical\n",
    "steps = get_best_steps()\n",
    "steps.pop()\n",
    "\n",
    "testpip = CustomPipeline(steps)\n",
    "testpip.load_and_prep_data()\n",
    "transformeddf = testpip.pipeline.fit_transform(testpip.X_train, testpip.y_train)\n",
    "\n",
    "print(transformeddf.dtypes)"
   ]
  },
  {
   "cell_type": "markdown",
   "metadata": {},
   "source": [
    "Looking at the data above. Every feature is encoded numerically. In the next step we try out different k's for our algorithm."
   ]
  },
  {
   "cell_type": "code",
   "execution_count": 20,
   "metadata": {},
   "outputs": [
    {
     "name": "stdout",
     "output_type": "stream",
     "text": [
      "loading data\n",
      "preparing data\n",
      "running pipeline\n",
      "evaluating pipeline\n",
      "loading data\n",
      "preparing data\n",
      "running pipeline\n",
      "evaluating pipeline\n",
      "loading data\n",
      "preparing data\n",
      "running pipeline\n",
      "evaluating pipeline\n",
      "loading data\n",
      "preparing data\n",
      "running pipeline\n",
      "evaluating pipeline\n",
      "loading data\n",
      "preparing data\n",
      "running pipeline\n",
      "evaluating pipeline\n",
      "loading data\n",
      "preparing data\n",
      "running pipeline\n",
      "evaluating pipeline\n",
      "loading data\n",
      "preparing data\n",
      "running pipeline\n",
      "evaluating pipeline\n",
      "loading data\n",
      "preparing data\n",
      "running pipeline\n",
      "evaluating pipeline\n",
      "The best score was achieved with k of 9:\n",
      "    fit_time: 3.3161951541900634\n",
      "    score_time: 80.56746263504029\n",
      "    test_accuracy: 0.7313508280387261\n",
      "    test_f1-score: 0.6294216513179536\n",
      "    test_mcc: 0.47901589939540495\n"
     ]
    }
   ],
   "source": [
    "bestScore = {}\n",
    "bestRadius = 0\n",
    "# create a loop to try out different k's\n",
    "for radius in range(2,10):  \n",
    "    \n",
    "    # put the k from the loop into the classifier instance  \n",
    "    estimator = KNeighborsClassifier(n_neighbors=radius)\n",
    "    \n",
    "    # create the pipeline and fit it with the classifier\n",
    "    testpip = CustomPipeline(\n",
    "        get_best_steps(customEstimator=estimator),\n",
    "        skip_evaluation=False,\n",
    "        print_evaluation=False,\n",
    "        skip_storing_prediction=True)\n",
    "    testpip.run()\n",
    "    \n",
    "    # check for the highest scoring\n",
    "    if len(bestScore) <= 0:\n",
    "        bestScore = testpip.evaluation_scoring\n",
    "        bestRadius = radius\n",
    "        \n",
    "    elif bestScore['test_mcc'].mean() < testpip.evaluation_scoring['test_mcc'].mean():\n",
    "        bestScore = testpip.evaluation_scoring\n",
    "        bestRadius = radius\n",
    "\n",
    "# print highest scoring with the k\n",
    "print(f'The best score was achieved with k of {bestRadius}:')\n",
    "for score in bestScore:\n",
    "    print('    ' + score + ':', bestScore[score].mean())"
   ]
  },
  {
   "cell_type": "markdown",
   "metadata": {},
   "source": [
    "The best knn score that was achieved is with an k of 9 with an mcc score of 0.479, a test accuracy of 0.731 and an f1 score of 0.629. This score is rather high. In the following we would like to try out ensamble methods on this classifier.\n"
   ]
  },
  {
   "cell_type": "code",
   "execution_count": null,
   "metadata": {},
   "outputs": [
    {
     "name": "stdout",
     "output_type": "stream",
     "text": [
      "loading data\n",
      "preparing data\n",
      "running pipeline\n",
      "evaluating pipeline\n"
     ]
    }
   ],
   "source": [
    "# initialize bagging classifier\n",
    "base_clf = KNeighborsClassifier(n_neighbors=9)\n",
    "\n",
    "bag_clf = BaggingClassifier(\n",
    "    base_estimator=base_clf, # The base classifier\n",
    "    n_estimators=10, # Number of estimators\n",
    "    random_state=42 # For reproducibility\n",
    ")\n",
    "\n",
    "testpip = CustomPipeline(get_best_steps(customEstimator=bag_clf), skip_storing_prediction=True)\n",
    "testpip.run()"
   ]
  },
  {
   "cell_type": "markdown",
   "metadata": {},
   "source": [
    "### Nearest Centroid Classifier\n",
    "This algorithm is a simple classification algorithm that uses the mean of each class as the centroid. The algorithm assigns the class label of the closest centroid to the query point.\n",
    "The Nearest Centroid Classifier assumes that the data has a centroid-based structure, which may not be the case for all datasets. It is generally best suited for high-dimensional datasets with relatively few classes. Lets see how it performs on our data."
   ]
  },
  {
   "cell_type": "code",
   "execution_count": 9,
   "metadata": {},
   "outputs": [
    {
     "name": "stdout",
     "output_type": "stream",
     "text": [
      "loading data\n",
      "preparing data\n",
      "running pipeline\n",
      "evaluating pipeline\n",
      "    fit_time: 1.7741555213928222\n",
      "    score_time: 0.15553750991821289\n",
      "    test_accuracy: 0.4869426875796303\n",
      "    test_f1-score: 0.4010608075834483\n",
      "    test_mcc: 0.18115374119235145\n",
      "storing model and prediction\n"
     ]
    }
   ],
   "source": [
    "from sklearn.neighbors import NearestCentroid\n",
    "\n",
    "# create an instance of the model\n",
    "estimator = NearestCentroid()\n",
    "\n",
    "testpip = CustomPipeline(get_best_steps(customEstimator=estimator))\n",
    "testpip.run()"
   ]
  },
  {
   "cell_type": "markdown",
   "metadata": {},
   "source": [
    "An accuracy of 0.486 and an F1-score of 0.401 indicate that the model is not able to make accurate predictions, and an MCC of 0.181 suggests that the model's performance is rather poor. We conclude that the model is not suited for our data."
   ]
  },
  {
   "cell_type": "markdown",
   "metadata": {},
   "source": [
    "## Support Vector Machine"
   ]
  },
  {
   "cell_type": "markdown",
   "metadata": {},
   "source": [
    "If SVM is used for Classification, there are many ways to separate the two sets. Which separation is the optimal solution to the problem? The bigger the size of the margin, the better the generalization. SVM finds the best separation hyperplane with maximum margin to the classes. Support vectors have a direct influence on the position of the hyperplane. "
   ]
  },
  {
   "cell_type": "markdown",
   "metadata": {},
   "source": [
    "SVC supports both linear and non-linear decision boundaries. It projects the data into a higher-dimensional space where they may be linearly separable. SVC can capture more complex decision boundaries and is better suited for problems where the data is not linearly separable."
   ]
  },
  {
   "cell_type": "code",
   "execution_count": null,
   "metadata": {},
   "outputs": [],
   "source": [
    "from sklearn.svm import SVC\n",
    "\n",
    "testpip = CustomPipeline(get_best_steps(customEstimator=SVC(kernel='rbf')), force_cleaning=False)\n",
    "testpip.run()"
   ]
  },
  {
   "cell_type": "markdown",
   "metadata": {},
   "source": [
    "LinearSVC implements a linear support vector machine (SVM) for classification. It is used, when a simple linear decision boundary is sufficient."
   ]
  },
  {
   "cell_type": "code",
   "execution_count": null,
   "metadata": {},
   "outputs": [],
   "source": [
    "from sklearn.svm import LinearSVC\n",
    "\n",
    "testpip = CustomPipeline(get_best_steps(customEstimator=LinearSVC()), force_cleaning=False)\n",
    "testpip.run()"
   ]
  },
  {
   "cell_type": "markdown",
   "metadata": {},
   "source": [
    "The result is noticeably worse compared to SVC, which indicates the problem is not simply solvable linearly. "
   ]
  },
  {
   "cell_type": "markdown",
   "metadata": {},
   "source": [
    "## Naiver Bayes"
   ]
  },
  {
   "cell_type": "markdown",
   "metadata": {},
   "source": [
    "The Naive Bayes classifier is based on the Bayes theorem. It assumes that the features are independent of each other.The classifier calculates the probabilities for each class, given the values of the features, and selects the class with the highest probability as the prediction."
   ]
  },
  {
   "cell_type": "markdown",
   "metadata": {},
   "source": [
    "The MultinomialNB classifier is specifically designed for problems with discrete features and a multinomial distribution of the target variable. It is well suited for classification tasks where the features take on discrete values that are divided into more than two categories or expressions."
   ]
  },
  {
   "cell_type": "code",
   "execution_count": null,
   "metadata": {},
   "outputs": [],
   "source": [
    "from sklearn.naive_bayes import MultinomialNB\n",
    "\n",
    "testpip = CustomPipeline(get_best_steps(customEstimator=MultinomialNB()), force_cleaning=False)\n",
    "testpip.run()"
   ]
  },
  {
   "cell_type": "markdown",
   "metadata": {},
   "source": [
    "The quality of the prediction is better than the baseline."
   ]
  },
  {
   "cell_type": "markdown",
   "metadata": {},
   "source": [
    "## DecisionTreeClassifier"
   ]
  },
  {
   "cell_type": "markdown",
   "metadata": {},
   "source": [
    "Decision trees are structures used for predicting classes or values. Each node is a decision, while the branches are corresponding actions. The leafs are potential decision outcomes, in classification this would be the predicted class."
   ]
  },
  {
   "cell_type": "markdown",
   "metadata": {},
   "source": [
    "We use the decision tree classifier provided by sklearn."
   ]
  },
  {
   "cell_type": "code",
   "execution_count": 3,
   "metadata": {},
   "outputs": [
    {
     "name": "stdout",
     "output_type": "stream",
     "text": [
      "loading data\n",
      "preparing data\n",
      "running pipeline\n",
      "evaluating pipeline\n",
      "    fit_time: 3.0101038455963134\n",
      "    score_time: 0.2601029396057129\n",
      "    test_accuracy: 0.7044350413777166\n",
      "    test_f1-score: 0.6103750602443702\n",
      "    test_mcc: 0.43120728164076727\n"
     ]
    },
    {
     "data": {
      "image/png": "[encoded data removed]",
      "text/plain": [
       "<Figure size 640x480 with 2 Axes>"
      ]
     },
     "metadata": {},
     "output_type": "display_data"
    },
    {
     "name": "stdout",
     "output_type": "stream",
     "text": [
      "               feature  importance\n",
      "0     geo_level_1_id_0    0.108585\n",
      "1     geo_level_1_id_2    0.087603\n",
      "2     geo_level_2_id_7    0.030317\n",
      "3     geo_level_2_id_4    0.029153\n",
      "4    area_percentage_0    0.027510\n",
      "5  height_percentage_1    0.027499\n",
      "6           position_1    0.027009\n",
      "7           position_0    0.026023\n",
      "8  height_percentage_0    0.025746\n",
      "9     geo_level_1_id_1    0.025351\n",
      "                                     feature  importance\n",
      "47  has_superstructure_cement_mortar_stone_1    0.001945\n",
      "48  has_superstructure_cement_mortar_brick_1    0.001858\n",
      "49  has_superstructure_cement_mortar_stone_0    0.001371\n",
      "50                       has_secondary_use_0    0.000703\n",
      "51                     count_floors_pre_eq_1    0.000090\n",
      "52                          count_families_0    0.000000\n",
      "53                       ground_floor_type_0    0.000000\n",
      "54                         foundation_type_0    0.000000\n",
      "55                  land_surface_condition_0    0.000000\n",
      "56                     count_floors_pre_eq_0    0.000000\n"
     ]
    }
   ],
   "source": [
    "from sklearn.tree import DecisionTreeClassifier\n",
    "\n",
    "pipeline = CustomPipeline(\n",
    "    get_best_steps(\n",
    "        customEstimator=DecisionTreeClassifier()\n",
    "    ), \n",
    "    skip_error_evaluation=False,\n",
    "    skip_feature_evaluation=False, \n",
    "    skip_storing_prediction=True\n",
    ")\n",
    "pipeline.run()"
   ]
  },
  {
   "cell_type": "markdown",
   "metadata": {},
   "source": [
    "The prediction quality of this relatively simple model is quite high with a mcc of 0.43. What we observe is that the geo_level_id_1 features are the most important in classification for this model. This can be seen even better by creating a shallow decision tree."
   ]
  },
  {
   "cell_type": "code",
   "execution_count": 5,
   "metadata": {},
   "outputs": [
    {
     "name": "stdout",
     "output_type": "stream",
     "text": [
      "loading data\n",
      "preparing data\n",
      "running pipeline\n",
      "evaluating pipeline\n",
      "    fit_time: 2.5893248081207276\n",
      "    score_time: 0.2604225158691406\n",
      "    test_accuracy: 0.6231597384463626\n",
      "    test_f1-score: 0.39944670712117003\n",
      "    test_mcc: 0.2678627235909429\n"
     ]
    },
    {
     "data": {
      "text/plain": [
       "[Text(0.5, 0.8333333333333334, 'geo_level_1_id_1 <= 0.5\\ngini = 0.521\\nsamples = 54949\\nvalue = [1373, 28866, 24710]'),\n",
       " Text(0.25, 0.5, 'geo_level_1_id_0 <= 0.5\\ngini = 0.492\\nsamples = 27944\\nvalue = [1076, 17608, 9260]'),\n",
       " Text(0.125, 0.16666666666666666, 'gini = 0.498\\nsamples = 12608\\nvalue = [86, 7097, 5425]'),\n",
       " Text(0.375, 0.16666666666666666, 'gini = 0.464\\nsamples = 15336\\nvalue = [990, 10511, 3835]'),\n",
       " Text(0.75, 0.5, 'geo_level_1_id_3 <= 0.5\\ngini = 0.499\\nsamples = 27005\\nvalue = [297, 11258, 15450]'),\n",
       " Text(0.625, 0.16666666666666666, 'gini = 0.514\\nsamples = 14804\\nvalue = [283, 7944, 6577]'),\n",
       " Text(0.875, 0.16666666666666666, 'gini = 0.397\\nsamples = 12201\\nvalue = [14, 3314, 8873]')]"
      ]
     },
     "execution_count": 5,
     "metadata": {},
     "output_type": "execute_result"
    },
    {
     "data": {
      "image/png": "[encoded data removed]",
      "text/plain": [
       "<Figure size 640x480 with 1 Axes>"
      ]
     },
     "metadata": {},
     "output_type": "display_data"
    }
   ],
   "source": [
    "from sklearn.tree import DecisionTreeClassifier, plot_tree\n",
    "\n",
    "pipeline = CustomPipeline(\n",
    "    get_best_steps(\n",
    "        customEstimator=DecisionTreeClassifier(\n",
    "            max_depth=2\n",
    "        )\n",
    "    ), \n",
    "    skip_error_evaluation=True,\n",
    "    skip_feature_evaluation=True, \n",
    "    skip_storing_prediction=True\n",
    ")\n",
    "pipeline.run()\n",
    "\n",
    "clf = pipeline.pipeline.named_steps['estimator']\n",
    "\n",
    "plot_tree(\n",
    "    decision_tree=clf,\n",
    "    feature_names=clf.feature_names_in_\n",
    ")"
   ]
  },
  {
   "cell_type": "markdown",
   "metadata": {},
   "source": [
    "The splits only occur at geo_level_1 features, which again shows that they are the most important."
   ]
  },
  {
   "cell_type": "markdown",
   "metadata": {},
   "source": [
    "## RandomForestClassifier"
   ]
  },
  {
   "cell_type": "markdown",
   "metadata": {},
   "source": [
    "A random forest is an ensemble of decision trees. It applies a boosting approach, where multiple instances of the same model are trained on different subsets of the training data. The difference to classic decision tree bagging is that instead of all attributes, a random subset of attributes is looked at when searching the best attribute to split by."
   ]
  },
  {
   "cell_type": "code",
   "execution_count": 2,
   "metadata": {},
   "outputs": [
    {
     "name": "stdout",
     "output_type": "stream",
     "text": [
      "loading data\n",
      "preparing data\n",
      "running pipeline\n",
      "evaluating pipeline\n",
      "    fit_time: 13.512998247146607\n",
      "    score_time: 0.6869125366210938\n",
      "    test_accuracy: 0.7197947289667035\n",
      "    test_f1-score: 0.6206372467421943\n",
      "    test_mcc: 0.4569712749923359\n"
     ]
    },
    {
     "data": {
      "image/png": "[encoded data removed]",
      "text/plain": [
       "<Figure size 640x480 with 2 Axes>"
      ]
     },
     "metadata": {},
     "output_type": "display_data"
    },
    {
     "name": "stdout",
     "output_type": "stream",
     "text": [
      "            feature  importance\n",
      "0  geo_level_1_id_2    0.049355\n",
      "1  geo_level_1_id_3    0.038230\n",
      "2  geo_level_1_id_1    0.036620\n",
      "3  geo_level_1_id_0    0.033062\n",
      "4        position_0    0.027983\n",
      "5        position_1    0.027406\n",
      "6  geo_level_2_id_7    0.027286\n",
      "7  geo_level_2_id_6    0.026075\n",
      "8  geo_level_2_id_4    0.025815\n",
      "9       roof_type_1    0.025790\n",
      "                                     feature  importance\n",
      "47  has_superstructure_cement_mortar_stone_1    0.002056\n",
      "48  has_superstructure_cement_mortar_brick_1    0.001760\n",
      "49  has_superstructure_cement_mortar_brick_0    0.001743\n",
      "50                       has_secondary_use_0    0.000103\n",
      "51                     count_floors_pre_eq_0    0.000073\n",
      "52                     count_floors_pre_eq_1    0.000071\n",
      "53                         foundation_type_0    0.000000\n",
      "54                  land_surface_condition_0    0.000000\n",
      "55                          count_families_0    0.000000\n",
      "56                       ground_floor_type_0    0.000000\n"
     ]
    }
   ],
   "source": [
    "from sklearn.ensemble import RandomForestClassifier\n",
    "\n",
    "pipeline = CustomPipeline(\n",
    "    get_best_steps(\n",
    "        customEstimator=RandomForestClassifier()\n",
    "    ), \n",
    "    skip_error_evaluation=False,\n",
    "    skip_feature_evaluation=False,\n",
    "    skip_storing_prediction=True\n",
    ")\n",
    "pipeline.run()"
   ]
  },
  {
   "cell_type": "markdown",
   "metadata": {},
   "source": [
    "As expected, the random forest classifier performs better than a single decision tree with an mcc of 0.45. Again geo_level_1 features are the most important, but also the position feature has a high importance."
   ]
  },
  {
   "cell_type": "markdown",
   "metadata": {},
   "source": [
    "## LightGBM"
   ]
  },
  {
   "cell_type": "markdown",
   "metadata": {},
   "source": [
    "The light gradient boosting machine (LigthGBM) is another ensemble of decision trees. It applies a boosting approach, where the models are sequentially trained. Misclassified samples get a higher weight, so that the models focus on samples that are hard to classify. Furthermore, the models themselves are then weighted by their performance."
   ]
  },
  {
   "cell_type": "code",
   "execution_count": 3,
   "metadata": {},
   "outputs": [
    {
     "name": "stdout",
     "output_type": "stream",
     "text": [
      "loading data\n",
      "preparing data\n",
      "running pipeline\n",
      "evaluating pipeline\n",
      "    fit_time: 4.738079643249511\n",
      "    score_time: 0.43484063148498536\n",
      "    test_accuracy: 0.7316966515692629\n",
      "    test_f1-score: 0.616476073422465\n",
      "    test_mcc: 0.47713485021831065\n"
     ]
    },
    {
     "data": {
      "image/png": "[encoded data removed]",
      "text/plain": [
       "<Figure size 640x480 with 2 Axes>"
      ]
     },
     "metadata": {},
     "output_type": "display_data"
    },
    {
     "name": "stdout",
     "output_type": "stream",
     "text": [
      "            feature  importance\n",
      "0  geo_level_1_id_1         398\n",
      "1  geo_level_1_id_2         371\n",
      "2  geo_level_2_id_8         360\n",
      "3  geo_level_2_id_7         345\n",
      "4  geo_level_2_id_1         339\n",
      "5  geo_level_2_id_2         328\n",
      "6  geo_level_2_id_5         322\n",
      "7  geo_level_2_id_6         315\n",
      "8  geo_level_2_id_3         311\n",
      "9  geo_level_2_id_0         305\n",
      "                           feature  importance\n",
      "47                      position_1          17\n",
      "48               area_percentage_1          17\n",
      "49  has_superstructure_adobe_mud_1          12\n",
      "50             has_secondary_use_0           0\n",
      "51               foundation_type_0           0\n",
      "52                count_families_0           0\n",
      "53           count_floors_pre_eq_1           0\n",
      "54        land_surface_condition_0           0\n",
      "55             ground_floor_type_0           0\n",
      "56           count_floors_pre_eq_0           0\n"
     ]
    }
   ],
   "source": [
    "from lightgbm import LGBMClassifier\n",
    "\n",
    "pipeline = CustomPipeline(\n",
    "    get_best_steps(\n",
    "        customEstimator=LGBMClassifier()\n",
    "    ), \n",
    "    skip_error_evaluation=False,\n",
    "    skip_feature_evaluation=False, \n",
    "    skip_storing_prediction=True\n",
    ")\n",
    "pipeline.run()"
   ]
  },
  {
   "cell_type": "markdown",
   "metadata": {},
   "source": [
    "LGBM performes better than random forest with an mcc of 0.47. It is one of the strongest models we examined in this notebook. What is also interesting is that while geo_level_1 features are still the most important, there seems to be a higher importance assigned to geo_level_2 features. The finer granularity can be better employed by the lgbm."
   ]
  },
  {
   "cell_type": "markdown",
   "metadata": {},
   "source": [
    "## Multi-Layer Perceptron Classifier (Neural Network)"
   ]
  },
  {
   "cell_type": "markdown",
   "metadata": {},
   "source": [
    "A multilayer perceptron is a fully connected feed forward artificial neural network."
   ]
  },
  {
   "cell_type": "code",
   "execution_count": 4,
   "metadata": {},
   "outputs": [
    {
     "name": "stdout",
     "output_type": "stream",
     "text": [
      "loading data\n",
      "preparing data\n",
      "running pipeline\n",
      "evaluating pipeline\n",
      "    fit_time: 221.561194229126\n",
      "    score_time: 0.524695634841919\n",
      "    test_accuracy: 0.722178764089592\n",
      "    test_f1-score: 0.6207326619998875\n",
      "    test_mcc: 0.46426430296130705\n"
     ]
    },
    {
     "data": {
      "image/png": "[encoded data removed]",
      "text/plain": [
       "<Figure size 640x480 with 2 Axes>"
      ]
     },
     "metadata": {},
     "output_type": "display_data"
    },
    {
     "ename": "AttributeError",
     "evalue": "'MLPClassifier' object has no attribute 'feature_importances_'",
     "output_type": "error",
     "traceback": [
      "\u001b[0;31m---------------------------------------------------------------------------\u001b[0m",
      "\u001b[0;31mAttributeError\u001b[0m                            Traceback (most recent call last)",
      "Cell \u001b[0;32mIn[4], line 11\u001b[0m\n\u001b[1;32m      1\u001b[0m \u001b[38;5;28;01mfrom\u001b[39;00m \u001b[38;5;21;01msklearn\u001b[39;00m\u001b[38;5;21;01m.\u001b[39;00m\u001b[38;5;21;01mneural_network\u001b[39;00m \u001b[38;5;28;01mimport\u001b[39;00m MLPClassifier\n\u001b[1;32m      3\u001b[0m pipeline \u001b[38;5;241m=\u001b[39m CustomPipeline(\n\u001b[1;32m      4\u001b[0m     get_best_steps(\n\u001b[1;32m      5\u001b[0m         customEstimator\u001b[38;5;241m=\u001b[39mMLPClassifier()\n\u001b[0;32m   (...)\u001b[0m\n\u001b[1;32m      9\u001b[0m     skip_storing_prediction\u001b[38;5;241m=\u001b[39m\u001b[38;5;28;01mTrue\u001b[39;00m\n\u001b[1;32m     10\u001b[0m )\n\u001b[0;32m---> 11\u001b[0m \u001b[43mpipeline\u001b[49m\u001b[38;5;241;43m.\u001b[39;49m\u001b[43mrun\u001b[49m\u001b[43m(\u001b[49m\u001b[43m)\u001b[49m\n",
      "File \u001b[0;32m~/Code/Python/Data Science Lab Task 1/phase-1/src/pipelines/build_pipelines.py:120\u001b[0m, in \u001b[0;36mCustomPipeline.run\u001b[0;34m(self)\u001b[0m\n\u001b[1;32m    118\u001b[0m     \u001b[38;5;28;01mif\u001b[39;00m \u001b[38;5;28mself\u001b[39m\u001b[38;5;241m.\u001b[39mverbose \u001b[38;5;241m>\u001b[39m\u001b[38;5;241m=\u001b[39m \u001b[38;5;241m1\u001b[39m:\n\u001b[1;32m    119\u001b[0m         \u001b[38;5;28mprint\u001b[39m(\u001b[38;5;124m'\u001b[39m\u001b[38;5;124mevaluating pipeline\u001b[39m\u001b[38;5;124m'\u001b[39m)\n\u001b[0;32m--> 120\u001b[0m     \u001b[38;5;28;43mself\u001b[39;49m\u001b[38;5;241;43m.\u001b[39;49m\u001b[43mevaluate\u001b[49m\u001b[43m(\u001b[49m\u001b[43m)\u001b[49m\n\u001b[1;32m    122\u001b[0m \u001b[38;5;28;01mif\u001b[39;00m \u001b[38;5;129;01mnot\u001b[39;00m \u001b[38;5;28mself\u001b[39m\u001b[38;5;241m.\u001b[39mskip_storing_prediction:\n\u001b[1;32m    123\u001b[0m     \u001b[38;5;28;01mif\u001b[39;00m \u001b[38;5;28mself\u001b[39m\u001b[38;5;241m.\u001b[39mverbose \u001b[38;5;241m>\u001b[39m\u001b[38;5;241m=\u001b[39m \u001b[38;5;241m1\u001b[39m:\n",
      "File \u001b[0;32m~/Code/Python/Data Science Lab Task 1/phase-1/src/pipelines/build_pipelines.py:331\u001b[0m, in \u001b[0;36mCustomPipeline.evaluate\u001b[0;34m(self)\u001b[0m\n\u001b[1;32m    311\u001b[0m target_name \u001b[38;5;241m=\u001b[39m \u001b[38;5;28mself\u001b[39m\u001b[38;5;241m.\u001b[39my_train\u001b[38;5;241m.\u001b[39mname\n\u001b[1;32m    313\u001b[0m \u001b[38;5;66;03m# ---------- Feature Target Correlation ----------\u001b[39;00m\n\u001b[1;32m    314\u001b[0m \n\u001b[1;32m    315\u001b[0m \u001b[38;5;66;03m# # merge train set and target for easier analysis\u001b[39;00m\n\u001b[0;32m   (...)\u001b[0m\n\u001b[1;32m    329\u001b[0m \n\u001b[1;32m    330\u001b[0m \u001b[38;5;66;03m# get importance of features for estimator\u001b[39;00m\n\u001b[0;32m--> 331\u001b[0m feature_importances \u001b[38;5;241m=\u001b[39m \u001b[43mpipeline\u001b[49m\u001b[38;5;241;43m.\u001b[39;49m\u001b[43mnamed_steps\u001b[49m\u001b[43m[\u001b[49m\u001b[38;5;124;43m'\u001b[39;49m\u001b[38;5;124;43mestimator\u001b[39;49m\u001b[38;5;124;43m'\u001b[39;49m\u001b[43m]\u001b[49m\u001b[38;5;241;43m.\u001b[39;49m\u001b[43mfeature_importances_\u001b[49m\n\u001b[1;32m    333\u001b[0m \u001b[38;5;66;03m# merge importances with feature names\u001b[39;00m\n\u001b[1;32m    334\u001b[0m df \u001b[38;5;241m=\u001b[39m pd\u001b[38;5;241m.\u001b[39mDataFrame(\u001b[38;5;28mzip\u001b[39m(feature_names, feature_importances), columns\u001b[38;5;241m=\u001b[39m[\u001b[38;5;124m'\u001b[39m\u001b[38;5;124mfeature\u001b[39m\u001b[38;5;124m'\u001b[39m, \u001b[38;5;124m'\u001b[39m\u001b[38;5;124mimportance\u001b[39m\u001b[38;5;124m'\u001b[39m])\n",
      "\u001b[0;31mAttributeError\u001b[0m: 'MLPClassifier' object has no attribute 'feature_importances_'"
     ]
    }
   ],
   "source": [
    "from sklearn.neural_network import MLPClassifier\n",
    "\n",
    "pipeline = CustomPipeline(\n",
    "    get_best_steps(\n",
    "        customEstimator=MLPClassifier()\n",
    "    ), \n",
    "    skip_error_evaluation=False,\n",
    "    skip_feature_evaluation=False, \n",
    "    skip_storing_prediction=True\n",
    ")\n",
    "pipeline.run()"
   ]
  },
  {
   "cell_type": "markdown",
   "metadata": {},
   "source": [
    "The performance of the neural network is on a similar level to better models like random forest and lgbm with an mcc of 0.46, but its training time is extremely long compared to the other models. It is preferable to use the faster model if they have a similar performance."
   ]
  }
 ],
 "metadata": {
  "kernelspec": {
   "display_name": "Python 3 (ipykernel)",
   "language": "python",
   "name": "python3"
  },
  "language_info": {
   "codemirror_mode": {
    "name": "ipython",
    "version": 3
   },
   "file_extension": ".py",
   "mimetype": "text/x-python",
   "name": "python",
   "nbconvert_exporter": "python",
   "pygments_lexer": "ipython3",
   "version": "3.10.6"
  }
 },
 "nbformat": 4,
 "nbformat_minor": 2
}
