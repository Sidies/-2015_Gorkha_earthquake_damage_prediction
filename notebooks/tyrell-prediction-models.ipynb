{
 "cells": [
  {
   "attachments": {},
   "cell_type": "markdown",
   "metadata": {},
   "source": [
    "# Prediction Models\n",
    "\n",
    "Später dann zum zusammenführen\n",
    "•\tVotingClassifier  \n",
    "•\tStackingClassifier   \n",
    "•\tBaggingClassifier \n",
    "•\tAdaBoostClassifier\n",
    "\n",
    "Lineare Modelle:  Marco  \n",
    "•   LinearRegression/Ridge  \n",
    "•\tLasso*    \n",
    "•\tElasticNet*   \n",
    "•\tOrthogonalMatchingPursuit*  \n",
    "\n",
    "Naive Bayes:  Patrick\n",
    "•\tBernoulliNB  \n",
    "•\tComplementNB  \n",
    "•\tGaussianNB  \n",
    "•\tMultinomialNB  \n",
    "\n",
    "Nearest Neighbors:  Marco  \n",
    "•\tKNeighborsClassifier  \n",
    "•\tRadiusNeighborsClassifier   \n",
    "\n",
    "Decision Trees:  Thomas  \n",
    "•\tDecisionTreeClassifier  \n",
    "•\tExtraTreeClassifier \n",
    "•   LGBMClassifier       \n",
    "•\tRandomForestClassifier \n",
    "\n",
    "Support Vector Machines:  Patrick  \n",
    "•\tLinearSVC  \n",
    "•\tLinearSVR  \n",
    "•\tNuSVC  \n",
    "•\tNuSVR  \n",
    "•\tOneClassSVM  \n",
    "•\tSVC  \n",
    "•\tSVR  \n",
    "\n",
    "Neural Networks:  Thomas  \n",
    "•\tMLPClassifier  \n",
    "•\tMLPRegressor  "
   ]
  },
  {
   "cell_type": "code",
   "execution_count": 1,
   "metadata": {},
   "outputs": [],
   "source": [
    "import numpy as np\n",
    "import pipeline as pipe\n",
    "\n",
    "from src.pipelines.build_pipelines import CustomPipeline, get_best_steps\n"
   ]
  },
  {
   "attachments": {},
   "cell_type": "markdown",
   "metadata": {},
   "source": [
    "## Baseline\n",
    "For our baseline we use a dummy classifier"
   ]
  },
  {
   "cell_type": "code",
   "execution_count": 4,
   "metadata": {},
   "outputs": [
    {
     "name": "stdout",
     "output_type": "stream",
     "text": [
      "loading data\n",
      "preparing data\n",
      "running pipeline\n",
      "evaluating pipeline\n",
      "    fit_time: 0.15726819038391113\n",
      "    score_time: 0.04517669677734375\n",
      "    test_accuracy: 0.5240650475901691\n",
      "    test_f1-score: 0.22924001725660642\n",
      "    test_mcc: 0.0\n",
      "storing model and prediction\n"
     ]
    }
   ],
   "source": [
    "from sklearn.dummy import DummyClassifier\n",
    "\n",
    "# create a dummy classifier that predicts the most frequent class\n",
    "estimator = DummyClassifier(strategy='most_frequent')\n",
    "baseline_pipe = CustomPipeline(get_best_steps(customEstimator=estimator), skip_feature_evaluation=True)\n",
    "baseline_pipe.run()"
   ]
  },
  {
   "attachments": {},
   "cell_type": "markdown",
   "metadata": {},
   "source": [
    "## Linear Models"
   ]
  },
  {
   "cell_type": "code",
   "execution_count": 2,
   "metadata": {},
   "outputs": [
    {
     "name": "stdout",
     "output_type": "stream",
     "text": [
      "loading data\n",
      "preparing data\n",
      "running pipeline\n",
      "evaluating pipeline\n",
      "    fit_time: 1.8103529453277587\n",
      "    score_time: 0.05329098701477051\n",
      "    test_accuracy: 0.539308070353749\n",
      "    test_f1-score: 0.3442569201090609\n",
      "    test_mcc: 0.0781201692973641\n",
      "storing model and prediction\n"
     ]
    }
   ],
   "source": [
    "from sklearn.linear_model import LogisticRegression\n",
    "\n",
    "testpip = CustomPipeline(get_best_steps(customEstimator=LogisticRegression()), force_cleaning=False)\n",
    "testpip.run()"
   ]
  }
 ],
 "metadata": {
  "kernelspec": {
   "display_name": "Python 3",
   "language": "python",
   "name": "python3"
  },
  "language_info": {
   "codemirror_mode": {
    "name": "ipython",
    "version": 3
   },
   "file_extension": ".py",
   "mimetype": "text/x-python",
   "name": "python",
   "nbconvert_exporter": "python",
   "pygments_lexer": "ipython3",
   "version": "3.11.3"
  },
  "orig_nbformat": 4
 },
 "nbformat": 4,
 "nbformat_minor": 2
}
