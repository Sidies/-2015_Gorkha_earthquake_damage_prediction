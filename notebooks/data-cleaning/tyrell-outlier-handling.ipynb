{
 "cells": [
  {
   "attachments": {},
   "cell_type": "markdown",
   "metadata": {},
   "source": [
    "# Handling Outliers\n",
    "In this notebook we try out different approaches for handling outliers"
   ]
  },
  {
   "cell_type": "code",
   "execution_count": 5,
   "metadata": {},
   "outputs": [],
   "source": [
    "# imports \n",
    "import pandas as pd\n",
    "from src.pipelines import build_pipeline\n",
    "from src.pipelines import pipeline_utils\n",
    "from src.pipelines import pipeline_cleaning\n",
    "from collections import Counter\n",
    "\n",
    "# disable warnings globally\n",
    "import warnings\n",
    "warnings.filterwarnings(\"ignore\")"
   ]
  },
  {
   "attachments": {},
   "cell_type": "markdown",
   "metadata": {},
   "source": [
    "First we take a look at the mcc score without any outlier handling:"
   ]
  },
  {
   "cell_type": "code",
   "execution_count": 4,
   "metadata": {},
   "outputs": [
    {
     "name": "stdout",
     "output_type": "stream",
     "text": [
      "loading data\n",
      "Class distribution before cleaning: Counter({2: 148259, 3: 87218, 1: 25124})\n",
      "Length overall: 260601\n",
      "preparing data\n",
      "running pipeline\n",
      "evaluating pipeline\n",
      "    fit_time: 8.715714120864869\n",
      "    score_time: 0.7221852302551269\n",
      "    test_accuracy: 0.7104385646964736\n",
      "    test_f1-score: 0.6376468513487623\n",
      "    test_mcc: 0.45373242728065505\n",
      "Class distribution after resampling: Counter({2: 148259, 3: 87218, 1: 25124})\n",
      "Length overall: 260601\n"
     ]
    }
   ],
   "source": [
    "# build and prepare pipeline\n",
    "pipe = build_pipeline.CustomPipeline(skip_storing_prediction=True, force_cleaning=True, skip_storing_cleaning=True, skip_evaluation=False)\n",
    "pipeline_utils.add_best_steps(pipe)\n",
    "pipeline_utils.apply_lgbm_classifier(pipe)\n",
    "\n",
    "# Lets look at the mcc score without outlier removal\n",
    "pipe.apply_outlier_handler(pipeline_cleaning.OutlierHandler()) # this is a dummy handler that doesn't change the outliers\n",
    "\n",
    "# Check the class distribution before outlier removal\n",
    "print('Class distribution before cleaning:', Counter(pipe.y_train['damage_grade']))\n",
    "print('Length overall:', len(pipe.y_train_raw['damage_grade']))\n",
    "\n",
    "# run the pipeline\n",
    "pipe.run()\n",
    "\n",
    "# Check the class distribution after outlier removal\n",
    "print('Class distribution after resampling:', Counter(pipe.y_train))\n",
    "print('Length overall:', len(pipe.y_train))\n",
    "# the length from both outputs should be the same\n"
   ]
  },
  {
   "attachments": {},
   "cell_type": "markdown",
   "metadata": {},
   "source": [
    "Next we try out different outlier removal options:"
   ]
  },
  {
   "cell_type": "code",
   "execution_count": null,
   "metadata": {},
   "outputs": [],
   "source": [
    "# build and prepare pipeline\n",
    "pipe = build_pipeline.CustomPipeline(skip_storing_prediction=True, force_cleaning=True, skip_storing_cleaning=True, skip_evaluation=False)\n",
    "pipeline_utils.add_best_steps(pipe)\n",
    "pipeline_utils.apply_lgbm_classifier(pipe)\n",
    "\n",
    "# Lets look at the mcc score without outlier removal\n",
    "pipe.apply_outlier_handler(pipeline_cleaning.OutlierHandler()) # this is a dummy handler that doesn't change the outliers\n",
    "\n",
    "# Check the class distribution before outlier removal\n",
    "print('Class distribution before cleaning:', Counter(pipe.y_train['damage_grade']))\n",
    "print('Length overall:', len(pipe.y_train_raw['damage_grade']))\n",
    "\n",
    "# run the pipeline\n",
    "pipe.run()\n",
    "\n",
    "# Check the class distribution after outlier removal\n",
    "print('Class distribution after resampling:', Counter(pipe.y_train))\n",
    "print('Length overall:', len(pipe.y_train))\n",
    "# the length from both outputs should be the same\n"
   ]
  }
 ],
 "metadata": {
  "kernelspec": {
   "display_name": "venv",
   "language": "python",
   "name": "python3"
  },
  "language_info": {
   "codemirror_mode": {
    "name": "ipython",
    "version": 3
   },
   "file_extension": ".py",
   "mimetype": "text/x-python",
   "name": "python",
   "nbconvert_exporter": "python",
   "pygments_lexer": "ipython3",
   "version": "3.11.3"
  },
  "orig_nbformat": 4
 },
 "nbformat": 4,
 "nbformat_minor": 2
}
