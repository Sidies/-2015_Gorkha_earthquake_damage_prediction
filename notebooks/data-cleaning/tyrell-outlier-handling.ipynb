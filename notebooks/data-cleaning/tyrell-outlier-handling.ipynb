{
 "cells": [
  {
   "attachments": {},
   "cell_type": "markdown",
   "metadata": {},
   "source": [
    "# Handling Outliers\n",
    "In this notebook we try out different approaches for handling outliers"
   ]
  },
  {
   "cell_type": "code",
   "execution_count": 1,
   "metadata": {
    "tags": [
     "Preparation"
    ]
   },
   "outputs": [],
   "source": [
    "# imports \n",
    "import pandas as pd\n",
    "import numpy as np\n",
    "from src.pipelines import build_pipeline\n",
    "from src.pipelines import pipeline_utils\n",
    "from src.pipelines import pipeline_cleaning\n",
    "from collections import Counter\n",
    "from sklearn.model_selection import GridSearchCV\n",
    "\n",
    "# disable warnings globally\n",
    "import warnings\n",
    "warnings.filterwarnings(\"ignore\")\n",
    "\n",
    "# define the test steps for this notebook\n",
    "def add_test_steps(custom_pipeline: build_pipeline.CustomPipeline):    \n",
    "    # additional feature selection by removing certain columns\n",
    "    pipeline_utils.add_remove_feature_transformer(custom_pipeline, ['age'])\n",
    "    \n",
    "    # discretize numerical features\n",
    "    pipeline_utils.add_kbinsdiscretizer(custom_pipeline, number_of_bins=2)\n",
    "\n",
    "    # add encoder and scaler\n",
    "    pipeline_utils.add_binary_encoder_and_minmaxscaler(custom_pipeline)\n",
    "\n",
    "    # add estimator\n",
    "    pipeline_utils.apply_lgbm_classifier(custom_pipeline)"
   ]
  },
  {
   "attachments": {},
   "cell_type": "markdown",
   "metadata": {},
   "source": [
    "First we take a look at the mcc score without any outlier handling:"
   ]
  },
  {
   "cell_type": "code",
   "execution_count": 2,
   "metadata": {},
   "outputs": [
    {
     "name": "stdout",
     "output_type": "stream",
     "text": [
      "loading data\n",
      "Class distribution before cleaning: Counter({2: 133433, 3: 78496, 1: 22611})\n",
      "Length overall: 260601\n",
      "preparing data\n",
      "running pipeline\n",
      "evaluating pipeline\n",
      "    validation_accuracy: 0.7106 [std=0.]\n",
      "    validation_f1-score: 0.6361 [std=0.]\n",
      "    validation_mcc: 0.4541 [std=0.]\n",
      "Class distribution after resampling: Counter({2: 133433, 3: 78496, 1: 22611})\n",
      "Length overall: 234540\n"
     ]
    }
   ],
   "source": [
    "\n",
    "# build and prepare pipeline\n",
    "pipe = build_pipeline.CustomPipeline(\n",
    "    skip_storing_prediction=True, \n",
    "    force_cleaning=True, \n",
    "    skip_storing_cleaning=True, \n",
    "    skip_evaluation=False, \n",
    "    use_validation_set=True,\n",
    "    use_cross_validation=False)\n",
    "add_test_steps(pipe)\n",
    "\n",
    "# Lets look at the mcc score without outlier removal\n",
    "# this is a dummy handler that doesn't change the outliers\n",
    "pipeline_utils.add_outlier_handling(\n",
    "        custom_pipeline=pipe,\n",
    "        outlier_handling_func=pipeline_cleaning.OutlierHandler().handle_outliers\n",
    "    )\n",
    "\n",
    "# Check the class distribution before outlier removal\n",
    "print('Class distribution before cleaning:', Counter(pipe.y_train['damage_grade']))\n",
    "print('Length overall:', len(pipe.y_train_raw['damage_grade']))\n",
    "\n",
    "# run the pipeline\n",
    "pipe.run()\n",
    "\n",
    "# Check the class distribution after outlier removal\n",
    "print('Class distribution after resampling:', Counter(pipe.y_train))\n",
    "print('Length overall:', len(pipe.y_train))\n",
    "# the length from both outputs should be the same\n"
   ]
  },
  {
   "attachments": {},
   "cell_type": "markdown",
   "metadata": {},
   "source": [
    "Next we try out different outlier removal options:"
   ]
  },
  {
   "cell_type": "code",
   "execution_count": 3,
   "metadata": {},
   "outputs": [
    {
     "name": "stdout",
     "output_type": "stream",
     "text": [
      "loading data\n",
      "Class distribution before cleaning: Counter({2: 133433, 3: 78496, 1: 22611})\n",
      "Length overall: 260601\n",
      "preparing data\n",
      "running pipeline\n",
      "evaluating pipeline\n",
      "    validation_accuracy: 0.7106 [std=0.]\n",
      "    validation_f1-score: 0.6361 [std=0.]\n",
      "    validation_mcc: 0.4541 [std=0.]\n",
      "Class distribution after resampling: Counter({2: 133433, 3: 78496, 1: 22611})\n",
      "Length overall: 234540\n"
     ]
    }
   ],
   "source": [
    "# build and prepare pipeline\n",
    "pipe = build_pipeline.CustomPipeline(\n",
    "    skip_storing_prediction=True, \n",
    "    force_cleaning=True, \n",
    "    skip_storing_cleaning=True, \n",
    "    skip_evaluation=False, \n",
    "    use_validation_set=True,\n",
    "    use_cross_validation=False)\n",
    "add_test_steps(pipe)\n",
    "\n",
    "outlier_remover = pipeline_cleaning.OutlierRemover(cat_threshold=0, zscore_threshold=999)\n",
    "pipeline_utils.add_outlier_handling(\n",
    "        custom_pipeline=pipe,\n",
    "        outlier_handling_func=outlier_remover.handle_outliers\n",
    "    )\n",
    "# Check the class distribution before outlier removal\n",
    "print('Class distribution before cleaning:', Counter(pipe.y_train['damage_grade']))\n",
    "print('Length overall:', len(pipe.y_train_raw['damage_grade']))\n",
    "\n",
    "# run the pipeline\n",
    "pipe.run()\n",
    "\n",
    "# Check the class distribution after outlier removal\n",
    "print('Class distribution after resampling:', Counter(pipe.y_train))\n",
    "print('Length overall:', len(pipe.y_train))\n",
    "# the length from both outputs should be the same\n"
   ]
  },
  {
   "attachments": {},
   "cell_type": "markdown",
   "metadata": {},
   "source": [
    "In the following we try out different values for the categorical data with `cat_threshold`"
   ]
  },
  {
   "cell_type": "code",
   "execution_count": 4,
   "metadata": {},
   "outputs": [
    {
     "name": "stdout",
     "output_type": "stream",
     "text": [
      "loading data\n",
      "Class distribution before cleaning: Counter({2: 133433, 3: 78496, 1: 22611})\n",
      "Length overall: 260601\n",
      "preparing data\n",
      "running pipeline\n",
      "evaluating pipeline\n",
      "    validation_accuracy: 0.681 [std=0.]\n",
      "    validation_f1-score: 0.5606 [std=0.]\n",
      "    validation_mcc: 0.39 [std=0.]\n",
      "Class distribution after resampling: Counter({2: 133433, 3: 78496, 1: 22611})\n",
      "Length overall: 234540\n"
     ]
    }
   ],
   "source": [
    "# build and prepare pipeline\n",
    "pipe = build_pipeline.CustomPipeline(\n",
    "    skip_storing_prediction=True, \n",
    "    force_cleaning=True, \n",
    "    skip_storing_cleaning=True, \n",
    "    skip_evaluation=False, \n",
    "    use_validation_set=True,\n",
    "    use_cross_validation=False)\n",
    "add_test_steps(pipe)\n",
    "\n",
    "outlier_remover = pipeline_cleaning.OutlierRemover(cat_threshold=0.05, zscore_threshold=999)\n",
    "pipeline_utils.add_outlier_handling(\n",
    "        custom_pipeline=pipe,\n",
    "        outlier_handling_func=outlier_remover.handle_outliers\n",
    "    )\n",
    "\n",
    "# Check the class distribution before outlier removal\n",
    "print('Class distribution before cleaning:', Counter(pipe.y_train['damage_grade']))\n",
    "print('Length overall:', len(pipe.y_train_raw['damage_grade']))\n",
    "\n",
    "# run the pipeline\n",
    "pipe.run()\n",
    "\n",
    "# Check the class distribution after outlier removal\n",
    "print('Class distribution after resampling:', Counter(pipe.y_train))\n",
    "print('Length overall:', len(pipe.y_train))\n",
    "# the length from both outputs should be the same\n"
   ]
  },
  {
   "attachments": {},
   "cell_type": "markdown",
   "metadata": {},
   "source": [
    "Decreasing the categorical threshold resultes in a better mcc score"
   ]
  },
  {
   "cell_type": "code",
   "execution_count": 5,
   "metadata": {},
   "outputs": [
    {
     "name": "stdout",
     "output_type": "stream",
     "text": [
      "loading data\n",
      "Class distribution before cleaning: Counter({2: 133433, 3: 78496, 1: 22611})\n",
      "Length overall: 260601\n",
      "preparing data\n",
      "running pipeline\n",
      "evaluating pipeline\n",
      "    validation_accuracy: 0.6601 [std=0.]\n",
      "    validation_f1-score: 0.5472 [std=0.]\n",
      "    validation_mcc: 0.3576 [std=0.]\n",
      "Class distribution after resampling: Counter({2: 133433, 3: 78496, 1: 22611})\n",
      "Length overall: 234540\n"
     ]
    }
   ],
   "source": [
    "# build and prepare pipeline\n",
    "pipe = build_pipeline.CustomPipeline(\n",
    "    skip_storing_prediction=True, \n",
    "    force_cleaning=True, \n",
    "    skip_storing_cleaning=True, \n",
    "    skip_evaluation=False, \n",
    "    use_validation_set=True,\n",
    "    use_cross_validation=False)\n",
    "add_test_steps(pipe)\n",
    "\n",
    "outlier_remover = pipeline_cleaning.OutlierRemover(cat_threshold=0.1, zscore_threshold=999)\n",
    "pipeline_utils.add_outlier_handling(\n",
    "        custom_pipeline=pipe,\n",
    "        outlier_handling_func=outlier_remover.handle_outliers\n",
    "    )\n",
    "\n",
    "# Check the class distribution before outlier removal\n",
    "print('Class distribution before cleaning:', Counter(pipe.y_train['damage_grade']))\n",
    "print('Length overall:', len(pipe.y_train_raw['damage_grade']))\n",
    "\n",
    "# run the pipeline\n",
    "pipe.run()\n",
    "\n",
    "# Check the class distribution after outlier removal\n",
    "print('Class distribution after resampling:', Counter(pipe.y_train))\n",
    "print('Length overall:', len(pipe.y_train))\n",
    "# the length from both outputs should be the same\n"
   ]
  },
  {
   "cell_type": "code",
   "execution_count": 6,
   "metadata": {},
   "outputs": [
    {
     "name": "stdout",
     "output_type": "stream",
     "text": [
      "loading data\n",
      "Class distribution before cleaning: Counter({2: 133433, 3: 78496, 1: 22611})\n",
      "Length overall: 260601\n",
      "preparing data\n",
      "running pipeline\n",
      "evaluating pipeline\n",
      "    validation_accuracy: 0.7129 [std=0.]\n",
      "    validation_f1-score: 0.6362 [std=0.]\n",
      "    validation_mcc: 0.4584 [std=0.]\n",
      "Class distribution after resampling: Counter({2: 133433, 3: 78496, 1: 22611})\n",
      "Length overall: 234540\n"
     ]
    }
   ],
   "source": [
    "# build and prepare pipeline\n",
    "pipe = build_pipeline.CustomPipeline(\n",
    "    skip_storing_prediction=True, \n",
    "    force_cleaning=True, \n",
    "    skip_storing_cleaning=True, \n",
    "    skip_evaluation=False, \n",
    "    use_validation_set=True,\n",
    "    use_cross_validation=False)\n",
    "add_test_steps(pipe)\n",
    "\n",
    "outlier_remover = pipeline_cleaning.OutlierRemover(cat_threshold=0.001, zscore_threshold=2)\n",
    "pipeline_utils.add_outlier_handling(\n",
    "        custom_pipeline=pipe,\n",
    "        outlier_handling_func=outlier_remover.handle_outliers\n",
    "    )\n",
    "\n",
    "# Check the class distribution before outlier removal\n",
    "print('Class distribution before cleaning:', Counter(pipe.y_train['damage_grade']))\n",
    "print('Length overall:', len(pipe.y_train_raw['damage_grade']))\n",
    "\n",
    "# run the pipeline\n",
    "pipe.run()\n",
    "\n",
    "# Check the class distribution after outlier removal\n",
    "print('Class distribution after resampling:', Counter(pipe.y_train))\n",
    "print('Length overall:', len(pipe.y_train))\n",
    "# the length from both outputs should be the same\n"
   ]
  },
  {
   "attachments": {},
   "cell_type": "markdown",
   "metadata": {},
   "source": [
    "Not applying any outlier removal on the categorial values seems to supply the best score. We set the `cat_threshold` at 0.\n",
    "In the next step we try out outlier removal of numerical values by adjusting the `zscore_value`"
   ]
  },
  {
   "cell_type": "code",
   "execution_count": 7,
   "metadata": {},
   "outputs": [
    {
     "name": "stdout",
     "output_type": "stream",
     "text": [
      "loading data\n",
      "Class distribution before cleaning: Counter({2: 133433, 3: 78496, 1: 22611})\n",
      "Length overall: 260601\n",
      "preparing data\n",
      "running pipeline\n",
      "evaluating pipeline\n",
      "    validation_accuracy: 0.7038 [std=0.]\n",
      "    validation_f1-score: 0.5852 [std=0.]\n",
      "    validation_mcc: 0.4322 [std=0.]\n",
      "Class distribution after resampling: Counter({2: 133433, 3: 78496, 1: 22611})\n",
      "Length overall: 234540\n"
     ]
    }
   ],
   "source": [
    "# build and prepare pipeline\n",
    "pipe = build_pipeline.CustomPipeline(\n",
    "    skip_storing_prediction=True, \n",
    "    force_cleaning=True, \n",
    "    skip_storing_cleaning=True, \n",
    "    skip_evaluation=False, \n",
    "    use_validation_set=True,\n",
    "    use_cross_validation=False)\n",
    "add_test_steps(pipe)\n",
    "\n",
    "outlier_remover = pipeline_cleaning.OutlierRemover(cat_threshold=0, zscore_threshold=0)\n",
    "pipeline_utils.add_outlier_handling(\n",
    "        custom_pipeline=pipe,\n",
    "        outlier_handling_func=outlier_remover.handle_outliers\n",
    "    )\n",
    "\n",
    "# Check the class distribution before outlier removal\n",
    "print('Class distribution before cleaning:', Counter(pipe.y_train['damage_grade']))\n",
    "print('Length overall:', len(pipe.y_train_raw['damage_grade']))\n",
    "\n",
    "# run the pipeline\n",
    "pipe.run()\n",
    "\n",
    "# Check the class distribution after outlier removal\n",
    "print('Class distribution after resampling:', Counter(pipe.y_train))\n",
    "print('Length overall:', len(pipe.y_train))\n",
    "# the length from both outputs should be the same\n"
   ]
  },
  {
   "attachments": {},
   "cell_type": "markdown",
   "metadata": {},
   "source": [
    "Lowering the `zscore threshold` to 0 removes all numerical features. The mcc score is worse in this case."
   ]
  },
  {
   "cell_type": "code",
   "execution_count": 15,
   "metadata": {},
   "outputs": [
    {
     "name": "stdout",
     "output_type": "stream",
     "text": [
      "loading data\n",
      "Class distribution before cleaning: Counter({2: 133433, 3: 78496, 1: 22611})\n",
      "Length overall: 260601\n",
      "preparing data\n",
      "running pipeline\n",
      "evaluating pipeline\n",
      "    validation_accuracy: 0.7179 [std=0.]\n",
      "    validation_f1-score: 0.6461 [std=0.]\n",
      "    validation_mcc: 0.4692 [std=0.]\n",
      "Class distribution after resampling: Counter({2: 133433, 3: 78496, 1: 22611})\n",
      "Length overall: 234540\n"
     ]
    }
   ],
   "source": [
    "# build and prepare pipeline\n",
    "pipe = build_pipeline.CustomPipeline(\n",
    "    skip_storing_prediction=True, \n",
    "    force_cleaning=True, \n",
    "    skip_storing_cleaning=True, \n",
    "    skip_evaluation=False, \n",
    "    use_validation_set=True,\n",
    "    use_cross_validation=False)\n",
    "add_test_steps(pipe)\n",
    "\n",
    "outlier_remover = pipeline_cleaning.OutlierRemover(cat_threshold=0, zscore_threshold=4)\n",
    "pipeline_utils.add_outlier_handling(\n",
    "        custom_pipeline=pipe,\n",
    "        outlier_handling_func=outlier_remover.handle_outliers\n",
    "    )\n",
    "\n",
    "# Check the class distribution before outlier removal\n",
    "print('Class distribution before cleaning:', Counter(pipe.y_train['damage_grade']))\n",
    "print('Length overall:', len(pipe.y_train_raw['damage_grade']))\n",
    "\n",
    "# run the pipeline\n",
    "pipe.run()\n",
    "\n",
    "# Check the class distribution after outlier removal\n",
    "print('Class distribution after resampling:', Counter(pipe.y_train))\n",
    "print('Length overall:', len(pipe.y_train))\n",
    "# the length from both outputs should be the same"
   ]
  },
  {
   "attachments": {},
   "cell_type": "markdown",
   "metadata": {},
   "source": [
    "Increasing the `zscore threshold` keeps more numerical values. In this case the mcc score is better then before."
   ]
  },
  {
   "attachments": {},
   "cell_type": "markdown",
   "metadata": {},
   "source": [
    "With the outlier thresholds from above we score a very good mcc score of 0.469 on the test data"
   ]
  }
 ],
 "metadata": {
  "kernelspec": {
   "display_name": "venv",
   "language": "python",
   "name": "python3"
  },
  "language_info": {
   "codemirror_mode": {
    "name": "ipython",
    "version": 3
   },
   "file_extension": ".py",
   "mimetype": "text/x-python",
   "name": "python",
   "nbconvert_exporter": "python",
   "pygments_lexer": "ipython3",
   "version": "3.11.3"
  },
  "orig_nbformat": 4
 },
 "nbformat": 4,
 "nbformat_minor": 2
}
