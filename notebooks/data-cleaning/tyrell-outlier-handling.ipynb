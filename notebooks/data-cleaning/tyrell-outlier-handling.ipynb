{
 "cells": [
  {
   "attachments": {},
   "cell_type": "markdown",
   "metadata": {},
   "source": [
    "# Handling Outliers\n",
    "In this notebook we try out different approaches for handling outliers"
   ]
  },
  {
   "cell_type": "code",
   "execution_count": 1,
   "metadata": {
    "tags": [
     "Preparation"
    ]
   },
   "outputs": [],
   "source": [
    "# imports \n",
    "import pandas as pd\n",
    "from src.pipelines import build_pipeline\n",
    "from src.pipelines import pipeline_utils\n",
    "from src.pipelines import pipeline_cleaning\n",
    "from collections import Counter\n",
    "\n",
    "# disable warnings globally\n",
    "import warnings\n",
    "warnings.filterwarnings(\"ignore\")\n",
    "\n",
    "# define the test steps for this notebook\n",
    "def add_test_steps(custom_pipeline: build_pipeline.CustomPipeline):    \n",
    "    # additional feature selection by removing certain columns\n",
    "    pipeline_utils.add_remove_feature_transformer(custom_pipeline, ['age'])\n",
    "    \n",
    "    # discretize numerical features\n",
    "    pipeline_utils.add_kbinsdiscretizer(custom_pipeline, number_of_bins=2)\n",
    "\n",
    "    # add encoder and scaler\n",
    "    pipeline_utils.add_binary_encoder_and_minmaxscaler(custom_pipeline)\n",
    "\n",
    "    # add estimator\n",
    "    pipeline_utils.apply_knn_classifier(custom_pipeline, 9)"
   ]
  },
  {
   "attachments": {},
   "cell_type": "markdown",
   "metadata": {},
   "source": [
    "First we take a look at the mcc score without any outlier handling:"
   ]
  },
  {
   "cell_type": "code",
   "execution_count": 2,
   "metadata": {},
   "outputs": [
    {
     "name": "stdout",
     "output_type": "stream",
     "text": [
      "loading data\n",
      "Class distribution before cleaning: Counter({2: 148259, 3: 87218, 1: 25124})\n",
      "Length overall: 260601\n",
      "preparing data\n",
      "running pipeline\n",
      "evaluating pipeline\n",
      "    fit_time: 7.112922239303589\n",
      "    score_time: 0.6036509513854981\n",
      "    test_accuracy: 0.6443797217210917\n",
      "    test_f1-score: 0.5262957731065031\n",
      "    test_mcc: 0.31777805062903136\n",
      "Class distribution after resampling: Counter({2: 148259, 3: 87218, 1: 25124})\n",
      "Length overall: 260601\n"
     ]
    }
   ],
   "source": [
    "# build and prepare pipeline\n",
    "pipe = build_pipeline.CustomPipeline(skip_storing_prediction=True, force_cleaning=True, skip_storing_cleaning=True, skip_evaluation=False)\n",
    "add_test_steps(pipe)\n",
    "pipeline_utils.apply_lgbm_classifier(pipe)\n",
    "\n",
    "# Lets look at the mcc score without outlier removal\n",
    "pipe.apply_outlier_handler(pipeline_cleaning.OutlierHandler()) # this is a dummy handler that doesn't change the outliers\n",
    "\n",
    "# Check the class distribution before outlier removal\n",
    "print('Class distribution before cleaning:', Counter(pipe.y_train['damage_grade']))\n",
    "print('Length overall:', len(pipe.y_train_raw['damage_grade']))\n",
    "\n",
    "# run the pipeline\n",
    "pipe.run()\n",
    "\n",
    "# Check the class distribution after outlier removal\n",
    "print('Class distribution after resampling:', Counter(pipe.y_train))\n",
    "print('Length overall:', len(pipe.y_train))\n",
    "# the length from both outputs should be the same\n"
   ]
  },
  {
   "attachments": {},
   "cell_type": "markdown",
   "metadata": {},
   "source": [
    "Next we try out different outlier removal options:"
   ]
  },
  {
   "cell_type": "code",
   "execution_count": 4,
   "metadata": {},
   "outputs": [
    {
     "name": "stdout",
     "output_type": "stream",
     "text": [
      "loading data\n",
      "Class distribution before cleaning: Counter({2: 148259, 3: 87218, 1: 25124})\n",
      "Length overall: 260601\n",
      "preparing data\n",
      "running pipeline\n",
      "evaluating pipeline\n",
      "    fit_time: 2.0616127014160157\n",
      "    score_time: 0.2197401523590088\n",
      "    test_accuracy: 0.7309687270196824\n",
      "    test_f1-score: 0.6165766727285675\n",
      "    test_mcc: 0.47585972410983696\n",
      "Class distribution after resampling: Counter({2: 28866, 3: 24710, 1: 1373})\n",
      "Length overall: 54949\n"
     ]
    }
   ],
   "source": [
    "# build and prepare pipeline\n",
    "pipe = build_pipeline.CustomPipeline(skip_storing_prediction=True, force_cleaning=True, skip_storing_cleaning=True, skip_evaluation=False)\n",
    "add_test_steps(pipe)\n",
    "pipeline_utils.apply_lgbm_classifier(pipe)\n",
    "\n",
    "outlier_remover = pipeline_cleaning.OutlierRemover(cat_threshold=0.2, zscore_threshold=2)\n",
    "\n",
    "pipe.apply_outlier_handler(outlier_remover)\n",
    "\n",
    "# Check the class distribution before outlier removal\n",
    "print('Class distribution before cleaning:', Counter(pipe.y_train['damage_grade']))\n",
    "print('Length overall:', len(pipe.y_train_raw['damage_grade']))\n",
    "\n",
    "# run the pipeline\n",
    "pipe.run()\n",
    "\n",
    "# Check the class distribution after outlier removal\n",
    "print('Class distribution after resampling:', Counter(pipe.y_train))\n",
    "print('Length overall:', len(pipe.y_train))\n",
    "# the length from both outputs should be the same\n"
   ]
  },
  {
   "attachments": {},
   "cell_type": "markdown",
   "metadata": {},
   "source": [
    "In the following we try out different values for the categorical data with `cat_threshold`"
   ]
  },
  {
   "cell_type": "code",
   "execution_count": 8,
   "metadata": {},
   "outputs": [
    {
     "name": "stdout",
     "output_type": "stream",
     "text": [
      "loading data\n",
      "Class distribution before cleaning: Counter({2: 148259, 3: 87218, 1: 25124})\n",
      "Length overall: 260601\n",
      "preparing data\n",
      "running pipeline\n",
      "evaluating pipeline\n",
      "    fit_time: 6.231108474731445\n",
      "    score_time: 0.5136741161346435\n",
      "    test_accuracy: 0.7184283403251899\n",
      "    test_f1-score: 0.6079346288226055\n",
      "    test_mcc: 0.45632142390423047\n",
      "Class distribution after resampling: Counter({2: 102586, 3: 67946, 1: 11823})\n",
      "Length overall: 182355\n"
     ]
    }
   ],
   "source": [
    "# build and prepare pipeline\n",
    "pipe = build_pipeline.CustomPipeline(skip_storing_prediction=True, force_cleaning=True, skip_storing_cleaning=True, skip_evaluation=False)\n",
    "add_test_steps(pipe)\n",
    "pipeline_utils.apply_lgbm_classifier(pipe)\n",
    "\n",
    "outlier_remover = pipeline_cleaning.OutlierRemover(cat_threshold=0.05, zscore_threshold=2)\n",
    "\n",
    "pipe.apply_outlier_handler(outlier_remover)\n",
    "\n",
    "# Check the class distribution before outlier removal\n",
    "print('Class distribution before cleaning:', Counter(pipe.y_train['damage_grade']))\n",
    "print('Length overall:', len(pipe.y_train_raw['damage_grade']))\n",
    "\n",
    "# run the pipeline\n",
    "pipe.run()\n",
    "\n",
    "# Check the class distribution after outlier removal\n",
    "print('Class distribution after resampling:', Counter(pipe.y_train))\n",
    "print('Length overall:', len(pipe.y_train))\n",
    "# the length from both outputs should be the same\n"
   ]
  },
  {
   "attachments": {},
   "cell_type": "markdown",
   "metadata": {},
   "source": [
    "Decreasing the categorical threshold resultes in a worse mcc score"
   ]
  },
  {
   "cell_type": "code",
   "execution_count": 10,
   "metadata": {},
   "outputs": [
    {
     "name": "stdout",
     "output_type": "stream",
     "text": [
      "loading data\n",
      "Class distribution before cleaning: Counter({2: 148259, 3: 87218, 1: 25124})\n",
      "Length overall: 260601\n",
      "preparing data\n",
      "running pipeline\n",
      "evaluating pipeline\n",
      "    fit_time: 1.0502899646759034\n",
      "    score_time: 0.10308704376220704\n",
      "    test_accuracy: 0.7279120251107697\n",
      "    test_f1-score: 0.6237066857126063\n",
      "    test_mcc: 0.47028671487216034\n",
      "Class distribution after resampling: Counter({2: 12540, 3: 10276, 1: 647})\n",
      "Length overall: 23463\n"
     ]
    }
   ],
   "source": [
    "# build and prepare pipeline\n",
    "pipe = build_pipeline.CustomPipeline(skip_storing_prediction=True, force_cleaning=True, skip_storing_cleaning=True, skip_evaluation=False)\n",
    "add_test_steps(pipe)\n",
    "pipeline_utils.apply_lgbm_classifier(pipe)\n",
    "\n",
    "outlier_remover = pipeline_cleaning.OutlierRemover(cat_threshold=0.3, zscore_threshold=2)\n",
    "\n",
    "pipe.apply_outlier_handler(outlier_remover)\n",
    "\n",
    "# Check the class distribution before outlier removal\n",
    "print('Class distribution before cleaning:', Counter(pipe.y_train['damage_grade']))\n",
    "print('Length overall:', len(pipe.y_train_raw['damage_grade']))\n",
    "\n",
    "# run the pipeline\n",
    "pipe.run()\n",
    "\n",
    "# Check the class distribution after outlier removal\n",
    "print('Class distribution after resampling:', Counter(pipe.y_train))\n",
    "print('Length overall:', len(pipe.y_train))\n",
    "# the length from both outputs should be the same\n"
   ]
  },
  {
   "cell_type": "code",
   "execution_count": 17,
   "metadata": {},
   "outputs": [
    {
     "name": "stdout",
     "output_type": "stream",
     "text": [
      "loading data\n",
      "Class distribution before cleaning: Counter({2: 148259, 3: 87218, 1: 25124})\n",
      "Length overall: 260601\n",
      "preparing data\n",
      "running pipeline\n",
      "evaluating pipeline\n",
      "    fit_time: 1.7402104377746581\n",
      "    score_time: 0.1529468536376953\n",
      "    test_accuracy: 0.7430417357615406\n",
      "    test_f1-score: 0.6189715534362922\n",
      "    test_mcc: 0.49763506127692103\n",
      "Class distribution after resampling: Counter({2: 21530, 3: 17520, 1: 1081})\n",
      "Length overall: 40131\n"
     ]
    }
   ],
   "source": [
    "# build and prepare pipeline\n",
    "pipe = build_pipeline.CustomPipeline(skip_storing_prediction=True, force_cleaning=True, skip_storing_cleaning=True, skip_evaluation=False)\n",
    "add_test_steps(pipe)\n",
    "pipeline_utils.apply_lgbm_classifier(pipe)\n",
    "\n",
    "outlier_remover = pipeline_cleaning.OutlierRemover(cat_threshold=0.26, zscore_threshold=2)\n",
    "\n",
    "pipe.apply_outlier_handler(outlier_remover)\n",
    "\n",
    "# Check the class distribution before outlier removal\n",
    "print('Class distribution before cleaning:', Counter(pipe.y_train['damage_grade']))\n",
    "print('Length overall:', len(pipe.y_train_raw['damage_grade']))\n",
    "\n",
    "# run the pipeline\n",
    "pipe.run()\n",
    "\n",
    "# Check the class distribution after outlier removal\n",
    "print('Class distribution after resampling:', Counter(pipe.y_train))\n",
    "print('Length overall:', len(pipe.y_train))\n",
    "# the length from both outputs should be the same\n"
   ]
  },
  {
   "attachments": {},
   "cell_type": "markdown",
   "metadata": {},
   "source": [
    "With an `cat_threshold` of 0.26 the mcc score increases a lot.  \n",
    "In the next step we try out outlier removal of numerical values by adjusting the `zscore_value`"
   ]
  },
  {
   "cell_type": "code",
   "execution_count": 2,
   "metadata": {},
   "outputs": [
    {
     "name": "stdout",
     "output_type": "stream",
     "text": [
      "loading data\n",
      "Class distribution before cleaning: Counter({2: 148259, 3: 87218, 1: 25124})\n",
      "Length overall: 260601\n",
      "preparing data\n",
      "running pipeline\n",
      "evaluating pipeline\n",
      "    fit_time: 0.9579393863677979\n",
      "    score_time: 0.11315603256225586\n",
      "    test_accuracy: 0.7374778943148274\n",
      "    test_f1-score: 0.6359166321950342\n",
      "    test_mcc: 0.48379876708728353\n",
      "Class distribution after resampling: Counter({2: 12755, 3: 9224, 1: 800})\n",
      "Length overall: 22779\n"
     ]
    }
   ],
   "source": [
    "# build and prepare pipeline\n",
    "pipe = build_pipeline.CustomPipeline(skip_storing_prediction=True, force_cleaning=True, skip_storing_cleaning=True, skip_evaluation=False)\n",
    "add_test_steps(pipe)\n",
    "pipeline_utils.apply_lgbm_classifier(pipe)\n",
    "\n",
    "outlier_remover = pipeline_cleaning.OutlierRemover(cat_threshold=0.26, zscore_threshold=0)\n",
    "\n",
    "pipe.apply_outlier_handler(outlier_remover)\n",
    "\n",
    "# Check the class distribution before outlier removal\n",
    "print('Class distribution before cleaning:', Counter(pipe.y_train['damage_grade']))\n",
    "print('Length overall:', len(pipe.y_train_raw['damage_grade']))\n",
    "\n",
    "# run the pipeline\n",
    "pipe.run()\n",
    "\n",
    "# Check the class distribution after outlier removal\n",
    "print('Class distribution after resampling:', Counter(pipe.y_train))\n",
    "print('Length overall:', len(pipe.y_train))\n",
    "# the length from both outputs should be the same\n"
   ]
  },
  {
   "attachments": {},
   "cell_type": "markdown",
   "metadata": {},
   "source": [
    "Lowering the `zscore threshold` to 0 removes all numerical features. The mcc score is worse in this case."
   ]
  },
  {
   "cell_type": "code",
   "execution_count": 4,
   "metadata": {},
   "outputs": [
    {
     "name": "stdout",
     "output_type": "stream",
     "text": [
      "loading data\n",
      "Class distribution before cleaning: Counter({2: 148259, 3: 87218, 1: 25124})\n",
      "Length overall: 260601\n",
      "preparing data\n",
      "running pipeline\n",
      "evaluating pipeline\n",
      "    fit_time: 1.4093745231628418\n",
      "    score_time: 0.13780512809753417\n",
      "    test_accuracy: 0.7404315841004674\n",
      "    test_f1-score: 0.6133692957091037\n",
      "    test_mcc: 0.4925470548443788\n",
      "Class distribution after resampling: Counter({2: 21580, 3: 17573, 1: 1083})\n",
      "Length overall: 40236\n"
     ]
    }
   ],
   "source": [
    "# build and prepare pipeline\n",
    "pipe = build_pipeline.CustomPipeline(skip_storing_prediction=True, force_cleaning=True, skip_storing_cleaning=True, skip_evaluation=False)\n",
    "add_test_steps(pipe)\n",
    "pipeline_utils.apply_lgbm_classifier(pipe)\n",
    "\n",
    "outlier_remover = pipeline_cleaning.OutlierRemover(cat_threshold=0.26, zscore_threshold=4)\n",
    "\n",
    "pipe.apply_outlier_handler(outlier_remover)\n",
    "\n",
    "# Check the class distribution before outlier removal\n",
    "print('Class distribution before cleaning:', Counter(pipe.y_train['damage_grade']))\n",
    "print('Length overall:', len(pipe.y_train_raw['damage_grade']))\n",
    "\n",
    "# run the pipeline\n",
    "pipe.run()\n",
    "\n",
    "# Check the class distribution after outlier removal\n",
    "print('Class distribution after resampling:', Counter(pipe.y_train))\n",
    "print('Length overall:', len(pipe.y_train))\n",
    "# the length from both outputs should be the same"
   ]
  },
  {
   "attachments": {},
   "cell_type": "markdown",
   "metadata": {},
   "source": [
    "Increasing the `zscore threshold` keeps more numerical values. In this case the mcc score is also worse then before."
   ]
  },
  {
   "cell_type": "code",
   "execution_count": 5,
   "metadata": {},
   "outputs": [
    {
     "name": "stdout",
     "output_type": "stream",
     "text": [
      "loading data\n",
      "preparing data\n",
      "running pipeline\n",
      "evaluating pipeline\n",
      "    fit_time: 1.3670090198516847\n",
      "    score_time: 0.12748055458068847\n",
      "    test_accuracy: 0.7439723293503182\n",
      "    test_f1-score: 0.6330425745590418\n",
      "    test_mcc: 0.5017422856729208\n",
      "Class distribution after resampling: Counter({2: 18048, 3: 14953, 1: 925})\n",
      "Length overall: 33926\n"
     ]
    }
   ],
   "source": [
    "# build and prepare pipeline\n",
    "pipe = build_pipeline.CustomPipeline(skip_storing_prediction=True, force_cleaning=True, skip_storing_cleaning=True, skip_evaluation=False)\n",
    "add_test_steps(pipe)\n",
    "pipeline_utils.apply_lgbm_classifier(pipe)\n",
    "\n",
    "outlier_remover = pipeline_cleaning.OutlierRemover(cat_threshold=0.26, zscore_threshold=2.3)\n",
    "pipe.apply_outlier_handler(outlier_remover)\n",
    "\n",
    "# Check the class distribution before outlier removal\n",
    "print('Class distribution before cleaning:', Counter(pipe.y_train['damage_grade']))\n",
    "print('Length overall:', len(pipe.y_train_raw['damage_grade']))\n",
    "\n",
    "# run the pipeline\n",
    "pipe.run()\n",
    "\n",
    "# Check the class distribution after outlier removal\n",
    "print('Class distribution after resampling:', Counter(pipe.y_train))\n",
    "print('Length overall:', len(pipe.y_train))\n",
    "# the length from both outputs should be the same"
   ]
  },
  {
   "attachments": {},
   "cell_type": "markdown",
   "metadata": {},
   "source": [
    "With the outlier thresholds from above we score a very good mcc score of 0.5."
   ]
  }
 ],
 "metadata": {
  "kernelspec": {
   "display_name": "venv",
   "language": "python",
   "name": "python3"
  },
  "language_info": {
   "codemirror_mode": {
    "name": "ipython",
    "version": 3
   },
   "file_extension": ".py",
   "mimetype": "text/x-python",
   "name": "python",
   "nbconvert_exporter": "python",
   "pygments_lexer": "ipython3",
   "version": "3.11.3"
  },
  "orig_nbformat": 4
 },
 "nbformat": 4,
 "nbformat_minor": 2
}
